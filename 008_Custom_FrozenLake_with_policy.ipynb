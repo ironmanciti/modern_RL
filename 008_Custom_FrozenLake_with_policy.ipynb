{
 "cells": [
  {
   "cell_type": "markdown",
   "id": "118424d9",
   "metadata": {},
   "source": [
    "# 008_Custom_FrozenLake_with_policy \n",
    "\n",
    "- Gym의 [Frozen Lake 환경](https://www.gymlibrary.ml/environments/toy_text/frozen_lake/)을 모방하여 직접 Custom 환경을 작성  \n",
    "- deterministic policy를 가지고 있는 경우 n_game 회의 시도를 하여 미로에서 목적지를 찾아가는 성공 확률 계산"
   ]
  },
  {
   "cell_type": "markdown",
   "id": "cd886052",
   "metadata": {},
   "source": [
    "```\n",
    "LEFT - 0, DOWN - 1, RIGHT - 2, UP - 3\n",
    "\n",
    "SFFF       (S: starting point, safe)\n",
    "FHFH       (F: frozen surface, safe)\n",
    "FFFH       (H: hole, fall to your doom)\n",
    "HFFG       (G: goal, where the frisbee is located)\n",
    "```"
   ]
  },
  {
   "cell_type": "code",
   "execution_count": 36,
   "id": "a482e0eb",
   "metadata": {},
   "outputs": [],
   "source": [
    "import matplotlib.pyplot as plt\n",
    "import numpy as np"
   ]
  },
  {
   "cell_type": "code",
   "execution_count": 59,
   "id": "a72d4613",
   "metadata": {},
   "outputs": [],
   "source": [
    "class CustomFrozenLake:\n",
    "    terrain_color = dict(normal=[128, 128, 128],\n",
    "                                   objective=[255, 0, 0],\n",
    "                                   hole=[0, 0, 255],\n",
    "                                   player=[0, 255, 0])\n",
    "        \n",
    "    def __init__(self):\n",
    "        self.grid = self.terrain_color['normal'] * np.ones((4, 4, 3))\n",
    "        self.grid[0, 0] = self.terrain_color['player']\n",
    "        self.grid[1,1] = self.terrain_color['hole']\n",
    "        self.grid[1,3] = self.terrain_color['hole']\n",
    "        self.grid[2,3] = self.terrain_color['hole']\n",
    "        self.grid[3,0] = self.terrain_color['hole']\n",
    "        self.grid[-1, -1] = self.terrain_color['objective']\n",
    "    \n",
    "        self.render()\n",
    "            \n",
    "    def render(self):\n",
    "        self.fig, self.ax = plt.subplots(figsize=(12, 4))\n",
    "        self.ax.grid(which='minor') \n",
    "        for idx in range(4 * 4):\n",
    "            self.ax.text(*self._id_to_position(idx)[::-1], \n",
    "                         str(idx)+'/'+str(self._id_to_position(idx)),\n",
    "                        horizontalalignment=\"center\") \n",
    "         \n",
    "        self.ax.imshow(self.grid.astype(np.uint8))        \n",
    "        self.ax.set_xticks(np.arange(4))\n",
    "        self.ax.set_xticks(np.arange(4) - 0.5, minor=True)\n",
    "        self.ax.set_yticks(np.arange(4))\n",
    "        self.ax.set_yticks(np.arange(4) - 0.5, minor=True)\n",
    "      \n",
    "    def _id_to_position(self, idx):\n",
    "        return (idx // 4), (idx % 4)  # (y, x)\n",
    "    \n",
    "    def reset(self):\n",
    "        self.player = (0, 0)        \n",
    "        return self._position_to_id(self.player)\n",
    "    \n",
    "    def _position_to_id(self, pos):\n",
    "        ''' x, y 좌표를 unique ID 로 mapping --> y * 4 + x \n",
    "            pos : (y, x) \n",
    "        '''\n",
    "        return pos[0] * 4 + pos[1]  \n",
    "\n",
    "    def step(self, action):\n",
    "        # UP = 0, DOWN = 1, RIGHT = 2, LEFT = 3\n",
    "        # player 좌표: (y, x)\n",
    "        if action == 0 and self.player[0] > 0:\n",
    "            self.player = (self.player[0] - 1, self.player[1])\n",
    "        if action == 1 and self.player[0] < 3:\n",
    "            self.player = (self.player[0] + 1, self.player[1])\n",
    "        if action == 2 and self.player[1] < 3:\n",
    "            self.player = (self.player[0], self.player[1] + 1)\n",
    "        if action == 3 and self.player[1] > 0:\n",
    "            self.player = (self.player[0], self.player[1] - 1)\n",
    "            \n",
    "        # Rules\n",
    "        if all(self.grid[self.player] == self.terrain_color['hole']):\n",
    "            reward = -1\n",
    "            done = True\n",
    "        elif all(self.grid[self.player] == self.terrain_color['objective']):\n",
    "            reward = 5\n",
    "            done = True\n",
    "        else:\n",
    "            reward = -1\n",
    "            done = False\n",
    "            \n",
    "        return self._position_to_id(self.player), reward, done"
   ]
  },
  {
   "cell_type": "code",
   "execution_count": 60,
   "id": "00ecc574",
   "metadata": {},
   "outputs": [
    {
     "data": {
      "text/plain": [
       "<__main__.CustomFrozenLake at 0x151c12d9430>"
      ]
     },
     "execution_count": 60,
     "metadata": {},
     "output_type": "execute_result"
    },
    {
     "data": {
      "image/png": "[encoded data removed]",
      "text/plain": [
       "<Figure size 864x288 with 1 Axes>"
      ]
     },
     "metadata": {
      "needs_background": "light"
     },
     "output_type": "display_data"
    }
   ],
   "source": [
    "env = CustomFrozenLake()\n",
    "env"
   ]
  },
  {
   "cell_type": "code",
   "execution_count": 61,
   "id": "e1c0dd5b",
   "metadata": {},
   "outputs": [],
   "source": [
    "LEFT = 0\n",
    "DOWN = 1\n",
    "RIGHT = 2\n",
    "UP = 3\n",
    "actions = [ 'LEFT', 'DOWN', 'RIGHT', 'UP']"
   ]
  },
  {
   "cell_type": "code",
   "execution_count": 62,
   "id": "cd7bc605",
   "metadata": {},
   "outputs": [],
   "source": [
    "# Simple deterministic Policy\n",
    "policy = {0: DOWN, 1: RIGHT, 2: DOWN, 3: LEFT, 4: DOWN, 6: DOWN, \n",
    "              8: RIGHT, 9: DOWN, 10: DOWN, 13: RIGHT, 14: RIGHT}\n",
    "\n",
    "n_games = 1000\n",
    "win_pct = []\n",
    "scores = []\n",
    "\n",
    "for i in range(n_games):\n",
    "    done = False\n",
    "    obs = env.reset()\n",
    "    score = 0\n",
    "    while not done:\n",
    "        action = policy[obs]  # simple deterministic policy\n",
    "        #action = np.random.randint(4)   # random action policy\n",
    "        obs, reward, done = env.step(action)\n",
    "        score += reward\n",
    "        \n",
    "    scores.append(score)\n",
    "\n",
    "    if i % 10:\n",
    "        average = np.mean(scores[-10:])  # 최근 10 episode 의 평균 score\n",
    "        win_pct.append(average)"
   ]
  },
  {
   "cell_type": "code",
   "execution_count": 63,
   "id": "0580be17",
   "metadata": {},
   "outputs": [
    {
     "data": {
      "image/png": "[encoded data removed]",
      "text/plain": [
       "<Figure size 432x288 with 1 Axes>"
      ]
     },
     "metadata": {
      "needs_background": "light"
     },
     "output_type": "display_data"
    }
   ],
   "source": [
    "plt.plot(win_pct)\n",
    "plt.xlabel('episode')\n",
    "plt.ylabel('mean score')\n",
    "plt.title('last 10 average score\\n - {}')\n",
    "plt.show()"
   ]
  },
  {
   "cell_type": "code",
   "execution_count": null,
   "id": "d0ae1a86",
   "metadata": {},
   "outputs": [],
   "source": []
  }
 ],
 "metadata": {
  "kernelspec": {
   "display_name": "Python 3 (ipykernel)",
   "language": "python",
   "name": "python3"
  },
  "language_info": {
   "codemirror_mode": {
    "name": "ipython",
    "version": 3
   },
   "file_extension": ".py",
   "mimetype": "text/x-python",
   "name": "python",
   "nbconvert_exporter": "python",
   "pygments_lexer": "ipython3",
   "version": "3.8.12"
  }
 },
 "nbformat": 4,
 "nbformat_minor": 5
}
