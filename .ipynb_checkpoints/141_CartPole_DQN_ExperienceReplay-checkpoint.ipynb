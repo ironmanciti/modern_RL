{
 "cells": [
  {
   "cell_type": "markdown",
   "id": "0a5ce485",
   "metadata": {
    "id": "0a5ce485"
   },
   "source": [
    "# 141_CartPole_DQN_ExperienceReplay\n",
    "\n",
    "## Pytorch 를 이용한 Deep Neural Network 으로 함수 근사 구현\n",
    "\n",
    "### CartPole-V1\n",
    "\n",
    "- 모든 observation 은 ±0.05 사이의 uniform random value 로 시작  \n",
    "\n",
    "\n",
    "- Episode Termination  \n",
    "    막대의 각도가 ±12° (0.209 radian) 초과 → Lose  \n",
    "    Cart 의 위치가 ±2.4 초과 (cart의 center가 양끝단을 초과, |x| ≥ 2.4) → Lose  \n",
    "    Episode  길이가 200 이상  → Win  \n",
    "    Done = 1\n",
    "\n",
    "<img src=\"https://static.packt-cdn.com/products/9781788629416/graphics/B08956_09_14.jpg\" width=400/>\n",
    "\n",
    "### Neural Network 입, 출력\n",
    "Input – observation (위치, 속도, 각도, 가속도)  \n",
    "Output – action (left, right)  \n",
    "\n",
    "Experience Replay 구현  \n",
    "\n",
    "“Playing Atari with Deep Reinforcement Learning – 2013, DeepMind” 논문의 알고리즘을 그대로 구현"
   ]
  },
  {
   "cell_type": "code",
   "execution_count": 1,
   "id": "IT0Q-q1av5wA",
   "metadata": {
    "id": "IT0Q-q1av5wA"
   },
   "outputs": [],
   "source": [
    "# install dependencies needed for recording videos\n",
    "!apt-get install -y xvfb x11-utils > tmp\n",
    "!pip install -q pyvirtualdisplay==0.2.*"
   ]
  },
  {
   "cell_type": "code",
   "execution_count": 2,
   "id": "1kGMW_YrwCzX",
   "metadata": {
    "id": "1kGMW_YrwCzX"
   },
   "outputs": [],
   "source": [
    "from pyvirtualdisplay import Display\n",
    "display = Display(visible=False, size=(1400, 900))\n",
    "_ = display.start()\n",
    "\n",
    "from base64 import b64encode\n",
    "def render_mp4(videopath: str) -> str:\n",
    "  \"\"\"\n",
    "  Gets a string containing a b4-encoded version of the MP4 video\n",
    "  at the specified path.\n",
    "  \"\"\"\n",
    "  mp4 = open(videopath, 'rb').read()\n",
    "  base64_encoded_mp4 = b64encode(mp4).decode()\n",
    "  return f'<video width=400 controls><source src=\"data:video/mp4;' \\\n",
    "         f'base64,{base64_encoded_mp4}\" type=\"video/mp4\"></video>'"
   ]
  },
  {
   "cell_type": "code",
   "execution_count": 3,
   "id": "valuable-chemistry",
   "metadata": {
    "colab": {
     "base_uri": "https://localhost:8080/"
    },
    "id": "valuable-chemistry",
    "outputId": "3e85f451-e601-4c08-f69e-6ebf90864a8d"
   },
   "outputs": [
    {
     "data": {
      "text/plain": [
       "device(type='cuda')"
      ]
     },
     "execution_count": 3,
     "metadata": {},
     "output_type": "execute_result"
    }
   ],
   "source": [
    "import gym\n",
    "import math\n",
    "import random\n",
    "import time\n",
    "import numpy as np\n",
    "import matplotlib.pyplot as plt\n",
    "from itertools import count\n",
    "from collections import namedtuple\n",
    "\n",
    "import torch\n",
    "import torch.nn as nn\n",
    "import torch.optim as optim\n",
    "import torch.nn.functional as F\n",
    "import torchvision.transforms as T\n",
    "\n",
    "# if gpu is to be used\n",
    "device = torch.device(\"cuda\" if torch.cuda.is_available() else \"cpu\")\n",
    "device"
   ]
  },
  {
   "cell_type": "code",
   "execution_count": 4,
   "id": "viral-continuity",
   "metadata": {
    "colab": {
     "base_uri": "https://localhost:8080/"
    },
    "id": "viral-continuity",
    "outputId": "2d274c7a-abdc-455e-9868-ddab45737373"
   },
   "outputs": [
    {
     "name": "stdout",
     "output_type": "stream",
     "text": [
      "4 2\n"
     ]
    }
   ],
   "source": [
    "# env_name = 'CartPole-v0'  # v0-200, v1-500 steps\n",
    "env_name = 'CartPole-v1' \n",
    "env = gym.make(env_name)  \n",
    "\n",
    "seed_val = 23\n",
    "env.seed(seed_val)\n",
    "torch.manual_seed(seed_val)\n",
    "#--- hyper-parameters -----\n",
    "num_episodes = 100 \n",
    "gamma = 0.999\n",
    "learning_rate = 0.001  # faster or stable training\n",
    "replay_memory_size = 50000\n",
    "batch_size = 128\n",
    "hidden_layer = 64\n",
    "\n",
    "EPS_START = 0.9\n",
    "EPS_END = 0.05\n",
    "EPS_DECAY = 200\n",
    "\n",
    "n_inputs = env.observation_space.shape[0]  \n",
    "n_outputs = env.action_space.n  \n",
    "print(n_inputs, n_outputs)"
   ]
  },
  {
   "cell_type": "code",
   "execution_count": 5,
   "id": "imported-article",
   "metadata": {
    "id": "imported-article"
   },
   "outputs": [],
   "source": [
    "class ExperienceReplay:\n",
    "    def __init__(self, capacity):\n",
    "        self.capacity = capacity\n",
    "        self.memory = []\n",
    "        self.position = 0\n",
    "\n",
    "    def push(self, state, action, next_state, reward, done):\n",
    "        transition = (state, action, next_state, reward, done)\n",
    "\n",
    "        if self.position >= len(self.memory):\n",
    "            self.memory.append(transition)\n",
    "        else:\n",
    "            self.memory[self.position] = transition\n",
    "\n",
    "        self.position = (self.position + 1) % self.capacity\n",
    "\n",
    "    def sample(self, batch_size):\n",
    "        return zip(*random.sample(self.memory, batch_size))\n",
    "\n",
    "    def __len__(self):\n",
    "        return len(self.memory)\n",
    "\n",
    "class NeuralNetwork(nn.Module):\n",
    "    def __init__(self):\n",
    "        super(NeuralNetwork, self).__init__()\n",
    "        self.linear1 = nn.Linear(n_inputs, hidden_layer)\n",
    "        self.linear2 = nn.Linear(hidden_layer, hidden_layer//2)\n",
    "        self.linear3 = nn.Linear(hidden_layer//2, n_outputs)\n",
    "\n",
    "    def forward(self, x):\n",
    "        a1 = F.relu(self.linear1(x))\n",
    "        a2 = F.relu(self.linear2(a1))\n",
    "        output = self.linear3(a2)\n",
    "        return output\n",
    "\n",
    "# e-greedy action selection\n",
    "def select_action(state, steps_done):\n",
    "    sample = random.random()\n",
    "    eps_threshold = EPS_END + (EPS_START - EPS_END) * \\\n",
    "        math.exp(-1. * steps_done / EPS_DECAY)\n",
    "        \n",
    "    if sample > eps_threshold:\n",
    "        with torch.no_grad():\n",
    "            state = torch.Tensor(state).to(device)\n",
    "            action_values = Q(state)\n",
    "            action = torch.argmax(action_values).item()\n",
    "    else:\n",
    "        action = env.action_space.sample()\n",
    "    return action"
   ]
  },
  {
   "cell_type": "markdown",
   "id": "aae146a2",
   "metadata": {
    "id": "aae146a2"
   },
   "source": [
    "### Playing Atari with Deep Reinforcement Learning – 2013, DeepMind\n",
    "\n",
    "<img src=\"https://jaydottechdotblog.files.wordpress.com/2017/01/rl-deep-q-learning-algorithmpaper.png\" width=700 />"
   ]
  },
  {
   "cell_type": "code",
   "execution_count": 6,
   "id": "alive-bulgarian",
   "metadata": {
    "colab": {
     "base_uri": "https://localhost:8080/"
    },
    "id": "alive-bulgarian",
    "outputId": "fa7cdf98-4519-4509-efdf-e4c7368729a1",
    "scrolled": true
   },
   "outputs": [
    {
     "name": "stdout",
     "output_type": "stream",
     "text": [
      "0 episode finished after 18.0 rewards\n",
      "1 episode finished after 19.0 rewards\n",
      "2 episode finished after 16.0 rewards\n",
      "3 episode finished after 15.0 rewards\n",
      "4 episode finished after 27.0 rewards\n",
      "5 episode finished after 10.0 rewards\n",
      "6 episode finished after 13.0 rewards\n",
      "7 episode finished after 11.0 rewards\n",
      "8 episode finished after 11.0 rewards\n",
      "9 episode finished after 19.0 rewards\n",
      "10 episode finished after 12.0 rewards\n",
      "11 episode finished after 12.0 rewards\n"
     ]
    },
    {
     "name": "stderr",
     "output_type": "stream",
     "text": [
      "/usr/local/lib/python3.7/dist-packages/ipykernel_launcher.py:40: UserWarning: Creating a tensor from a list of numpy.ndarrays is extremely slow. Please consider converting the list to a single numpy.ndarray with numpy.array() before converting to a tensor. (Triggered internally at  ../torch/csrc/utils/tensor_new.cpp:201.)\n"
     ]
    },
    {
     "name": "stdout",
     "output_type": "stream",
     "text": [
      "12 episode finished after 14.0 rewards\n",
      "13 episode finished after 9.0 rewards\n",
      "14 episode finished after 9.0 rewards\n",
      "15 episode finished after 17.0 rewards\n",
      "16 episode finished after 11.0 rewards\n",
      "17 episode finished after 9.0 rewards\n",
      "18 episode finished after 8.0 rewards\n",
      "19 episode finished after 9.0 rewards\n",
      "20 episode finished after 9.0 rewards\n",
      "21 episode finished after 9.0 rewards\n",
      "22 episode finished after 12.0 rewards\n",
      "23 episode finished after 10.0 rewards\n",
      "24 episode finished after 13.0 rewards\n",
      "25 episode finished after 30.0 rewards\n",
      "26 episode finished after 19.0 rewards\n",
      "27 episode finished after 11.0 rewards\n",
      "28 episode finished after 11.0 rewards\n",
      "29 episode finished after 12.0 rewards\n",
      "30 episode finished after 15.0 rewards\n",
      "31 episode finished after 10.0 rewards\n",
      "32 episode finished after 10.0 rewards\n",
      "33 episode finished after 10.0 rewards\n",
      "34 episode finished after 10.0 rewards\n",
      "35 episode finished after 12.0 rewards\n",
      "36 episode finished after 37.0 rewards\n",
      "37 episode finished after 30.0 rewards\n",
      "38 episode finished after 31.0 rewards\n",
      "39 episode finished after 31.0 rewards\n",
      "40 episode finished after 44.0 rewards\n",
      "41 episode finished after 47.0 rewards\n",
      "42 episode finished after 41.0 rewards\n",
      "43 episode finished after 44.0 rewards\n",
      "44 episode finished after 70.0 rewards\n",
      "45 episode finished after 94.0 rewards\n",
      "46 episode finished after 94.0 rewards\n",
      "47 episode finished after 83.0 rewards\n",
      "48 episode finished after 141.0 rewards\n",
      "49 episode finished after 251.0 rewards\n",
      "50 episode finished after 404.0 rewards\n",
      "51 episode finished after 430.0 rewards\n",
      "52 episode finished after 238.0 rewards\n",
      "53 episode finished after 129.0 rewards\n",
      "54 episode finished after 104.0 rewards\n",
      "55 episode finished after 94.0 rewards\n",
      "56 episode finished after 213.0 rewards\n",
      "57 episode finished after 113.0 rewards\n",
      "58 episode finished after 191.0 rewards\n",
      "59 episode finished after 100.0 rewards\n",
      "60 episode finished after 258.0 rewards\n",
      "61 episode finished after 95.0 rewards\n",
      "62 episode finished after 90.0 rewards\n",
      "63 episode finished after 231.0 rewards\n",
      "64 episode finished after 194.0 rewards\n",
      "65 episode finished after 92.0 rewards\n",
      "66 episode finished after 162.0 rewards\n",
      "67 episode finished after 134.0 rewards\n",
      "68 episode finished after 154.0 rewards\n",
      "69 episode finished after 500.0 rewards\n",
      "70 episode finished after 500.0 rewards\n",
      "71 episode finished after 500.0 rewards\n",
      "72 episode finished after 500.0 rewards\n",
      "73 episode finished after 145.0 rewards\n",
      "74 episode finished after 203.0 rewards\n",
      "75 episode finished after 500.0 rewards\n",
      "76 episode finished after 500.0 rewards\n",
      "77 episode finished after 500.0 rewards\n",
      "78 episode finished after 500.0 rewards\n",
      "79 episode finished after 500.0 rewards\n",
      "80 episode finished after 500.0 rewards\n",
      "81 episode finished after 500.0 rewards\n",
      "82 episode finished after 500.0 rewards\n",
      "83 episode finished after 500.0 rewards\n",
      "84 episode finished after 500.0 rewards\n",
      "85 episode finished after 500.0 rewards\n",
      "86 episode finished after 500.0 rewards\n",
      "87 episode finished after 500.0 rewards\n",
      "88 episode finished after 500.0 rewards\n",
      "89 episode finished after 500.0 rewards\n",
      "90 episode finished after 500.0 rewards\n",
      "91 episode finished after 500.0 rewards\n",
      "92 episode finished after 500.0 rewards\n",
      "93 episode finished after 500.0 rewards\n",
      "94 episode finished after 500.0 rewards\n",
      "95 episode finished after 500.0 rewards\n",
      "96 episode finished after 500.0 rewards\n",
      "97 episode finished after 500.0 rewards\n",
      "98 episode finished after 500.0 rewards\n",
      "99 episode finished after 500.0 rewards\n"
     ]
    }
   ],
   "source": [
    "#Initialize replay memory D to capacity N\n",
    "memory = ExperienceReplay(replay_memory_size)\n",
    "\n",
    "#Initialize action-value function Q with random weights\n",
    "Q = NeuralNetwork().to(device)\n",
    "criterion = nn.MSELoss()\n",
    "optimizer = optim.Adam(Q.parameters(), lr=learning_rate)\n",
    "\n",
    "reward_history = []\n",
    "total_steps = 0\n",
    "reward = 0\n",
    "start_time = time.time()\n",
    "\n",
    "#for episode = 1, M do\n",
    "for i_episode in range(num_episodes):\n",
    "    #Initialize sequence s1={x1} and preprocessed sequenced f1=f(s1)\n",
    "\n",
    "    s = env.reset()\n",
    "    reward = 0\n",
    "    #for t=1, T do\n",
    "    while True:\n",
    "        total_steps += 1\n",
    "        \n",
    "        #With probability e select a random action a_t\n",
    "        #otherwise select a_t = max_a Q*(f(S_t),a;theta)\n",
    "        a = select_action(s, total_steps)\n",
    "\n",
    "        #Execute action a_t in emulator and observe reward r_t and image x_t+1\n",
    "        #Set s_t+1, a_t, x_t+1 and preprocesse f_t+1=f(s_t+1)\n",
    "        s_, r, done, _ = env.step(a)\n",
    "        reward += r\n",
    "        \n",
    "        #Store transition(f_t, a_t, r_t, f_t+1) in D\n",
    "        memory.push(s, a, s_, r, done)\n",
    "\n",
    "        if len(memory) >= batch_size:\n",
    "            #Sample random minibatch of transitions(f_j,a_j,r_j,f_j+1) from D\n",
    "            states, actions, next_states, rewards, dones = memory.sample(batch_size)\n",
    "\n",
    "            states = torch.Tensor(states).to(device)\n",
    "            actions = torch.LongTensor(actions).to(device)\n",
    "            next_states = torch.Tensor(next_states).to(device)\n",
    "            rewards = torch.Tensor([rewards]).to(device)\n",
    "            dones = torch.Tensor(dones).to(device)\n",
    "\n",
    "            new_action_values = Q(next_states).detach()\n",
    "\n",
    "            #set y_j=r_j for terminal f_j+1\n",
    "            # r_j + gamma*max_a'Q(f_j+1, a';theta) otherwise\n",
    "            # dones가 batch_size array 이므로 dones가 0 인경우의 acton_value 만 남김\n",
    "            y_target = rewards + \\\n",
    "                (1 - dones) * gamma * torch.max(new_action_values, dim=1)[0]\n",
    "\n",
    "            y_pred = Q(states).gather(1, actions.unsqueeze(1))\n",
    "\n",
    "            #Perform a gradient descent reward on (y_j - Q(f_j+1, a_j;theta))^2\n",
    "            loss = criterion(y_pred.squeeze(), y_target.squeeze())\n",
    "            optimizer.zero_grad()\n",
    "            loss.backward()\n",
    "            optimizer.step()\n",
    "\n",
    "        s = s_\n",
    "\n",
    "        if done:\n",
    "            reward_history.append(reward)\n",
    "            print(f\"{i_episode} episode finished after {reward:.1f} rewards\")\n",
    "            break"
   ]
  },
  {
   "cell_type": "code",
   "execution_count": 7,
   "id": "veterinary-defendant",
   "metadata": {
    "colab": {
     "base_uri": "https://localhost:8080/",
     "height": 422
    },
    "id": "veterinary-defendant",
    "outputId": "abbcfb15-b4ba-41b3-8a5b-ef3a2a522bb4"
   },
   "outputs": [
    {
     "name": "stdout",
     "output_type": "stream",
     "text": [
      "평균 step: 197.84\n",
      "최근 50 episode 평균 : 365.48\n",
      "---------------------- Hyper parameters --------------------------------------\n",
      "gamma:0.999, learning rate: 0.001, hidden layer: 64\n",
      "replay_memory: 50000, batch size: 128\n",
      "EPS_START: 0.9, EPS_END: 0.05, EPS_DECAY: 200\n",
      "경과 시간 : 0 분 52 초\n"
     ]
    },
    {
     "data": {
      "image/png": "[encoded data removed]",
      "text/plain": [
       "<Figure size 432x288 with 1 Axes>"
      ]
     },
     "metadata": {
      "needs_background": "light"
     },
     "output_type": "display_data"
    }
   ],
   "source": [
    "print(\"평균 step: %.2f\" % (sum(reward_history)/num_episodes))\n",
    "print(\"최근 50 episode 평균 : %.2f\" % (sum(reward_history[-50:])/50))\n",
    "print(\"---------------------- Hyper parameters --------------------------------------\")\n",
    "print(f\"gamma:{gamma}, learning rate: {learning_rate}, hidden layer: {hidden_layer}\")\n",
    "print(f\"replay_memory: {replay_memory_size}, batch size: {batch_size}\")\n",
    "print(f\"EPS_START: {EPS_START}, EPS_END: {EPS_END}, EPS_DECAY: {EPS_DECAY}\")\n",
    "elapsed_time = time.time() - start_time\n",
    "print(f\"경과 시간 : {elapsed_time//60:.0f} 분 {elapsed_time%60:.0f} 초\")\n",
    "\n",
    "plt.bar(torch.arange(len(reward_history)).numpy(), reward_history)\n",
    "plt.xlabel(\"episodes\")\n",
    "plt.ylabel(\"rewards\")\n",
    "plt.title(\"Deep Q-Learning\")\n",
    "plt.show()"
   ]
  },
  {
   "cell_type": "code",
   "execution_count": 8,
   "id": "specialized-geneva",
   "metadata": {
    "colab": {
     "base_uri": "https://localhost:8080/"
    },
    "id": "specialized-geneva",
    "outputId": "a8299d95-9779-4416-887e-65a655a41a4c"
   },
   "outputs": [
    {
     "name": "stdout",
     "output_type": "stream",
     "text": [
      "finished after 200.0 rewards\n"
     ]
    }
   ],
   "source": [
    "from gym.wrappers.monitoring.video_recorder import VideoRecorder\n",
    "file = \"rendering.mp4\"\n",
    "video = VideoRecorder(env, file)\n",
    "\n",
    "env.reset()\n",
    "for i in range(1):\n",
    "    reward = 0\n",
    "    s = env.reset()\n",
    "    \n",
    "    while True:\n",
    "        env.render()\n",
    "        video.capture_frame()\n",
    "\n",
    "        a = select_action(s, total_steps)\n",
    "\n",
    "        s_, r, done, _ = env.step(a)\n",
    "        \n",
    "        reward += r\n",
    "\n",
    "        s = s_\n",
    "\n",
    "        if done or reward >= 200:\n",
    "            print(f\"finished after {reward:.1f} rewards\")\n",
    "            break\n",
    "\n",
    "env.close()\n",
    "video.close()"
   ]
  },
  {
   "cell_type": "code",
   "execution_count": 9,
   "id": "5e9ed9e6",
   "metadata": {
    "colab": {
     "base_uri": "https://localhost:8080/",
     "height": 288
    },
    "id": "5e9ed9e6",
    "outputId": "b21ab169-7030-41c4-c307-c26431144f1f"
   },
   "outputs": [
    {
     "data": {
      "text/html": [
       "<video width=400 controls><source src=\"data:video/mp4;base64,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\" type=\"video/mp4\"></video>"
      ],
      "text/plain": [
       "<IPython.core.display.HTML object>"
      ]
     },
     "execution_count": 9,
     "metadata": {},
     "output_type": "execute_result"
    }
   ],
   "source": [
    "from IPython.display import HTML\n",
    "html = render_mp4(file)\n",
    "HTML(html)"
   ]
  }
 ],
 "metadata": {
  "accelerator": "GPU",
  "colab": {
   "name": "041_CartPole_DQN_ExperienceReplay.ipynb",
   "provenance": []
  },
  "kernelspec": {
   "display_name": "Python 3",
   "language": "python",
   "name": "python3"
  },
  "language_info": {
   "codemirror_mode": {
    "name": "ipython",
    "version": 3
   },
   "file_extension": ".py",
   "mimetype": "text/x-python",
   "name": "python",
   "nbconvert_exporter": "python",
   "pygments_lexer": "ipython3",
   "version": "3.9.7"
  }
 },
 "nbformat": 4,
 "nbformat_minor": 5
}
