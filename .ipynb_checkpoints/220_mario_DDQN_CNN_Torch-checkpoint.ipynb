{
 "cells": [
  {
   "cell_type": "code",
   "execution_count": 1,
   "metadata": {
    "colab": {
     "base_uri": "https://localhost:8080/"
    },
    "id": "to1aiZ3F91jU",
    "outputId": "4cb56410-8a42-410d-a37e-1ac499cd3e06"
   },
   "outputs": [
    {
     "name": "stdout",
     "output_type": "stream",
     "text": [
      "Ign:1 https://developer.download.nvidia.com/compute/cuda/repos/ubuntu1804/x86_64  InRelease\n",
      "Hit:2 https://cloud.r-project.org/bin/linux/ubuntu bionic-cran40/ InRelease\n",
      "Ign:3 https://developer.download.nvidia.com/compute/machine-learning/repos/ubuntu1804/x86_64  InRelease\n",
      "Hit:4 https://developer.download.nvidia.com/compute/cuda/repos/ubuntu1804/x86_64  Release\n",
      "Hit:5 https://developer.download.nvidia.com/compute/machine-learning/repos/ubuntu1804/x86_64  Release\n",
      "Hit:6 http://archive.ubuntu.com/ubuntu bionic InRelease\n",
      "Hit:7 http://ppa.launchpad.net/c2d4u.team/c2d4u4.0+/ubuntu bionic InRelease\n",
      "Get:9 http://archive.ubuntu.com/ubuntu bionic-updates InRelease [88.7 kB]\n",
      "Hit:10 http://security.ubuntu.com/ubuntu bionic-security InRelease\n",
      "Hit:12 http://ppa.launchpad.net/cran/libgit2/ubuntu bionic InRelease\n",
      "Hit:13 http://ppa.launchpad.net/deadsnakes/ppa/ubuntu bionic InRelease\n",
      "Hit:14 http://archive.ubuntu.com/ubuntu bionic-backports InRelease\n",
      "Hit:15 http://ppa.launchpad.net/graphics-drivers/ppa/ubuntu bionic InRelease\n",
      "Fetched 88.7 kB in 2s (50.6 kB/s)\n",
      "Reading package lists...\n",
      "Reading package lists...\n",
      "Building dependency tree...\n",
      "Reading state information...\n",
      "x11-utils is already the newest version (7.7+3build1).\n",
      "xvfb is already the newest version (2:1.19.6-1ubuntu4.10).\n",
      "0 upgraded, 0 newly installed, 0 to remove and 59 not upgraded.\n"
     ]
    }
   ],
   "source": [
    "%%bash\n",
    "apt-get update\n",
    "apt-get install -y xvfb x11-utils\n",
    "pip install -q gym[box2d]==0.17.* pyvirtualdisplay==0.2.* PyOpenGL==3.1.* PyOpenGL-accelerate==3.1.*\n",
    "\n",
    "pip install -q gym-super-mario-bros==7.3.0"
   ]
  },
  {
   "cell_type": "code",
   "execution_count": 2,
   "metadata": {
    "id": "Qj6HQpCVG0Ig"
   },
   "outputs": [],
   "source": [
    "%matplotlib inline\n",
    "import pyvirtualdisplay\n",
    "_display = pyvirtualdisplay.Display(visible=False,  # use False with Xvfb\n",
    "                                    size=(1400, 900))\n",
    "_ = _display.start()"
   ]
  },
  {
   "cell_type": "code",
   "execution_count": 3,
   "metadata": {
    "colab": {
     "base_uri": "https://localhost:8080/"
    },
    "id": "DICBxnabSBGx",
    "outputId": "15f0abb0-f1d2-4399-d368-68ebe5abf2a9"
   },
   "outputs": [
    {
     "name": "stdout",
     "output_type": "stream",
     "text": [
      "Drive already mounted at /content/gdrive/; to attempt to forcibly remount, call drive.mount(\"/content/gdrive/\", force_remount=True).\n"
     ]
    }
   ],
   "source": [
    "from google.colab import drive \n",
    "\n",
    "drive.mount('/content/gdrive/')"
   ]
  },
  {
   "cell_type": "markdown",
   "metadata": {
    "id": "Yi3Eeyqd9D77"
   },
   "source": [
    "# 220. Train a Mario-playing RL Agent\n",
    "\n",
    "이 자습서는 심층 강화 학습의 기본 사항을 안내합니다. 마지막에는 스스로 게임을 할 수 있는 AI 기반 Mario(Double Deep Q-Networks <https://arxiv.org/pdf/1509.06461.pdf> 사용)를 구현하게 됩니다.\n",
    "\n",
    "<img src=https://pytorch.org/tutorials/_images/mario.gif>\n",
    "\n",
    "NES : Nintendo Entertainment System\n"
   ]
  },
  {
   "cell_type": "code",
   "execution_count": 4,
   "metadata": {
    "colab": {
     "base_uri": "https://localhost:8080/"
    },
    "id": "VOj-iend9D78",
    "outputId": "e8699417-f0b2-4440-e763-607f0ae57a1f"
   },
   "outputs": [
    {
     "data": {
      "text/plain": [
       "device(type='cuda')"
      ]
     },
     "execution_count": 4,
     "metadata": {},
     "output_type": "execute_result"
    }
   ],
   "source": [
    "import torch\n",
    "from torch import nn\n",
    "from torchvision import transforms as T\n",
    "from PIL import Image\n",
    "import numpy as np\n",
    "from pathlib import Path\n",
    "from collections import deque\n",
    "import random, datetime, os, copy\n",
    "import matplotlib.pyplot as plt\n",
    "from IPython import display\n",
    "import gc\n",
    "\n",
    "import gym\n",
    "from gym.spaces import Box\n",
    "from gym.wrappers import FrameStack\n",
    "\n",
    "# NES Emulator for OpenAI Gym\n",
    "from nes_py.wrappers import JoypadSpace\n",
    "\n",
    "# Super Mario environment for OpenAI Gym\n",
    "import gym_super_mario_bros\n",
    "from gym_super_mario_bros.actions import SIMPLE_MOVEMENT\n",
    "\n",
    "# if gpu is to be used\n",
    "device = torch.device(\"cuda\" if torch.cuda.is_available() else \"cpu\")\n",
    "device"
   ]
  },
  {
   "cell_type": "code",
   "execution_count": 5,
   "metadata": {
    "colab": {
     "base_uri": "https://localhost:8080/"
    },
    "id": "e2UQQtV0DqJB",
    "outputId": "7f411455-6698-47e2-caec-fb255ea51468"
   },
   "outputs": [
    {
     "data": {
      "text/plain": [
       "(240, 256, 3)"
      ]
     },
     "execution_count": 5,
     "metadata": {},
     "output_type": "execute_result"
    }
   ],
   "source": [
    "env = gym_super_mario_bros.make('SuperMarioBros-v0') \n",
    "env = JoypadSpace(env, SIMPLE_MOVEMENT)\n",
    "env.reset().shape"
   ]
  },
  {
   "cell_type": "code",
   "execution_count": 6,
   "metadata": {
    "colab": {
     "base_uri": "https://localhost:8080/"
    },
    "id": "6perAlR7vl5I",
    "outputId": "f19968a4-d0ce-4ade-9130-a4e3d2dc188d"
   },
   "outputs": [
    {
     "name": "stdout",
     "output_type": "stream",
     "text": [
      "Box(0, 255, (240, 256, 3), uint8)\n",
      "7\n"
     ]
    }
   ],
   "source": [
    "print(env.observation_space)\n",
    "print(env.action_space.n)"
   ]
  },
  {
   "cell_type": "markdown",
   "metadata": {
    "id": "6Yfpqsib9D7-"
   },
   "source": [
    "Initialize Environment\n",
    "------------------------\n",
    "\n",
    "Mario에서 환경은 튜브, 버섯 및 기타 구성 요소로 구성됩니다.\n",
    "\n",
    "마리오가 행동을 취하면 환경은 변경된 (다음) 상태, 보상 및 기타 정보로 응답합니다.\n",
    "\n",
    "\n"
   ]
  },
  {
   "cell_type": "code",
   "execution_count": 7,
   "metadata": {
    "colab": {
     "base_uri": "https://localhost:8080/"
    },
    "id": "P80yt3Nr9D7-",
    "outputId": "fde2bdef-0498-49dd-aad7-e9b53b20cc35"
   },
   "outputs": [
    {
     "name": "stdout",
     "output_type": "stream",
     "text": [
      "(240, 256, 3),\n",
      " 0,\n",
      " False,\n",
      " {'coins': 0, 'flag_get': False, 'life': 2, 'score': 0, 'stage': 1, 'status': 'small', 'time': 400, 'world': 1, 'x_pos': 40, 'x_pos_screen': 40, 'y_pos': 79}\n"
     ]
    }
   ],
   "source": [
    "# Initialize Super Mario environment\n",
    "env = gym_super_mario_bros.make(\"SuperMarioBros-1-1-v0\")\n",
    "\n",
    "# Limit the action-space to\n",
    "#   0. walk right\n",
    "#   1. jump right\n",
    "env = JoypadSpace(env, [[\"right\"], [\"right\", \"A\"]])\n",
    "\n",
    "env.reset()\n",
    "next_state, reward, done, info = env.step(action=0)\n",
    "print(f\"{next_state.shape},\\n {reward},\\n {done},\\n {info}\")"
   ]
  },
  {
   "cell_type": "markdown",
   "metadata": {
    "id": "qXv3U6fg9D7-"
   },
   "source": [
    "Preprocess Environment\n",
    "------------------------\n",
    "\n",
    "환경 데이터는 ``next_state``에서 에이전트로 반환됩니다. 위에서 보았듯이 각 상태는 ``[3, 240, 256]`` 크기 배열로 표시됩니다.\n",
    "종종 이는 에이전트가 필요로 하는 것보다 더 많은 정보입니다. 예를 들어, 마리오의 행동은 파이프의 색이나 하늘에 의존하지 않습니다!\n",
    "\n",
    "**Wrappers**를 사용하여 환경 데이터를 에이전트에 보내기 전에 사전 처리합니다.\n",
    "\n",
    "``GrayScaleObservation``은 RGB 이미지를 회색조로 변환하는 일반적인 래퍼입니다. 이렇게 하면 유용한 정보를 잃지 않고 상태 표현의 크기가 줄어듭니다. 이제 각 상태의 크기: ``[1, 240, 256]``\n",
    "\n",
    "``ResizeObservation``은 각 관찰을 정사각형 이미지로 다운샘플링합니다.\n",
    "새 크기: ``[1, 84, 84]``\n",
    "\n",
    "``SkipFrame``은 ``gym.Wrapper``에서 상속되고 ``step()`` 기능을 구현하는 사용자 정의 래퍼입니다. 연속 프레임은 많이 변하지 않기 때문에 많은 정보를 잃지 않고 n-중간 프레임을 건너뛸 수 있습니다. n번째 프레임은 건너뛴 각 프레임에 대해 누적된 보상을 집계합니다.\n",
    "\n",
    "``FrameStack``은 환경의 연속 프레임을 단일 관찰 지점으로 압축하여 학습 모델에 제공할 수 있게 해주는 래퍼입니다. 이런 식으로 이전 몇 프레임에서 마리오의 움직임 방향을 기반으로 마리오가 착지했는지 점프했는지 식별할 수 있습니다.\n",
    "\n",
    "\n"
   ]
  },
  {
   "cell_type": "code",
   "execution_count": 8,
   "metadata": {
    "id": "4UlT8KbQ9D7_"
   },
   "outputs": [],
   "source": [
    "class SkipFrame(gym.Wrapper):\n",
    "    def __init__(self, env, skip):\n",
    "        \"\"\"Return only every `skip`-th frame\"\"\"\n",
    "        super().__init__(env)\n",
    "        self._skip = skip\n",
    "\n",
    "    def step(self, action):\n",
    "        \"\"\"Repeat action, and sum reward\"\"\"\n",
    "        total_reward = 0.0\n",
    "        done = False\n",
    "        for i in range(self._skip):\n",
    "            # Accumulate reward and repeat the same action\n",
    "            obs, reward, done, info = self.env.step(action)\n",
    "            total_reward += reward\n",
    "            if done:\n",
    "                break\n",
    "        return obs, total_reward, done, info\n",
    "\n",
    "class GrayScaleObservation(gym.ObservationWrapper):\n",
    "    def __init__(self, env):\n",
    "        super().__init__(env)\n",
    "        obs_shape = self.observation_space.shape[:2]\n",
    "        self.observation_space = Box(low=0, high=255, shape=obs_shape, dtype=np.uint8)\n",
    "\n",
    "    def permute_orientation(self, observation):\n",
    "        # permute [H, W, C] array to [C, H, W] tensor\n",
    "        observation = np.transpose(observation, (2, 0, 1))\n",
    "        observation = torch.tensor(observation.copy(), dtype=torch.float)\n",
    "        return observation\n",
    "\n",
    "    def observation(self, observation):\n",
    "        observation = self.permute_orientation(observation)\n",
    "        transform = T.Grayscale()\n",
    "        observation = transform(observation)\n",
    "        return observation\n",
    "\n",
    "class ResizeObservation(gym.ObservationWrapper):\n",
    "    def __init__(self, env, shape):\n",
    "        super().__init__(env)\n",
    "        if isinstance(shape, int):\n",
    "            self.shape = (shape, shape)\n",
    "        else:\n",
    "            self.shape = tuple(shape)\n",
    "\n",
    "        obs_shape = self.shape + self.observation_space.shape[2:]\n",
    "        self.observation_space = Box(low=0, high=255, shape=obs_shape, dtype=np.uint8)\n",
    "\n",
    "    def observation(self, observation):\n",
    "        transforms = T.Compose(\n",
    "            [T.Resize(self.shape), T.Normalize(0, 255)]\n",
    "        )\n",
    "        observation = transforms(observation).squeeze(0)\n",
    "        return observation\n",
    "\n",
    "# Apply Wrappers to environment\n",
    "env = SkipFrame(env, skip=4)\n",
    "env = GrayScaleObservation(env)\n",
    "env = ResizeObservation(env, shape=84)\n",
    "env = FrameStack(env, num_stack=4)"
   ]
  },
  {
   "cell_type": "markdown",
   "metadata": {
    "id": "lrICqk_h9D8A"
   },
   "source": [
    "위의 래퍼를 환경에 적용한 후 최종 래핑된 상태는 위의 왼쪽 이미지와 같이 함께 쌓인 4개의 회색조 연속 프레임으로 구성됩니다. 마리오가 행동을 할 때마다 환경은 이 구조의 상태로 반응합니다. 구조는 ``[4, 84, 84]`` 크기의 3차원 배열로 표현됩니다.\n",
    "\n",
    "<br>\n",
    "<img src=https://pytorch.org/tutorials/_images/mario_env.png>\n",
    "\n",
    "\n"
   ]
  },
  {
   "cell_type": "code",
   "execution_count": 9,
   "metadata": {
    "colab": {
     "base_uri": "https://localhost:8080/"
    },
    "id": "TOyRvxqavHWl",
    "outputId": "c873213a-84df-4db0-c32c-e9bdae1e4962"
   },
   "outputs": [
    {
     "name": "stdout",
     "output_type": "stream",
     "text": [
      "Box(0, 255, (4, 84, 84), uint8)\n",
      "2\n"
     ]
    }
   ],
   "source": [
    "print(env.observation_space)\n",
    "print(env.action_space.n)"
   ]
  },
  {
   "cell_type": "code",
   "execution_count": 10,
   "metadata": {
    "colab": {
     "base_uri": "https://localhost:8080/"
    },
    "id": "Q09fVs7-wNLW",
    "outputId": "5daad756-ec28-43b2-eec8-a3ed79a6b4df"
   },
   "outputs": [
    {
     "data": {
      "text/plain": [
       "<gym.wrappers.frame_stack.LazyFrames at 0x7f3fb691f410>"
      ]
     },
     "execution_count": 10,
     "metadata": {},
     "output_type": "execute_result"
    }
   ],
   "source": [
    "env.reset()"
   ]
  },
  {
   "cell_type": "code",
   "execution_count": 11,
   "metadata": {
    "colab": {
     "base_uri": "https://localhost:8080/",
     "height": 286
    },
    "id": "WIQGKTWDvTrG",
    "outputId": "79df4062-5d8f-4451-f2f5-031561493a34"
   },
   "outputs": [
    {
     "data": {
      "text/plain": [
       "<matplotlib.image.AxesImage at 0x7f3e811f4090>"
      ]
     },
     "execution_count": 11,
     "metadata": {},
     "output_type": "execute_result"
    },
    {
     "data": {
      "image/png": "[encoded data removed]",
      "text/plain": [
       "<Figure size 432x288 with 1 Axes>"
      ]
     },
     "metadata": {
      "needs_background": "light"
     },
     "output_type": "display_data"
    }
   ],
   "source": [
    "plt.imshow(np.array(env.reset())[0], cmap='gray')"
   ]
  },
  {
   "cell_type": "markdown",
   "metadata": {
    "id": "pbgCak6S0gN0"
   },
   "source": [
    "## Neural Network"
   ]
  },
  {
   "cell_type": "code",
   "execution_count": 12,
   "metadata": {
    "id": "fQU6QHfn0VbS"
   },
   "outputs": [],
   "source": [
    "class MarioNet(nn.Module):\n",
    "    \"\"\"mini cnn structure\n",
    "  input -> (conv2d + relu) x 3 -> flatten -> (dense + relu) x 2 -> output\n",
    "  \"\"\"\n",
    "\n",
    "    def __init__(self, input_dim, output_dim):\n",
    "        super().__init__()\n",
    "        c, h, w = input_dim\n",
    "\n",
    "        if h != 84:\n",
    "            raise ValueError(f\"Expecting input height: 84, got: {h}\")\n",
    "        if w != 84:\n",
    "            raise ValueError(f\"Expecting input width: 84, got: {w}\")\n",
    "\n",
    "        self.online = nn.Sequential(\n",
    "            nn.Conv2d(in_channels=c, out_channels=32, kernel_size=8, stride=4),\n",
    "            nn.ReLU(),\n",
    "            nn.Conv2d(in_channels=32, out_channels=64, kernel_size=4, stride=2),\n",
    "            nn.ReLU(),\n",
    "            nn.Conv2d(in_channels=64, out_channels=64, kernel_size=3, stride=1),\n",
    "            nn.ReLU(),\n",
    "            nn.Flatten(),\n",
    "            nn.Linear(3136, 512),\n",
    "            nn.ReLU(),\n",
    "            nn.Linear(512, output_dim),\n",
    "        )\n",
    "\n",
    "        self.target = copy.deepcopy(self.online)\n",
    "\n",
    "        # Q_target parameters are frozen.\n",
    "        for p in self.target.parameters():\n",
    "            p.requires_grad = False\n",
    "\n",
    "    def forward(self, input, model):\n",
    "        if model == \"online\":\n",
    "            return self.online(input)\n",
    "        elif model == \"target\":\n",
    "            return self.target(input)"
   ]
  },
  {
   "cell_type": "markdown",
   "metadata": {
    "id": "K2Gxo2NL9D8B"
   },
   "source": [
    "# Agent\n",
    "\n",
    "Cache and Recall\n",
    "----------------------\n",
    "\n",
    "``cache()``: Mario가 작업을 수행할 때마다 그는 ``experience``를 메모리에 저장합니다. 그의 경험에는 현재 상태, 수행된 액션, 액션으로 인한 보상, 다음 상태, 게임이 완료되었는지 여부가 포함됩니다.\n",
    "\n",
    "``recall()``: Mario는 자신의 기억에서 무작위로 일련의 경험을 샘플링하여 게임을 학습하는 데 사용합니다.\n",
    "\n",
    "## Learn\n",
    "\n",
    "Mario는 내부적으로 'DDQN 알고리즘 <https://arxiv.org/pdf/1509.06461>'을 사용합니다. DDQN은 $Q_{online}$ 및 $Q_{target}$라는 두 개의 ConvNet을 사용하여 최적의 action-value 함수를 독립적으로 근사합니다.\n",
    "\n",
    "우리의 구현에서는 $Q_{online}$ 및 $Q_{target}$에서 feature generator ``features`` 을 공유하지만 각각에 대해 별도의 FC 분류기를 유지합니다. $\\theta_{target}$($Q_{target}$의 매개변수)는 backprop에 의한 업데이트를 방지하기 위해 고정됩니다. 대신 $\\theta_{online}$와 주기적으로 동기화됩니다.  \n",
    "\n",
    "## TD Estimate & TD Target\n",
    "\n",
    "학습에는 두 가지 가치가 포함됩니다.\n",
    "\n",
    "**TD Estimate** - 주어진 state $s$에 대한 예측된 optimal $Q^*$\n",
    "\n",
    "$$\\begin{align}{TD}_e = Q_{online}^*(s,a)\\end{align}$$\n",
    "\n",
    "**TD Target** - 현재 보상과 다음 상태 $s'$에서 예상 $Q^*$의 aggregation\n",
    "\n",
    "$$\\begin{align}a' = argmax_{a} Q_{online}(s', a)\\end{align}$$\n",
    "\n",
    "$$\\begin{align}{TD}_t = r + \\gamma Q_{target}^*(s',a')\\end{align}$$\n",
    "\n",
    "다음 액션 $a'$가 무엇인지 모르기 때문에 $a'$ 액션을 사용하여 다음 상태 $s'$에서 $Q_{online}$를 최대화합니다.\n",
    "\n",
    "여기에서 기울기 계산을 비활성화하기 위해 ``td_target()``에 `with torch.no_grad()`를 이용합니다. ($\\theta_{target}$에 대해 역전파할 필요가 없기 때문입니다).\n",
    "\n",
    "\n",
    "# Updating the model\n",
    "\n",
    "Mario가 재생 버퍼에서 입력을 샘플링할 때 $TD_t$ 및 $TD_e$를 계산하고 이 손실을 $Q_{online}$ 아래로 역전파하여 매개변수 $\\theta_{online}$($\\alpha$는 학습률. ` `lr``로 ``최적화 프로그램``에 전달됨)\n",
    "\n",
    "\\begin{align}\\theta_{online} \\leftarrow \\theta_{online} + \\alpha \\nabla(TD_e - TD_t)\\end{align}\n",
    "\n",
    "$\\theta_{target}$는 역전파를 통해 업데이트되지 않습니다.\n",
    "대신 주기적으로 $\\theta_{online}$를 $\\theta_{target}$에 복사합니다.\n",
    "\n",
    "\\begin{align}\\theta_{target} \\leftarrow \\theta_{online}\\end{align}"
   ]
  },
  {
   "cell_type": "code",
   "execution_count": 13,
   "metadata": {
    "id": "zCKC5PyF9D8C"
   },
   "outputs": [],
   "source": [
    "class Mario:\n",
    "    def __init__(self, state_dim, action_dim):\n",
    "        self.state_dim = state_dim\n",
    "        self.action_dim = action_dim\n",
    "\n",
    "        self.memory = deque(maxlen=10000)\n",
    "        self.batch_size = 16\n",
    "\n",
    "        self.gamma = 0.9\n",
    "\n",
    "        self.burnin = 1e4  # min. experiences before training\n",
    "        self.learn_every = 3  # no. of experiences between updates to Q_online\n",
    "        self.sync_every = 1e4  # no. of experiences between Q_target & Q_online sync\n",
    "\n",
    "        # Mario's DNN to predict the most optimal action - we implement this in the Learn section\n",
    "        self.net = MarioNet(self.state_dim, self.action_dim).float()\n",
    "        self.net = self.net.to(device)\n",
    "\n",
    "        self.optimizer = torch.optim.Adam(self.net.parameters(), lr=0.00025)\n",
    "        self.loss_fn = torch.nn.SmoothL1Loss()\n",
    "\n",
    "        self.exploration_rate = 1\n",
    "        self.exploration_rate_decay = 0.99999975\n",
    "        self.exploration_rate_min = 0.1\n",
    "        self.curr_step = 0\n",
    "\n",
    "    def act(self, state):\n",
    "        \"\"\"\n",
    "    주어진 state에서 epsilon-greedy action을 선택하고 step의 값을 업데이트합니다.\n",
    "\n",
    "    Inputs:\n",
    "    state(LazyFrame): A single observation of the current state, dimension is (state_dim)\n",
    "    Outputs:\n",
    "    action_idx (int): An integer representing which action Mario will perform\n",
    "    \"\"\"\n",
    "        # EXPLORE\n",
    "        if np.random.rand() < self.exploration_rate:\n",
    "            action_idx = np.random.randint(self.action_dim)\n",
    "        # EXPLOIT\n",
    "        else:\n",
    "            state = torch.tensor(np.array(state)).unsqueeze(0).to(device)\n",
    "            action_values = self.net(state, model=\"online\")\n",
    "            action_idx = torch.argmax(action_values, axis=1).item()\n",
    "\n",
    "        # decrease exploration_rate\n",
    "        self.exploration_rate *= self.exploration_rate_decay\n",
    "        self.exploration_rate = max(self.exploration_rate_min, self.exploration_rate)\n",
    "\n",
    "        # increment step\n",
    "        self.curr_step += 1\n",
    "        return action_idx\n",
    "\n",
    "    def cache(self, state, next_state, action, reward, done):\n",
    "        \"\"\"\n",
    "        Store the experience to self.memory (replay buffer)\n",
    "\n",
    "        Inputs:\n",
    "            state (LazyFrame),\n",
    "            next_state (LazyFrame),\n",
    "            action (int),\n",
    "            reward (float),\n",
    "            done(bool))\n",
    "        \"\"\"\n",
    "        state = torch.tensor(np.array(state)).to(device)\n",
    "        next_state = torch.tensor(np.array(next_state)).to(device)\n",
    "        action = torch.tensor([action]).to(device)\n",
    "        reward = torch.tensor([reward]).to(device)\n",
    "        done = torch.tensor([done]).to(device)\n",
    "\n",
    "        self.memory.append((state, next_state, action, reward, done,))\n",
    "\n",
    "    def recall(self):\n",
    "        \"\"\"\n",
    "        Retrieve a batch of experiences from memory\n",
    "        \"\"\"\n",
    "        batch = random.sample(self.memory, self.batch_size)\n",
    "        state, next_state, action, reward, done = map(torch.stack, zip(*batch))\n",
    "        return state, next_state, action.squeeze(), reward.squeeze(), done.squeeze()\n",
    "\n",
    "    def learn(self):\n",
    "        if self.curr_step % self.sync_every == 0:\n",
    "            self.net.target.load_state_dict(self.net.online.state_dict())\n",
    "\n",
    "        if self.curr_step < self.burnin:\n",
    "            return None, None\n",
    "\n",
    "        if self.curr_step % self.learn_every != 0:\n",
    "            return None, None\n",
    "\n",
    "        # Sample from memory\n",
    "        state, next_state, action, reward, done = self.recall()\n",
    "\n",
    "        # Get TD Estimate : Q_online(s,a)\n",
    "        td_est = self.net(state, model=\"online\")[\n",
    "            np.arange(0, self.batch_size), action\n",
    "        ]  \n",
    "\n",
    "        # Get TD Target\n",
    "        with torch.no_grad():\n",
    "            next_state_Q = self.net(next_state, model=\"online\")\n",
    "            best_action = torch.argmax(next_state_Q, axis=1)\n",
    "            next_Q = self.net(next_state, model=\"target\")[\n",
    "                np.arange(0, self.batch_size), best_action\n",
    "            ]\n",
    "        td_tgt = (reward + (1 - done.float()) * self.gamma * next_Q).float()\n",
    "\n",
    "        # Backpropagate loss through Q_online\n",
    "        loss = self.loss_fn(td_est, td_tgt)\n",
    "        self.optimizer.zero_grad()\n",
    "        loss.backward()\n",
    "        self.optimizer.step()\n",
    "\n",
    "        # return (td_est.mean().item(), loss.item())"
   ]
  },
  {
   "cell_type": "markdown",
   "metadata": {
    "id": "u-oAPmQy9D8G"
   },
   "source": [
    "## Let’s play!\n",
    "\n",
    "이 예에서 우리는 10개의 에피소드에 대해 훈련 루프를 실행하지만 Mario가 진정으로 그의 세계의 방식을 배우려면 최소 40,000개의 에피소드에 대해 루프를 실행하는 것이 좋습니다!\n",
    "\n",
    "\n"
   ]
  },
  {
   "cell_type": "code",
   "execution_count": 14,
   "metadata": {
    "colab": {
     "base_uri": "https://localhost:8080/"
    },
    "id": "BdanSelT9D8G",
    "outputId": "d9e8f80d-fa40-4d5d-f0cb-5375a39730ca"
   },
   "outputs": [
    {
     "name": "stderr",
     "output_type": "stream",
     "text": [
      "/usr/local/lib/python3.7/dist-packages/gym_super_mario_bros/smb_env.py:148: RuntimeWarning: overflow encountered in ubyte_scalars\n",
      "  return (self.ram[0x86] - self.ram[0x071c]) % 256\n"
     ]
    }
   ],
   "source": [
    "mario = Mario(state_dim=(4, 84, 84), action_dim=env.action_space.n)\n",
    "\n",
    "episodes = 100\n",
    "\n",
    "history_rewards = []\n",
    "history_length = []\n",
    "for e in range(1, episodes+1):\n",
    "\n",
    "    state = env.reset()\n",
    "    ep_rewards = 0\n",
    "    ep_length = 0\n",
    "\n",
    "    # Play the game!\n",
    "    while True:\n",
    "\n",
    "        # Run agent on the state\n",
    "        action = mario.act(state)\n",
    "\n",
    "        # Agent performs action\n",
    "        next_state, reward, done, info = env.step(action)\n",
    "\n",
    "        # Remember\n",
    "        mario.cache(state, next_state, action, reward, done)\n",
    "\n",
    "        # Learn\n",
    "        # q, loss = mario.learn()\n",
    "        mario.learn()\n",
    "\n",
    "        ep_rewards += reward\n",
    "        ep_length += 1\n",
    "\n",
    "        # Update state\n",
    "        state = next_state\n",
    "\n",
    "        # Check if end of game\n",
    "        if done or info[\"flag_get\"]:\n",
    "            history_rewards.append(ep_rewards)\n",
    "            history_length.append(ep_length)\n",
    "            break\n",
    "\n",
    "    if e % 20 == 0:\n",
    "        gc.collect()\n",
    "        torch.cuda.empty_cache()\n",
    "        mean_ep_reward = np.round(np.mean(history_rewards[-20:]), 3)\n",
    "        mean_ep_length = np.round(np.mean(history_length[-20:]), 3)\n",
    "        print(f\"Episode {e},  mean_reward {mean_ep_reward}, mean_length {mean_ep_length}\")"
   ]
  },
  {
   "cell_type": "code",
   "execution_count": 15,
   "metadata": {
    "id": "HUsag7lUSK7M"
   },
   "outputs": [],
   "source": [
    "# network weight 저장\n",
    "PATH = '/content/gdrive/MyDrive/mario_cnn_model.pt'"
   ]
  },
  {
   "cell_type": "code",
   "execution_count": 16,
   "metadata": {
    "id": "3wvqdpkJSWfU"
   },
   "outputs": [],
   "source": [
    "torch.save(mario.net.state_dict(), PATH)"
   ]
  },
  {
   "cell_type": "code",
   "execution_count": 17,
   "metadata": {
    "colab": {
     "base_uri": "https://localhost:8080/"
    },
    "id": "UBPZfElESNwm",
    "outputId": "57a26c18-73e1-453f-ceb5-e94bacc6be7e"
   },
   "outputs": [
    {
     "data": {
      "text/plain": [
       "<All keys matched successfully>"
      ]
     },
     "execution_count": 17,
     "metadata": {},
     "output_type": "execute_result"
    }
   ],
   "source": [
    "# Network\n",
    "mario = Mario(state_dim=(4, 84, 84), action_dim=env.action_space.n)\n",
    "mario.net.to(device)\n",
    "# network weight load\n",
    "mario.net.load_state_dict(torch.load(PATH))"
   ]
  },
  {
   "cell_type": "code",
   "execution_count": null,
   "metadata": {
    "colab": {
     "base_uri": "https://localhost:8080/",
     "height": 486
    },
    "id": "FcCFBLmjVQkL",
    "outputId": "8e7fed71-b8da-4941-8d0d-645fc32c65b8"
   },
   "outputs": [
    {
     "data": {
      "image/png": "[encoded data removed]",
      "text/plain": [
       "<Figure size 864x576 with 1 Axes>"
      ]
     },
     "metadata": {},
     "output_type": "display_data"
    }
   ],
   "source": [
    "env.reset()\n",
    "plt.figure(figsize=(12, 8))\n",
    "screen = env.render(mode='rgb_array')\n",
    "img = plt.imshow(screen)                   # only call this once\n",
    "\n",
    "for _ in range(10):\n",
    "    state = env.reset()\n",
    "    \n",
    "    for step in range(500):\n",
    "        img.set_data(env.render(mode='rgb_array')) # just update the data\n",
    "        display.display(plt.gcf())\n",
    "        display.clear_output(wait=True)\n",
    "        \n",
    "        with torch.no_grad():\n",
    "            state = torch.tensor(np.array(state)).unsqueeze(0).to(device)\n",
    "            action_values = mario.net(state, model=\"target\")\n",
    "            action = torch.argmax(action_values, axis=1).item()\n",
    "\n",
    "        next_state, reward, done, info = env.step(action)\n",
    "\n",
    "        if done or info[\"flag_get\"]:\n",
    "            print(\"steps:\", step)\n",
    "            steps = 0\n",
    "            break     \n",
    "        else:\n",
    "            state = next_state\n",
    "        \n",
    "env.close()"
   ]
  },
  {
   "cell_type": "code",
   "execution_count": 18,
   "metadata": {
    "id": "Ag-XjJz6lf1u"
   },
   "outputs": [],
   "source": []
  }
 ],
 "metadata": {
  "accelerator": "GPU",
  "colab": {
   "collapsed_sections": [],
   "name": "120_mario_DDQN_CNN_Torch.ipynb",
   "provenance": []
  },
  "kernelspec": {
   "display_name": "Python 3",
   "language": "python",
   "name": "python3"
  },
  "language_info": {
   "codemirror_mode": {
    "name": "ipython",
    "version": 3
   },
   "file_extension": ".py",
   "mimetype": "text/x-python",
   "name": "python",
   "nbconvert_exporter": "python",
   "pygments_lexer": "ipython3",
   "version": "3.9.7"
  }
 },
 "nbformat": 4,
 "nbformat_minor": 1
}
