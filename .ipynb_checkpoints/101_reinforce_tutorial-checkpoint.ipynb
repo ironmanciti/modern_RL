{
 "cells": [
  {
   "cell_type": "markdown",
   "metadata": {
    "id": "HNtBC6Bbb1YU"
   },
   "source": [
    "# REINFORCE agent"
   ]
  },
  {
   "cell_type": "code",
   "execution_count": null,
   "metadata": {
    "colab": {
     "base_uri": "https://localhost:8080/"
    },
    "id": "KEHR2Ui-lo8O",
    "outputId": "4fef2660-eb24-4936-86b3-fdc0672764ec"
   },
   "outputs": [],
   "source": [
    "!sudo apt-get install -y -q xvfb ffmpeg freeglut3-dev\n",
    "!pip install -q pyvirtualdisplay\n",
    "!pip install -q tf-agents[reverb]\n",
    "!pip install -q pyglet xvfbwrapper"
   ]
  },
  {
   "cell_type": "code",
   "execution_count": 2,
   "metadata": {
    "id": "sMitx5qSgJk1"
   },
   "outputs": [],
   "source": [
    "import base64\n",
    "import imageio\n",
    "import IPython\n",
    "import matplotlib.pyplot as plt\n",
    "import numpy as np\n",
    "import PIL.Image\n",
    "import pyvirtualdisplay\n",
    "import reverb\n",
    "\n",
    "import tensorflow as tf\n",
    "\n",
    "from tf_agents.agents.reinforce import reinforce_agent\n",
    "from tf_agents.drivers import py_driver\n",
    "from tf_agents.environments import suite_gym\n",
    "from tf_agents.environments import tf_py_environment\n",
    "from tf_agents.networks import actor_distribution_network\n",
    "from tf_agents.policies import py_tf_eager_policy\n",
    "from tf_agents.replay_buffers import reverb_replay_buffer\n",
    "from tf_agents.replay_buffers import reverb_utils\n",
    "from tf_agents.specs import tensor_spec\n",
    "from tf_agents.trajectories import trajectory\n",
    "from tf_agents.utils import common\n",
    "\n",
    "# Set up a virtual display for rendering OpenAI gym environments.\n",
    "display = pyvirtualdisplay.Display(visible=0, size=(1400, 900)).start()"
   ]
  },
  {
   "cell_type": "markdown",
   "metadata": {
    "id": "LmC0NDhdLIKY"
   },
   "source": [
    "## Hyperparameters"
   ]
  },
  {
   "cell_type": "code",
   "execution_count": 3,
   "metadata": {
    "id": "HC1kNrOsLSIZ"
   },
   "outputs": [],
   "source": [
    "env_name = \"CartPole-v0\" # @param {type:\"string\"}\n",
    "num_iterations = 250 # @param {type:\"integer\"}\n",
    "collect_episodes_per_iteration = 2 # @param {type:\"integer\"}\n",
    "replay_buffer_capacity = 2000 # @param {type:\"integer\"}\n",
    "\n",
    "fc_layer_params = (100,)\n",
    "\n",
    "learning_rate = 1e-3 # @param {type:\"number\"}\n",
    "log_interval = 25 # @param {type:\"integer\"}\n",
    "num_eval_episodes = 10 # @param {type:\"integer\"}\n",
    "eval_interval = 50 # @param {type:\"integer\"}"
   ]
  },
  {
   "cell_type": "markdown",
   "metadata": {
    "id": "VMsJC3DEgI0x"
   },
   "source": [
    "## Environment\n",
    "\n",
    "RL의 환경은 해결하려는 작업이나 문제를 나타냅니다. 표준 환경은 `suites`를 사용하여 TF-Agents에서 쉽게 만들 수 있습니다. 문자열 환경 이름이 주어지면 OpenAI Gym, Atari, DM Control 등과 같은 소스에서 환경을 로드하기 위한 다양한 `suite'가 있습니다.\n",
    "\n",
    "이제 OpenAI Gym 제품군에서 CartPole 환경을 로드해 보겠습니다."
   ]
  },
  {
   "cell_type": "code",
   "execution_count": 4,
   "metadata": {
    "id": "pYEz-S9gEv2-"
   },
   "outputs": [],
   "source": [
    "env = suite_gym.load(env_name)"
   ]
  },
  {
   "cell_type": "code",
   "execution_count": 6,
   "metadata": {
    "id": "RlO7WIQHu_7D"
   },
   "outputs": [],
   "source": [
    "# env.reset()\n",
    "# PIL.Image.fromarray(env.render())"
   ]
  },
  {
   "cell_type": "markdown",
   "metadata": {
    "id": "B9_lskPOey18"
   },
   "source": [
    "`time_step = environment.step(action)` 문은 환경에서 `action`을 취합니다. 반환된 `TimeStep` 튜플에는 해당 작업에 대한 환경의 다음 관찰 및 보상이 포함됩니다. 환경의 `time_step_spec()` 및 `action_spec()` 메서드는 각각 `time_step` 및 `action`의 spec(types, shapes, bounds)을 반환합니다."
   ]
  },
  {
   "cell_type": "code",
   "execution_count": 7,
   "metadata": {
    "colab": {
     "base_uri": "https://localhost:8080/"
    },
    "id": "exDv57iHfwQV",
    "outputId": "eb5d44ad-403a-409a-d47c-fb8840c907ac"
   },
   "outputs": [
    {
     "name": "stdout",
     "output_type": "stream",
     "text": [
      "Observation Spec:\n",
      "BoundedArraySpec(shape=(4,), dtype=dtype('float32'), name='observation', minimum=[-4.8000002e+00 -3.4028235e+38 -4.1887903e-01 -3.4028235e+38], maximum=[4.8000002e+00 3.4028235e+38 4.1887903e-01 3.4028235e+38])\n",
      "Action Spec:\n",
      "BoundedArraySpec(shape=(), dtype=dtype('int64'), name='action', minimum=0, maximum=1)\n"
     ]
    }
   ],
   "source": [
    "print('Observation Spec:')\n",
    "print(env.time_step_spec().observation)\n",
    "print('Action Spec:')\n",
    "print(env.action_spec())"
   ]
  },
  {
   "cell_type": "markdown",
   "metadata": {
    "id": "eJCgJnx3g0yY"
   },
   "source": [
    "따라서 우리는 observation이 cart의 position 과 velocity, pole의 angular position과 velocity라는 4개의 floa로 구성된 배열임을 알 수 있습니다. 두 가지 action(왼쪽으로 이동 또는 오른쪽으로 이동)만 가능하기 때문에 'action_spec'은 0이 \"왼쪽으로 이동\"을 의미하고 1이 \"오른쪽으로 이동\"을 의미하는 스칼라입니다."
   ]
  },
  {
   "cell_type": "code",
   "execution_count": 8,
   "metadata": {
    "colab": {
     "base_uri": "https://localhost:8080/"
    },
    "id": "V2UGR5t_iZX-",
    "outputId": "0aeb9689-c1b1-4659-adb2-3a8350de24d1"
   },
   "outputs": [
    {
     "name": "stdout",
     "output_type": "stream",
     "text": [
      "Time step:\n",
      "TimeStep(\n",
      "{'discount': array(1., dtype=float32),\n",
      " 'observation': array([-0.04477813, -0.03114101, -0.00820892,  0.03138309], dtype=float32),\n",
      " 'reward': array(0., dtype=float32),\n",
      " 'step_type': array(0, dtype=int32)})\n",
      "Next time step:\n",
      "TimeStep(\n",
      "{'discount': array(1., dtype=float32),\n",
      " 'observation': array([-0.04540095,  0.1640977 , -0.00758126, -0.2638785 ], dtype=float32),\n",
      " 'reward': array(1., dtype=float32),\n",
      " 'step_type': array(1, dtype=int32)})\n"
     ]
    }
   ],
   "source": [
    "time_step = env.reset()\n",
    "print('Time step:')\n",
    "print(time_step)\n",
    "\n",
    "action = np.array(1, dtype=np.int32)\n",
    "\n",
    "next_time_step = env.step(action)\n",
    "print('Next time step:')\n",
    "print(next_time_step)"
   ]
  },
  {
   "cell_type": "markdown",
   "metadata": {
    "id": "zuUqXAVmecTU"
   },
   "source": [
    "일반적으로 교육용 환경과 평가 환경의 두 가지 환경을 만듭니다. 대부분의 환경은 순수한 파이썬으로 작성되었지만 `TFPyEnvironment` 래퍼를 사용하여 TensorFlow로 쉽게 변환할 수 있습니다. 원래 환경의 API는 numpy 배열을 사용하며, `TFPyEnvironment`는 TensorFlow 정책 및 에이전트와 더 쉽게 상호 작용할 수 있도록 이를 `Tensor`로 변환합니다.\n"
   ]
  },
  {
   "cell_type": "code",
   "execution_count": 9,
   "metadata": {
    "id": "Xp-Y4mD6eDhF"
   },
   "outputs": [],
   "source": [
    "train_py_env = suite_gym.load(env_name)\n",
    "eval_py_env = suite_gym.load(env_name)\n",
    "\n",
    "train_env = tf_py_environment.TFPyEnvironment(train_py_env)\n",
    "eval_env = tf_py_environment.TFPyEnvironment(eval_py_env)"
   ]
  },
  {
   "cell_type": "markdown",
   "metadata": {
    "id": "E9lW_OZYFR8A"
   },
   "source": [
    "## Agent\n",
    "\n",
    "RL 문제를 해결하기 위해 사용하는 알고리즘은 `Agent`로 표시됩니다. REINFORCE agent 외에도 TF-Agents는 [DQN](https://storage.googleapis.com/deepmind-media/dqn/DQNNaturePaper.pdf), [DDPG](https://arxiv.org/pdf/1509.02971.pdf), [TD3](https://arxiv.org/pdf/1802.09477.pdf), [PPO](https://arxiv.org/abs/1707.06347) 및 [SAC](https://arxiv.org/abs/1801.01290)와 같은 다양한 `Agent`의 표준 구현을 제공합니다. \n",
    "\n",
    "REINFORCE Agent를 생성하려면 먼저 환경에서 관찰된 동작을 예측하는 방법을 학습할 수 있는 `Actor Network`가 필요합니다.\n",
    "\n",
    "관찰 및 행동의 사양을 사용하여 `Actor Network`를 쉽게 만들 수 있습니다. 이 예에서 `fc_layer_params` 인수가 각 hidden layer의 크기를 나타내는 `ints` 튜플로 설정된 네트워크의 레이어를 지정할 수 있습니다(위의 하이퍼파라미터 섹션 참조).\n"
   ]
  },
  {
   "cell_type": "code",
   "execution_count": 10,
   "metadata": {
    "id": "TgkdEPg_muzV"
   },
   "outputs": [],
   "source": [
    "actor_net = actor_distribution_network.ActorDistributionNetwork(\n",
    "    train_env.observation_spec(),\n",
    "    train_env.action_spec(),\n",
    "    fc_layer_params=fc_layer_params)"
   ]
  },
  {
   "cell_type": "markdown",
   "metadata": {
    "id": "z62u55hSmviJ"
   },
   "source": [
    "또한 방금 생성한 네트워크를 훈련시키기 위한 `optimizer`와 네트워크가 업데이트된 횟수를 추적하기 위한 `train_step_counter`변수도 필요합니다.\n"
   ]
  },
  {
   "cell_type": "code",
   "execution_count": 11,
   "metadata": {
    "id": "jbY4yrjTEyc9"
   },
   "outputs": [],
   "source": [
    "optimizer = tf.keras.optimizers.Adam(learning_rate=learning_rate)\n",
    "\n",
    "train_step_counter = tf.Variable(0)\n",
    "\n",
    "tf_agent = reinforce_agent.ReinforceAgent(\n",
    "    train_env.time_step_spec(),\n",
    "    train_env.action_spec(),\n",
    "    actor_network=actor_net,\n",
    "    optimizer=optimizer,\n",
    "    normalize_returns=True,\n",
    "    train_step_counter=train_step_counter)\n",
    "tf_agent.initialize()"
   ]
  },
  {
   "cell_type": "markdown",
   "metadata": {
    "id": "I0KLrEPwkn5x"
   },
   "source": [
    "## Policies\n",
    "\n",
    "TF-Agents에서 정책은 `time_step`이 생성하는 action 혹은 action 분포하에서의 RL에서 정책의 표준 개념을 나타냅니다. 주요 메소드는 `policy_step = policy.action(time_step)`입니다. 여기서 `policy_step`은 명명된 튜플 `PolicyStep(action, state, info)`입니다. `policy_step.action`은 환경에 적용되는 `action`이고, `state`는 stateful(RNN) 정책에 대한 상태를 나타내며, `info`는 작업의 로그 확률과 같은 보조 정보를 포함할 수 있습니다.\n",
    "\n",
    "에이전트에는 평가/배포에 사용되는 기본 정책(agent.policy)과 데이터 수집에 사용되는 또 다른 정책(agent.collect_policy)의 두 가지 정책이 있습니다."
   ]
  },
  {
   "cell_type": "code",
   "execution_count": 12,
   "metadata": {
    "id": "BwY7StuMkuV4"
   },
   "outputs": [],
   "source": [
    "eval_policy = tf_agent.policy\n",
    "collect_policy = tf_agent.collect_policy"
   ]
  },
  {
   "cell_type": "markdown",
   "metadata": {
    "id": "94rCXQtbUbXv"
   },
   "source": [
    "## Metrics and Evaluation\n",
    "\n",
    "정책을 평가하는 데 사용되는 가장 일반적인 지표는 average return입니다. return은 한 에피소드에 대한 환경에서 정책을 실행하는 동안 얻은 보상의 합계이며 일반적으로 몇 개의 에피소드에 대한 평균입니다. 평균 수익 측정항목은 다음과 같이 계산할 수 있습니다.\n"
   ]
  },
  {
   "cell_type": "code",
   "execution_count": 13,
   "metadata": {
    "id": "bitzHo5_UbXy"
   },
   "outputs": [],
   "source": [
    "def compute_avg_return(environment, policy, num_episodes=10):\n",
    "\n",
    "  total_return = 0.0\n",
    "  for _ in range(num_episodes):\n",
    "\n",
    "    time_step = environment.reset()\n",
    "    episode_return = 0.0\n",
    "\n",
    "    while not time_step.is_last():\n",
    "      action_step = policy.action(time_step)\n",
    "      time_step = environment.step(action_step.action)\n",
    "      episode_return += time_step.reward\n",
    "    total_return += episode_return\n",
    "\n",
    "  avg_return = total_return / num_episodes\n",
    "  return avg_return.numpy()[0]\n",
    "\n",
    "\n",
    "# Please also see the metrics module for standard implementations of different\n",
    "# metrics."
   ]
  },
  {
   "cell_type": "markdown",
   "metadata": {
    "id": "NLva6g2jdWgr"
   },
   "source": [
    "## Replay Buffer\n",
    "\n",
    "환경에서 수집된 데이터를 추적하기 위해 딥마인드에 의해 개발된 효율적이고 확장 가능하며 사용하기 쉬운 재생 시스템인 [Reverb](https://deepmind.com/research/open-source/Reverb)를 사용할 것입니다. 궤적을 수집할 때 경험 데이터를 저장하고 훈련 중에 소비합니다.\n",
    "\n",
    "이 재생 버퍼는 `tf_agent.collect_data_spec`을 사용하여 에이전트에서 얻을 수 있는 저장될 텐서를 설명하는 사양을 사용하여 구성됩니다."
   ]
  },
  {
   "cell_type": "code",
   "execution_count": 14,
   "metadata": {
    "id": "vX2zGUWJGWAl"
   },
   "outputs": [],
   "source": [
    "table_name = 'uniform_table'\n",
    "replay_buffer_signature = tensor_spec.from_spec(\n",
    "      tf_agent.collect_data_spec)\n",
    "replay_buffer_signature = tensor_spec.add_outer_dim(\n",
    "      replay_buffer_signature)\n",
    "table = reverb.Table(\n",
    "    table_name,\n",
    "    max_size=replay_buffer_capacity,\n",
    "    sampler=reverb.selectors.Uniform(),\n",
    "    remover=reverb.selectors.Fifo(),\n",
    "    rate_limiter=reverb.rate_limiters.MinSize(1),\n",
    "    signature=replay_buffer_signature)\n",
    "\n",
    "reverb_server = reverb.Server([table])\n",
    "\n",
    "replay_buffer = reverb_replay_buffer.ReverbReplayBuffer(\n",
    "    tf_agent.collect_data_spec,\n",
    "    table_name=table_name,\n",
    "    sequence_length=None,\n",
    "    local_server=reverb_server)\n",
    "\n",
    "rb_observer = reverb_utils.ReverbAddEpisodeObserver(\n",
    "    replay_buffer.py_client,\n",
    "    table_name,\n",
    "    replay_buffer_capacity\n",
    ")"
   ]
  },
  {
   "cell_type": "markdown",
   "metadata": {
    "id": "ZGNTDJpZs4NN"
   },
   "source": [
    "대부분의 에이전트에서 `collect_data_spec`은 observation, action, reward 등을 포함하는 named tuple `Trajectory`입니다."
   ]
  },
  {
   "cell_type": "markdown",
   "metadata": {
    "id": "rVD5nQ9ZGo8_"
   },
   "source": [
    "## Data Collection\n",
    "\n",
    "REINFORCE는 전체 에피소드에서 학습하므로 주어진 데이터 수집 정책을 사용하여 에피소드를 수집하고 데이터(observations, actions, rewards etc.)를 재생 버퍼의 궤적으로 저장하는 함수를 정의합니다. 여기서 우리는 경험 수집 루프를 실행하기 위해 'PyDriver'를 사용하고 있습니다. [드라이버 자습서](https://www.tensorflow.org/agents/tutorials/4_drivers_tutorial)에서 TF 에이전트 드라이버에 대해 자세히 알아볼 수 있습니다."
   ]
  },
  {
   "cell_type": "code",
   "execution_count": 15,
   "metadata": {
    "id": "wr1KSAEGG4h9"
   },
   "outputs": [],
   "source": [
    "def collect_episode(environment, policy, num_episodes):\n",
    "\n",
    "  driver = py_driver.PyDriver(\n",
    "    environment,\n",
    "    py_tf_eager_policy.PyTFEagerPolicy(\n",
    "      policy, use_tf_function=True),\n",
    "    [rb_observer],\n",
    "    max_episodes=num_episodes)\n",
    "  initial_time_step = environment.reset()\n",
    "  driver.run(initial_time_step)"
   ]
  },
  {
   "cell_type": "markdown",
   "metadata": {
    "id": "hBc9lj9VWWtZ"
   },
   "source": [
    "## Training the agent\n",
    "\n",
    "훈련 루프에는 환경에서 데이터를 수집하고 에이전트의 네트워크를 최적화하는 작업이 모두 포함됩니다. 그 과정에서 때때로 에이전트의 정책을 평가하여 우리가 어떻게 하고 있는지 확인할 것입니다.\n",
    "\n",
    "다음은 실행하는 데 ~3분 정도 걸립니다."
   ]
  },
  {
   "cell_type": "code",
   "execution_count": 16,
   "metadata": {
    "colab": {
     "base_uri": "https://localhost:8080/"
    },
    "id": "0pTbJ3PeyF-u",
    "outputId": "bf067322-f100-4128-a43b-5b69a8921984"
   },
   "outputs": [
    {
     "name": "stdout",
     "output_type": "stream",
     "text": [
      "CPU times: user 4 µs, sys: 0 ns, total: 4 µs\n",
      "Wall time: 8.82 µs\n",
      "step = 25: loss = 1.0446357727050781\n",
      "step = 50: loss = 1.2098207473754883\n",
      "step = 50: Average Return = 106.9000015258789\n",
      "step = 75: loss = 1.254501223564148\n",
      "step = 100: loss = 1.633739948272705\n",
      "step = 100: Average Return = 81.30000305175781\n",
      "step = 125: loss = 2.9745678901672363\n",
      "step = 150: loss = -1.7935123443603516\n",
      "step = 150: Average Return = 153.10000610351562\n",
      "step = 175: loss = 0.8803448677062988\n",
      "step = 200: loss = 2.249022960662842\n",
      "step = 200: Average Return = 177.5\n",
      "step = 225: loss = 3.7353057861328125\n",
      "step = 250: loss = -3.8520641326904297\n",
      "step = 250: Average Return = 200.0\n"
     ]
    }
   ],
   "source": [
    "# (Optional) Optimize by wrapping some of the code in a graph using TF function.\n",
    "tf_agent.train = common.function(tf_agent.train)\n",
    "\n",
    "# Reset the train step\n",
    "tf_agent.train_step_counter.assign(0)\n",
    "\n",
    "# Evaluate the agent's policy once before training.\n",
    "avg_return = compute_avg_return(eval_env, tf_agent.policy, num_eval_episodes)\n",
    "returns = [avg_return]\n",
    "\n",
    "for _ in range(num_iterations):\n",
    "\n",
    "  # Collect a few episodes using collect_policy and save to the replay buffer.\n",
    "  collect_episode(\n",
    "      train_py_env, tf_agent.collect_policy, collect_episodes_per_iteration)\n",
    "\n",
    "  # Use data from the buffer and update the agent's network.\n",
    "  iterator = iter(replay_buffer.as_dataset(sample_batch_size=1))\n",
    "  trajectories, _ = next(iterator)\n",
    "  train_loss = tf_agent.train(experience=trajectories)  \n",
    "\n",
    "  replay_buffer.clear()\n",
    "\n",
    "  step = tf_agent.train_step_counter.numpy()\n",
    "\n",
    "  if step % log_interval == 0:\n",
    "    print('step = {0}: loss = {1}'.format(step, train_loss.loss))\n",
    "\n",
    "  if step % eval_interval == 0:\n",
    "    avg_return = compute_avg_return(eval_env, tf_agent.policy, num_eval_episodes)\n",
    "    print('step = {0}: Average Return = {1}'.format(step, avg_return))\n",
    "    returns.append(avg_return)"
   ]
  },
  {
   "cell_type": "markdown",
   "metadata": {
    "id": "68jNcA_TiJDq"
   },
   "source": [
    "## Visualization\n"
   ]
  },
  {
   "cell_type": "markdown",
   "metadata": {
    "id": "aO-LWCdbbOIC"
   },
   "source": [
    "### Plots\n",
    "\n",
    "에이전트의 성능을 보기 위해 return 대 global step을 플롯할 수 있습니다. `Cartpole-v0`에서 환경은 pole이 서 있으면 +1의 보상을 제공하며, 최대 단계 수가 200이므로 가능한 최대 수익도 200입니다."
   ]
  },
  {
   "cell_type": "code",
   "execution_count": 17,
   "metadata": {
    "colab": {
     "base_uri": "https://localhost:8080/",
     "height": 300
    },
    "id": "NxtL1mbOYCVO",
    "outputId": "807ef2b7-2dda-42d9-cd12-2da0ac2f4e1c"
   },
   "outputs": [
    {
     "data": {
      "text/plain": [
       "(0.08000040054321289, 250.0)"
      ]
     },
     "execution_count": 17,
     "metadata": {},
     "output_type": "execute_result"
    },
    {
     "data": {
      "image/png": "[encoded data removed]",
      "text/plain": [
       "<Figure size 432x288 with 1 Axes>"
      ]
     },
     "metadata": {
      "needs_background": "light"
     },
     "output_type": "display_data"
    }
   ],
   "source": [
    "steps = range(0, num_iterations + 1, eval_interval)\n",
    "plt.plot(steps, returns)\n",
    "plt.ylabel('Average Return')\n",
    "plt.xlabel('Step')\n",
    "plt.ylim(top=250)"
   ]
  },
  {
   "cell_type": "markdown",
   "metadata": {
    "id": "M7-XpPP99Cy7"
   },
   "source": [
    "### Videos"
   ]
  },
  {
   "cell_type": "markdown",
   "metadata": {
    "id": "9pGfGxSH32gn"
   },
   "source": [
    "각 단계에서 환경을 렌더링하여 에이전트의 성능을 시각화하는 데 도움이 됩니다. 그 전에 먼저 이 colab에 동영상을 삽입하는 함수를 만들어 보겠습니다."
   ]
  },
  {
   "cell_type": "code",
   "execution_count": 18,
   "metadata": {
    "id": "ULaGr8pvOKbl"
   },
   "outputs": [],
   "source": [
    "def embed_mp4(filename):\n",
    "  \"\"\"Embeds an mp4 file in the notebook.\"\"\"\n",
    "  video = open(filename,'rb').read()\n",
    "  b64 = base64.b64encode(video)\n",
    "  tag = '''\n",
    "  <video width=\"640\" height=\"480\" controls>\n",
    "    <source src=\"data:video/mp4;base64,{0}\" type=\"video/mp4\">\n",
    "  Your browser does not support the video tag.\n",
    "  </video>'''.format(b64.decode())\n",
    "\n",
    "  return IPython.display.HTML(tag)"
   ]
  },
  {
   "cell_type": "markdown",
   "metadata": {
    "id": "9c_PH-pX4Pr5"
   },
   "source": [
    "The following code visualizes the agent's policy for a few episodes:"
   ]
  },
  {
   "cell_type": "code",
   "execution_count": 19,
   "metadata": {
    "colab": {
     "base_uri": "https://localhost:8080/",
     "height": 539
    },
    "id": "owOVWB158NlF",
    "outputId": "0fa0ed62-aeae-4799-84a8-93e9699d46fd"
   },
   "outputs": [
    {
     "name": "stderr",
     "output_type": "stream",
     "text": [
      "WARNING:root:IMAGEIO FFMPEG_WRITER WARNING: input image is not divisible by macro_block_size=16, resizing from (400, 600) to (400, 608) to ensure video compatibility with most codecs and players. To prevent resizing, make your input image divisible by the macro_block_size or set the macro_block_size to None (risking incompatibility). You may also see a FFMPEG warning concerning speedloss due to data not being aligned.\n"
     ]
    },
    {
     "data": {
      "text/html": [
       "\n",
       "  <video width=\"640\" height=\"480\" controls>\n",
       "    <source src=\"data:video/mp4;base64,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\" type=\"video/mp4\">\n",
       "  Your browser does not support the video tag.\n",
       "  </video>"
      ],
      "text/plain": [
       "<IPython.core.display.HTML object>"
      ]
     },
     "execution_count": 19,
     "metadata": {},
     "output_type": "execute_result"
    }
   ],
   "source": [
    "num_episodes = 3\n",
    "video_filename = 'imageio.mp4'\n",
    "with imageio.get_writer(video_filename, fps=60) as video:\n",
    "  for _ in range(num_episodes):\n",
    "    time_step = eval_env.reset()\n",
    "    video.append_data(eval_py_env.render())\n",
    "    while not time_step.is_last():\n",
    "      action_step = tf_agent.policy.action(time_step)\n",
    "      time_step = eval_env.step(action_step.action)\n",
    "      video.append_data(eval_py_env.render())\n",
    "\n",
    "embed_mp4(video_filename)"
   ]
  }
 ],
 "metadata": {
  "accelerator": "GPU",
  "colab": {
   "collapsed_sections": [],
   "name": "6_reinforce_tutorial.ipynb",
   "provenance": []
  },
  "kernelspec": {
   "display_name": "Python 3",
   "language": "python",
   "name": "python3"
  },
  "language_info": {
   "codemirror_mode": {
    "name": "ipython",
    "version": 3
   },
   "file_extension": ".py",
   "mimetype": "text/x-python",
   "name": "python",
   "nbconvert_exporter": "python",
   "pygments_lexer": "ipython3",
   "version": "3.7.10"
  }
 },
 "nbformat": 4,
 "nbformat_minor": 1
}
