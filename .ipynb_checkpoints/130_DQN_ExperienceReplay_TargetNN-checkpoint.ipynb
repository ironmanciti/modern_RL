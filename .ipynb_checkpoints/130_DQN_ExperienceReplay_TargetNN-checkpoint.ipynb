{
 "cells": [
  {
   "cell_type": "markdown",
   "id": "c3e89aca-6c52-4b20-b1a3-9279ef0fd99b",
   "metadata": {
    "id": "c3e89aca-6c52-4b20-b1a3-9279ef0fd99b"
   },
   "source": [
    "# 130. Deep Q-Network (DQN) \n",
    "\n",
    "## Deep Q-learning Target NN and DDQN - Deep Mind\n",
    "#### Playing Atari with Deep Reinforcement Learning - 2015.2\n",
    "\n",
    "<img src=\"https://miro.medium.com/max/1400/1*Xq6RioWPiUo3VppN_tb0OQ.png\" width=500 />\n",
    "\n"
   ]
  },
  {
   "cell_type": "markdown",
   "id": "fd834f1b-51c4-4910-a4d6-3b212e1a2a5a",
   "metadata": {
    "id": "fd834f1b-51c4-4910-a4d6-3b212e1a2a5a"
   },
   "source": [
    "## Deep Q-Network (DQN)"
   ]
  },
  {
   "cell_type": "code",
   "execution_count": 1,
   "id": "k1aOb09toPb5",
   "metadata": {
    "colab": {
     "base_uri": "https://localhost:8080/"
    },
    "id": "k1aOb09toPb5",
    "outputId": "6c176dd3-5b8c-492b-9958-45eb52d4d7bf"
   },
   "outputs": [
    {
     "name": "stdout",
     "output_type": "stream",
     "text": [
      "  Building wheel for mujoco-py (setup.py) ... \u001b[?25lerror\n",
      "\u001b[31m  ERROR: Failed building wheel for mujoco-py\u001b[0m\n",
      "\u001b[?25h    Running setup.py install for mujoco-py ... \u001b[?25l\u001b[?25herror\n",
      "\u001b[31mERROR: Command errored out with exit status 1: /usr/bin/python3 -u -c 'import io, os, sys, setuptools, tokenize; sys.argv[0] = '\"'\"'/tmp/pip-install-7jf1b2jq/mujoco-py_52e7e60a0f254e7ab34428e9ee314875/setup.py'\"'\"'; __file__='\"'\"'/tmp/pip-install-7jf1b2jq/mujoco-py_52e7e60a0f254e7ab34428e9ee314875/setup.py'\"'\"';f = getattr(tokenize, '\"'\"'open'\"'\"', open)(__file__) if os.path.exists(__file__) else io.StringIO('\"'\"'from setuptools import setup; setup()'\"'\"');code = f.read().replace('\"'\"'\\r\\n'\"'\"', '\"'\"'\\n'\"'\"');f.close();exec(compile(code, __file__, '\"'\"'exec'\"'\"'))' install --record /tmp/pip-record-mni6lg0p/install-record.txt --single-version-externally-managed --compile --install-headers /usr/local/include/python3.7/mujoco-py Check the logs for full command output.\u001b[0m\n"
     ]
    }
   ],
   "source": [
    "# gym install\n",
    "!pip3 install -q box2d-py\n",
    "!pip3 install -q gym[all]"
   ]
  },
  {
   "cell_type": "code",
   "execution_count": 2,
   "id": "22518486-3c2f-47fe-92b3-1502875eacfe",
   "metadata": {
    "colab": {
     "base_uri": "https://localhost:8080/"
    },
    "id": "22518486-3c2f-47fe-92b3-1502875eacfe",
    "outputId": "e7495d70-4e94-4f60-e057-301e076d4471"
   },
   "outputs": [
    {
     "data": {
      "text/plain": [
       "device(type='cuda', index=0)"
      ]
     },
     "execution_count": 2,
     "metadata": {},
     "output_type": "execute_result"
    }
   ],
   "source": [
    "from IPython import display\n",
    "import matplotlib.pyplot as plt\n",
    "import gym\n",
    "\n",
    "import random\n",
    "import torch\n",
    "import torch.nn as nn\n",
    "import torch.nn.functional as F\n",
    "import torch.optim as optim\n",
    "\n",
    "import numpy as np\n",
    "from collections import deque, namedtuple\n",
    "\n",
    "device = torch.device(\"cuda:0\" if torch.cuda.is_available() else \"cpu\")\n",
    "device"
   ]
  },
  {
   "cell_type": "markdown",
   "id": "f75f934c-6921-43aa-8389-6df4b993eca4",
   "metadata": {
    "id": "f75f934c-6921-43aa-8389-6df4b993eca4"
   },
   "source": [
    "환경을 초기화합니다."
   ]
  },
  {
   "cell_type": "code",
   "execution_count": 3,
   "id": "594828b6-da33-481d-ab42-041e8c17ffea",
   "metadata": {
    "colab": {
     "base_uri": "https://localhost:8080/"
    },
    "id": "594828b6-da33-481d-ab42-041e8c17ffea",
    "outputId": "adac8bff-74a8-4580-d7ef-24a0682c6362"
   },
   "outputs": [
    {
     "name": "stdout",
     "output_type": "stream",
     "text": [
      "State dimension:  2\n",
      "Number of actions:  3\n"
     ]
    }
   ],
   "source": [
    "env_name = 'MountainCar-v0' # 'LunarLander-v2' #'CartPole-v1' #'MountainCar-v0'\n",
    "env = gym.make(env_name)\n",
    "\n",
    "env.seed(0)\n",
    "num_states = env.observation_space.shape[0]\n",
    "num_actions = env.action_space.n\n",
    "print('State dimension: ', num_states)\n",
    "print('Number of actions: ', num_actions)\n",
    "\n",
    "# Define some hyperparameters\n",
    "if env_name == 'CartPole-v1':\n",
    "    BUFFER_SIZE = 100_000  # replay buffer size\n",
    "    BATCH_SIZE = 64         # minibatch size\n",
    "    GAMMA = 0.99            # discount factor\n",
    "    LR = 0.0005               # learning rate \n",
    "    UPDATE_EVERY = 10        # how often to update the network\n",
    "    WIN_SCORE = 500\n",
    "\n",
    "if env_name == 'LunarLander-v2':\n",
    "    BUFFER_SIZE = 100_000  # replay buffer size\n",
    "    BATCH_SIZE = 64         # minibatch size\n",
    "    GAMMA = 0.99            # discount factor\n",
    "    LR = 0.0005               # learning rate \n",
    "    UPDATE_EVERY = 10        # how often to update the network\n",
    "    WIN_SCORE = 200\n",
    "\n",
    "if env_name == 'MountainCar-v0':\n",
    "    BUFFER_SIZE = 100_000  # replay buffer size\n",
    "    BATCH_SIZE = 64         # minibatch size\n",
    "    GAMMA = 0.99            # discount factor\n",
    "    LR = 0.01               # learning rate \n",
    "    UPDATE_EVERY = 5        # how often to update the network\n",
    "    WIN_SCORE = 200"
   ]
  },
  {
   "cell_type": "markdown",
   "id": "03735bdc-c07e-4c87-b208-cce894bb8e43",
   "metadata": {
    "id": "03735bdc-c07e-4c87-b208-cce894bb8e43"
   },
   "source": [
    "### Neural Network Architecture 정의"
   ]
  },
  {
   "cell_type": "code",
   "execution_count": 5,
   "id": "ae834607-433e-4ed5-8b23-8de7b53230a8",
   "metadata": {
    "id": "ae834607-433e-4ed5-8b23-8de7b53230a8"
   },
   "outputs": [],
   "source": [
    "class QNetwork(nn.Module):\n",
    "    \"\"\"Actor (Policy) Model.\"\"\"\n",
    "\n",
    "    def __init__(self, state_size, action_size, seed):\n",
    "        \"\"\"Initialize parameters and build model.\n",
    "        Params\n",
    "        ======\n",
    "            state_size (int): Dimension of each state\n",
    "            action_size (int): Dimension of each action\n",
    "            seed (int): Random seed\n",
    "        \"\"\"\n",
    "        super(QNetwork, self).__init__()\n",
    "        self.seed = torch.manual_seed(seed)\n",
    "        self.fc1 = nn.Linear(state_size, 64)\n",
    "        self.fc2 = nn.Linear(64, 64)\n",
    "        self.fc3 = nn.Linear(64, action_size)\n",
    "        \n",
    "    def forward(self, state):\n",
    "        \"\"\"Build a network that maps state -> action values.\"\"\"\n",
    "        x = self.fc1(state)\n",
    "        x = F.relu(x)\n",
    "        x = self.fc2(x)\n",
    "        x = F.relu(x)\n",
    "        return self.fc3(x)"
   ]
  },
  {
   "cell_type": "markdown",
   "id": "1d861efe-200c-4690-9698-722abbf0b77c",
   "metadata": {
    "id": "1d861efe-200c-4690-9698-722abbf0b77c"
   },
   "source": [
    "### Define Agent "
   ]
  },
  {
   "cell_type": "code",
   "execution_count": 6,
   "id": "0530f456-2bfd-4061-ad62-f14846a9a284",
   "metadata": {
    "id": "0530f456-2bfd-4061-ad62-f14846a9a284"
   },
   "outputs": [],
   "source": [
    "class Agent():\n",
    "\n",
    "    def __init__(self, state_size, action_size, seed):\n",
    "        \"\"\"\n",
    "        Params\n",
    "        ======\n",
    "            state_size (int): dimension of each state\n",
    "            action_size (int): dimension of each action\n",
    "            seed (int): random seed\n",
    "        \"\"\"\n",
    "        self.state_size = state_size\n",
    "        self.action_size = action_size\n",
    "        self.seed = random.seed(seed)\n",
    "\n",
    "        # Q-Network\n",
    "        self.qnetwork_local = QNetwork(state_size, action_size, seed).to(device)\n",
    "        self.qnetwork_target = QNetwork(state_size, action_size, seed).to(device)\n",
    "        self.optimizer = optim.Adam(self.qnetwork_local.parameters(), lr=LR)\n",
    "\n",
    "        # Replay memory\n",
    "        self.memory = ReplayBuffer(action_size, BUFFER_SIZE, BATCH_SIZE, seed)\n",
    "        # 시간 단계 초기화(UPDATE_EVERY 단계 업데이트용)\n",
    "        self.t_step = 0\n",
    "    \n",
    "    def step(self, state, action, reward, next_state, done):\n",
    "        #리플레이 메모리에 experience 저장\n",
    "        self.memory.add(state, action, reward, next_state, done)\n",
    "        \n",
    "        # Learn every UPDATE_EVERY time steps.\n",
    "        self.t_step = (self.t_step + 1) % UPDATE_EVERY\n",
    "        if self.t_step == 0:\n",
    "            # If enough samples are available in memory, get random subset and learn\n",
    "            if len(self.memory) > BATCH_SIZE:\n",
    "                experiences = self.memory.sample()\n",
    "                self.learn(experiences, GAMMA)\n",
    "\n",
    "    def act(self, state, eps=0.):\n",
    "        \"\"\"Returns actions for given state as per current policy.\n",
    "        \n",
    "        Params\n",
    "        ======\n",
    "            state (array_like): current state\n",
    "            eps (float): epsilon, for epsilon-greedy action selection\n",
    "        \"\"\"\n",
    "        state = torch.from_numpy(state).float().unsqueeze(0).to(device)\n",
    "        self.qnetwork_local.eval()\n",
    "        with torch.no_grad():\n",
    "            action_values = self.qnetwork_local(state)\n",
    "        self.qnetwork_local.train()\n",
    "\n",
    "        # Epsilon-greedy action selection\n",
    "        if random.random() > eps:\n",
    "            return np.argmax(action_values.cpu().data.numpy())\n",
    "        else:\n",
    "            return random.choice(np.arange(self.action_size))\n",
    "\n",
    "    def learn(self, experiences, gamma):\n",
    "        \"\"\"Update value parameters using given batch of experience tuples.\n",
    "\n",
    "        Params\n",
    "        ======\n",
    "            experiences (Tuple[torch.Variable]): tuple of (s, a, r, s', done) tuples \n",
    "            gamma (float): discount factor\n",
    "        \"\"\"\n",
    "        # Obtain random minibatch of tuples from D\n",
    "        states, actions, rewards, next_states, dones = experiences\n",
    "\n",
    "        ## Compute and minimize the loss\n",
    "        ### Extract next maximum estimated value from target network\n",
    "        q_targets_next = self.qnetwork_target(next_states).detach().max(1)[0].unsqueeze(1)\n",
    "        ### Calculate target value from bellman equation\n",
    "        q_targets = rewards + gamma * q_targets_next * (1 - dones)\n",
    "        ### Calculate expected value from local network\n",
    "        q_expected = self.qnetwork_local(states).gather(1, actions)\n",
    "        \n",
    "        ### Loss calculation (we used Mean squared error)\n",
    "        loss = F.mse_loss(q_expected, q_targets)\n",
    "        self.optimizer.zero_grad()\n",
    "        loss.backward()\n",
    "        self.optimizer.step()\n",
    "\n",
    "        # ------------------- update target network ------------------- #\n",
    "        self.qnetwork_target.load_state_dict(self.qnetwork_local.state_dict())                  "
   ]
  },
  {
   "cell_type": "markdown",
   "id": "4eb5db66-ecb3-4bf4-aee1-3e18003c17b0",
   "metadata": {
    "id": "4eb5db66-ecb3-4bf4-aee1-3e18003c17b0"
   },
   "source": [
    "### Define Replay Buffer"
   ]
  },
  {
   "cell_type": "code",
   "execution_count": 7,
   "id": "f74bb08e-0b95-42db-9fc8-d609514d55af",
   "metadata": {
    "id": "f74bb08e-0b95-42db-9fc8-d609514d55af"
   },
   "outputs": [],
   "source": [
    "class ReplayBuffer:\n",
    "    \"\"\"Fixed-size buffer to store experience tuples.\"\"\"\n",
    "\n",
    "    def __init__(self, action_size, buffer_size, batch_size, seed):\n",
    "        \"\"\"Initialize a ReplayBuffer object.\n",
    "\n",
    "        Params\n",
    "        ======\n",
    "            action_size (int): dimension of each action\n",
    "            buffer_size (int): maximum size of buffer\n",
    "            batch_size (int): size of each training batch\n",
    "            seed (int): random seed\n",
    "        \"\"\"\n",
    "        self.action_size = action_size\n",
    "        self.memory = deque(maxlen=buffer_size)  \n",
    "        self.batch_size = batch_size\n",
    "        self.experience = namedtuple(\"Experience\", \n",
    "                                     field_names=[\"state\", \"action\", \"reward\", \"next_state\", \"done\"])\n",
    "        self.seed = random.seed(seed)\n",
    "    \n",
    "    def add(self, state, action, reward, next_state, done):\n",
    "        \"\"\"Add a new experience to memory.\"\"\"\n",
    "        e = self.experience(state, action, reward, next_state, done)\n",
    "        self.memory.append(e)\n",
    "    \n",
    "    def sample(self):\n",
    "        \"\"\"Randomly sample a batch of experiences from memory.\"\"\"\n",
    "        experiences = random.sample(self.memory, k=self.batch_size)\n",
    "\n",
    "        states = torch.from_numpy(\n",
    "                        np.vstack([e.state for e in experiences if e is not None])).float().to(device)\n",
    "        actions = torch.from_numpy(\n",
    "                        np.vstack([e.action for e in experiences if e is not None])).long().to(device)\n",
    "        rewards = torch.from_numpy(\n",
    "                        np.vstack([e.reward for e in experiences if e is not None])).float().to(device)\n",
    "        next_states = torch.from_numpy(\n",
    "                        np.vstack([e.next_state for e in experiences if e is not None])).float().to(device)\n",
    "        dones = torch.from_numpy(\n",
    "                        np.vstack([e.done for e in experiences if e is not None]).astype(np.uint8)).float().to(device)\n",
    "        return (states, actions, rewards, next_states, dones)\n",
    "\n",
    "    def __len__(self):\n",
    "        \"\"\"Return the current size of internal memory.\"\"\"\n",
    "        return len(self.memory)"
   ]
  },
  {
   "cell_type": "markdown",
   "id": "6bd61b8d-b63e-444f-9cb7-6295df46995d",
   "metadata": {
    "id": "6bd61b8d-b63e-444f-9cb7-6295df46995d"
   },
   "source": [
    "### Training Process"
   ]
  },
  {
   "cell_type": "code",
   "execution_count": 8,
   "id": "c907ab57-ed48-4824-b27c-8c7d707d6919",
   "metadata": {
    "colab": {
     "base_uri": "https://localhost:8080/"
    },
    "id": "c907ab57-ed48-4824-b27c-8c7d707d6919",
    "outputId": "eac38da8-b8f2-4e92-ab84-3a5a3b7e75d0"
   },
   "outputs": [
    {
     "name": "stdout",
     "output_type": "stream",
     "text": [
      "Episode 100\tAverage Score: -200.00\n",
      "Episode 200\tAverage Score: -200.00\n",
      "Episode 300\tAverage Score: -198.91\n",
      "Episode 400\tAverage Score: -189.88\n",
      "Episode 500\tAverage Score: -188.89\n",
      "Episode 600\tAverage Score: -177.57\n",
      "Episode 700\tAverage Score: -177.65\n",
      "Episode 800\tAverage Score: -173.71\n",
      "Episode 900\tAverage Score: -174.56\n",
      "Episode 1000\tAverage Score: -161.51\n",
      "\n",
      "Complete after 1000 episodes!\tAverage Score: -161.51\n"
     ]
    }
   ],
   "source": [
    "def dqn(n_episodes=1000, max_t=1000, eps_start=1.0, eps_end=0.01, eps_decay=0.995):\n",
    "    \"\"\"Deep Q-Learning.\n",
    "    \n",
    "    Params\n",
    "    ======\n",
    "        n_episodes (int): 최대 훈련 에피소드 수\n",
    "        max_t (int): 에피소드당 최대 timestep 수\n",
    "        eps_start (float): starting value of epsilon, for epsilon-greedy action selection\n",
    "        eps_end (float): minimum value of epsilon\n",
    "        eps_decay (float): multiplicative factor (per episode) for decreasing epsilon\n",
    "    \"\"\"\n",
    "    scores = []                        # list containing scores from each episode\n",
    "    scores_window = deque(maxlen=100)  # last 100 scores\n",
    "    eps = eps_start                    # initialize epsilon\n",
    "    for i_episode in range(1, n_episodes+1):\n",
    "        state = env.reset()\n",
    "        score = 0\n",
    "        for t in range(max_t):\n",
    "            action = agent.act(state, eps)\n",
    "            next_state, reward, done, _ = env.step(action)\n",
    "            agent.step(state, action, reward, next_state, done)\n",
    "            state = next_state\n",
    "            score += reward\n",
    "            if done:\n",
    "                break \n",
    "        scores_window.append(score)       # save most recent score\n",
    "        scores.append(score)              # save most recent score\n",
    "        eps = max(eps_end, eps_decay*eps) # decrease epsilon\n",
    "        print('\\rEpisode {}\\tAverage Score: {:.2f}'.format(i_episode, np.mean(scores_window)), end=\"\")\n",
    "        if i_episode % 100 == 0:\n",
    "            print('\\rEpisode {}\\tAverage Score: {:.2f}'.format(i_episode, np.mean(scores_window)))\n",
    "        if np.mean(scores_window)>=WIN_SCORE or i_episode == n_episodes:\n",
    "            print('\\nComplete after {:d} episodes!\\tAverage Score: {:.2f}'.format(\n",
    "                                                i_episode, np.mean(scores_window)))\n",
    "            torch.save(agent.qnetwork_local.state_dict(), 'checkpoint.pth')\n",
    "            break\n",
    "    return scores\n",
    "\n",
    "agent = Agent(state_size=num_states, action_size=num_actions, seed=0)\n",
    "scores = dqn()"
   ]
  },
  {
   "cell_type": "markdown",
   "id": "1ba6726a-977a-4345-8897-021302bfc262",
   "metadata": {
    "id": "1ba6726a-977a-4345-8897-021302bfc262"
   },
   "source": [
    "### Plot the learning progress"
   ]
  },
  {
   "cell_type": "code",
   "execution_count": 9,
   "id": "d2d491c9-a5dc-4c32-a95d-796f85c60c83",
   "metadata": {
    "colab": {
     "base_uri": "https://localhost:8080/",
     "height": 279
    },
    "id": "d2d491c9-a5dc-4c32-a95d-796f85c60c83",
    "outputId": "1196b924-77c3-40cf-d053-720613fca24c"
   },
   "outputs": [
    {
     "data": {
      "image/png": "[encoded data removed]",
      "text/plain": [
       "<Figure size 432x288 with 1 Axes>"
      ]
     },
     "metadata": {
      "needs_background": "light"
     },
     "output_type": "display_data"
    }
   ],
   "source": [
    "# plot the scores\n",
    "fig = plt.figure()\n",
    "ax = fig.add_subplot(111)\n",
    "plt.plot(np.arange(len(scores)), scores)\n",
    "plt.ylabel('Score')\n",
    "plt.xlabel('Episode #')\n",
    "plt.show()"
   ]
  },
  {
   "cell_type": "markdown",
   "id": "ebb450a9-c530-4f10-b629-53a2d69860c2",
   "metadata": {
    "id": "ebb450a9-c530-4f10-b629-53a2d69860c2"
   },
   "source": [
    "### Animate it with Video"
   ]
  },
  {
   "cell_type": "code",
   "execution_count": 10,
   "id": "RAbIFmQ6pGw1",
   "metadata": {
    "id": "RAbIFmQ6pGw1"
   },
   "outputs": [],
   "source": [
    "# install dependencies needed for recording videos\n",
    "!apt-get install -y xvfb x11-utils > tmp\n",
    "!pip install -q pyvirtualdisplay==0.2.*"
   ]
  },
  {
   "cell_type": "code",
   "execution_count": 11,
   "id": "N_77FUu9tGCv",
   "metadata": {
    "id": "N_77FUu9tGCv"
   },
   "outputs": [],
   "source": [
    "from pyvirtualdisplay import Display\n",
    "display = Display(visible=False, size=(1400, 900))\n",
    "_ = display.start()\n",
    "\n",
    "from base64 import b64encode\n",
    "def render_mp4(videopath: str) -> str:\n",
    "  \"\"\"\n",
    "  Gets a string containing a b4-encoded version of the MP4 video\n",
    "  at the specified path.\n",
    "  \"\"\"\n",
    "  mp4 = open(videopath, 'rb').read()\n",
    "  base64_encoded_mp4 = b64encode(mp4).decode()\n",
    "  return f'<video width=400 controls><source src=\"data:video/mp4;' \\\n",
    "         f'base64,{base64_encoded_mp4}\" type=\"video/mp4\"></video>'"
   ]
  },
  {
   "cell_type": "code",
   "execution_count": 12,
   "id": "vkPYTiTvtaBh",
   "metadata": {
    "colab": {
     "base_uri": "https://localhost:8080/"
    },
    "id": "vkPYTiTvtaBh",
    "outputId": "d363ccb1-1f70-4463-e9d1-9dd196d59c81"
   },
   "outputs": [
    {
     "data": {
      "text/plain": [
       "<All keys matched successfully>"
      ]
     },
     "execution_count": 12,
     "metadata": {},
     "output_type": "execute_result"
    }
   ],
   "source": [
    "agent.qnetwork_local.load_state_dict(torch.load('checkpoint.pth'))"
   ]
  },
  {
   "cell_type": "code",
   "execution_count": 13,
   "id": "x2ALN_96thkU",
   "metadata": {
    "id": "x2ALN_96thkU"
   },
   "outputs": [],
   "source": [
    "from gym.wrappers.monitoring.video_recorder import VideoRecorder\n",
    "file = \"rendering.mp4\"\n",
    "video = VideoRecorder(env, file)\n",
    "\n",
    "# 시각화\n",
    "state = env.reset()\n",
    "for _ in range(500):\n",
    "    env.render()\n",
    "    video.capture_frame()\n",
    "    action = agent.act(state)\n",
    "    state, reward, done, _ = env.step(action)\n",
    "\n",
    "env.close()\n",
    "video.close()"
   ]
  },
  {
   "cell_type": "code",
   "execution_count": 14,
   "id": "Ra7GvP0ctxv0",
   "metadata": {
    "colab": {
     "base_uri": "https://localhost:8080/",
     "height": 287
    },
    "id": "Ra7GvP0ctxv0",
    "outputId": "decaef68-8e56-4fa4-963b-b477e20da458"
   },
   "outputs": [
    {
     "data": {
      "text/html": [
       "<video width=400 controls><source src=\"data:video/mp4;base64,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\" type=\"video/mp4\"></video>"
      ],
      "text/plain": [
       "<IPython.core.display.HTML object>"
      ]
     },
     "execution_count": 14,
     "metadata": {},
     "output_type": "execute_result"
    }
   ],
   "source": [
    "from IPython.display import HTML\n",
    "html = render_mp4(file)\n",
    "HTML(html)"
   ]
  }
 ],
 "metadata": {
  "accelerator": "GPU",
  "colab": {
   "name": "130_DQN_ExperienceReplay_TargetNN.ipynb",
   "provenance": []
  },
  "kernelspec": {
   "display_name": "Python 3",
   "language": "python",
   "name": "python3"
  },
  "language_info": {
   "codemirror_mode": {
    "name": "ipython",
    "version": 3
   },
   "file_extension": ".py",
   "mimetype": "text/x-python",
   "name": "python",
   "nbconvert_exporter": "python",
   "pygments_lexer": "ipython3",
   "version": "3.9.7"
  }
 },
 "nbformat": 4,
 "nbformat_minor": 5
}
