{
 "cells": [
  {
   "cell_type": "markdown",
   "id": "53008013",
   "metadata": {
    "id": "53008013"
   },
   "source": [
    "# 130. Deep Q-Network (DQN) \n",
    "\n",
    "## Deep Q-learning Target NN and DDQN - Deep Mind\n",
    "#### Playing Atari with Deep Reinforcement Learning - 2015.2\n",
    "\n",
    "<img src=\"https://miro.medium.com/max/1400/1*igVmhIWcLPrNnRPwx8PQSg.png\" width= 500 />\n",
    "\n"
   ]
  },
  {
   "cell_type": "markdown",
   "id": "51b152ff",
   "metadata": {
    "id": "51b152ff"
   },
   "source": [
    "## Deep Q-Network (DQN)"
   ]
  },
  {
   "cell_type": "code",
   "execution_count": 1,
   "id": "0d4e3a8d",
   "metadata": {
    "colab": {
     "base_uri": "https://localhost:8080/"
    },
    "id": "0d4e3a8d",
    "outputId": "ca493c63-f08a-42f7-db1c-12f106e74fd8"
   },
   "outputs": [
    {
     "name": "stdout",
     "output_type": "stream",
     "text": [
      "\u001b[?25l\r",
      "\u001b[K     |▊                               | 10 kB 28.2 MB/s eta 0:00:01\r",
      "\u001b[K     |█▌                              | 20 kB 35.8 MB/s eta 0:00:01\r",
      "\u001b[K     |██▏                             | 30 kB 24.9 MB/s eta 0:00:01\r",
      "\u001b[K     |███                             | 40 kB 14.2 MB/s eta 0:00:01\r",
      "\u001b[K     |███▋                            | 51 kB 13.1 MB/s eta 0:00:01\r",
      "\u001b[K     |████▍                           | 61 kB 15.2 MB/s eta 0:00:01\r",
      "\u001b[K     |█████▏                          | 71 kB 14.6 MB/s eta 0:00:01\r",
      "\u001b[K     |█████▉                          | 81 kB 12.5 MB/s eta 0:00:01\r",
      "\u001b[K     |██████▋                         | 92 kB 13.6 MB/s eta 0:00:01\r",
      "\u001b[K     |███████▎                        | 102 kB 14.4 MB/s eta 0:00:01\r",
      "\u001b[K     |████████                        | 112 kB 14.4 MB/s eta 0:00:01\r",
      "\u001b[K     |████████▊                       | 122 kB 14.4 MB/s eta 0:00:01\r",
      "\u001b[K     |█████████▌                      | 133 kB 14.4 MB/s eta 0:00:01\r",
      "\u001b[K     |██████████▎                     | 143 kB 14.4 MB/s eta 0:00:01\r",
      "\u001b[K     |███████████                     | 153 kB 14.4 MB/s eta 0:00:01\r",
      "\u001b[K     |███████████▊                    | 163 kB 14.4 MB/s eta 0:00:01\r",
      "\u001b[K     |████████████▍                   | 174 kB 14.4 MB/s eta 0:00:01\r",
      "\u001b[K     |█████████████▏                  | 184 kB 14.4 MB/s eta 0:00:01\r",
      "\u001b[K     |█████████████▉                  | 194 kB 14.4 MB/s eta 0:00:01\r",
      "\u001b[K     |██████████████▋                 | 204 kB 14.4 MB/s eta 0:00:01\r",
      "\u001b[K     |███████████████▍                | 215 kB 14.4 MB/s eta 0:00:01\r",
      "\u001b[K     |████████████████                | 225 kB 14.4 MB/s eta 0:00:01\r",
      "\u001b[K     |████████████████▉               | 235 kB 14.4 MB/s eta 0:00:01\r",
      "\u001b[K     |█████████████████▌              | 245 kB 14.4 MB/s eta 0:00:01\r",
      "\u001b[K     |██████████████████▎             | 256 kB 14.4 MB/s eta 0:00:01\r",
      "\u001b[K     |███████████████████             | 266 kB 14.4 MB/s eta 0:00:01\r",
      "\u001b[K     |███████████████████▊            | 276 kB 14.4 MB/s eta 0:00:01\r",
      "\u001b[K     |████████████████████▌           | 286 kB 14.4 MB/s eta 0:00:01\r",
      "\u001b[K     |█████████████████████▏          | 296 kB 14.4 MB/s eta 0:00:01\r",
      "\u001b[K     |██████████████████████          | 307 kB 14.4 MB/s eta 0:00:01\r",
      "\u001b[K     |██████████████████████▋         | 317 kB 14.4 MB/s eta 0:00:01\r",
      "\u001b[K     |███████████████████████▍        | 327 kB 14.4 MB/s eta 0:00:01\r",
      "\u001b[K     |████████████████████████        | 337 kB 14.4 MB/s eta 0:00:01\r",
      "\u001b[K     |████████████████████████▉       | 348 kB 14.4 MB/s eta 0:00:01\r",
      "\u001b[K     |█████████████████████████▋      | 358 kB 14.4 MB/s eta 0:00:01\r",
      "\u001b[K     |██████████████████████████▎     | 368 kB 14.4 MB/s eta 0:00:01\r",
      "\u001b[K     |███████████████████████████     | 378 kB 14.4 MB/s eta 0:00:01\r",
      "\u001b[K     |███████████████████████████▊    | 389 kB 14.4 MB/s eta 0:00:01\r",
      "\u001b[K     |████████████████████████████▌   | 399 kB 14.4 MB/s eta 0:00:01\r",
      "\u001b[K     |█████████████████████████████▏  | 409 kB 14.4 MB/s eta 0:00:01\r",
      "\u001b[K     |██████████████████████████████  | 419 kB 14.4 MB/s eta 0:00:01\r",
      "\u001b[K     |██████████████████████████████▊ | 430 kB 14.4 MB/s eta 0:00:01\r",
      "\u001b[K     |███████████████████████████████▍| 440 kB 14.4 MB/s eta 0:00:01\r",
      "\u001b[K     |████████████████████████████████| 448 kB 14.4 MB/s \n",
      "\u001b[?25h"
     ]
    }
   ],
   "source": [
    "# 2D physics library\n",
    "!pip3 install -q box2d-py\n",
    "\n",
    "# # install dependencies needed for recording videos\n",
    "!apt-get install -y xvfb x11-utils > tmp\n",
    "!pip install -q pyvirtualdisplay==0.2.*"
   ]
  },
  {
   "cell_type": "code",
   "execution_count": 2,
   "id": "87ba52dd",
   "metadata": {
    "colab": {
     "base_uri": "https://localhost:8080/"
    },
    "id": "87ba52dd",
    "outputId": "a069dd89-fc2b-4c07-a7fd-fd1f5674b7aa"
   },
   "outputs": [
    {
     "data": {
      "text/plain": [
       "device(type='cuda', index=0)"
      ]
     },
     "execution_count": 2,
     "metadata": {},
     "output_type": "execute_result"
    }
   ],
   "source": [
    "from IPython import display\n",
    "import matplotlib.pyplot as plt\n",
    "import gym\n",
    "from IPython.display import HTML\n",
    "from pyvirtualdisplay import Display\n",
    "from gym.wrappers.monitoring.video_recorder import VideoRecorder\n",
    "from base64 import b64encode\n",
    "\n",
    "import random\n",
    "import torch\n",
    "import torch.nn as nn\n",
    "import torch.nn.functional as F\n",
    "import torch.optim as optim\n",
    "\n",
    "import numpy as np\n",
    "import collections\n",
    "\n",
    "device = torch.device(\"cuda:0\" if torch.cuda.is_available() else \"cpu\")\n",
    "device"
   ]
  },
  {
   "cell_type": "markdown",
   "id": "ea8312f5",
   "metadata": {
    "id": "ea8312f5"
   },
   "source": [
    "환경을 초기화합니다.  \n",
    "\n",
    "[MountainCar-v0](https://www.gymlibrary.ml/environments/classic_control/mountain_car/)  \n",
    "[LunarLander-v2](https://www.gymlibrary.ml/environments/box2d/lunar_lander/)  \n",
    "[MountainCar-v0'](https://www.gymlibrary.ml/environments/classic_control/cart_pole/)"
   ]
  },
  {
   "cell_type": "code",
   "execution_count": 3,
   "id": "88e309e3",
   "metadata": {
    "colab": {
     "base_uri": "https://localhost:8080/"
    },
    "id": "88e309e3",
    "outputId": "e1b1934e-ca36-4eda-f99c-30e552807b79"
   },
   "outputs": [
    {
     "name": "stdout",
     "output_type": "stream",
     "text": [
      "State dimension:  2\n",
      "Number of actions:  3\n"
     ]
    }
   ],
   "source": [
    "ENV_NAME = 'MountainCar-v0'  # 'LunarLander-v2' #'CartPole-v1' #'MountainCar-v0'\n",
    "env = gym.make(ENV_NAME)\n",
    "\n",
    "env.seed(0)\n",
    "print('State dimension: ', env.observation_space.shape[0])\n",
    "print('Number of actions: ', env.action_space.n)\n",
    "\n",
    "gamma = 0.99                   \n",
    "batch_size = 64         \n",
    "replay_size = 100_000       \n",
    "   \n",
    "max_t = 1000   # done 을 만나지 않아도 loop 종료\n",
    "\n",
    "UPDATE_EVERY = 10   \n",
    "\n",
    "eps_start = 1.0\n",
    "eps_decay= .995\n",
    "eps_end = 0.02\n",
    "\n",
    "n_episodes = 1000 \n",
    "\n",
    "# Define some hyperparameters\n",
    "if ENV_NAME == 'CartPole-v0':\n",
    "    learning_rate = 0.01   \n",
    "    WIN_SCORE = 200\n",
    "\n",
    "if ENV_NAME == 'LunarLander-v2':\n",
    "    learning_rate = 0.005   \n",
    "    WIN_SCORE = 100\n",
    "\n",
    "if ENV_NAME == 'MountainCar-v0':\n",
    "    learning_rate = 0.01   \n",
    "    WIN_SCORE = -150"
   ]
  },
  {
   "cell_type": "markdown",
   "id": "fe3dc611",
   "metadata": {
    "id": "fe3dc611"
   },
   "source": [
    "### Neural Network Architecture 정의"
   ]
  },
  {
   "cell_type": "code",
   "execution_count": 4,
   "id": "d3dd9b5d",
   "metadata": {
    "id": "d3dd9b5d"
   },
   "outputs": [],
   "source": [
    "class DQN(nn.Module):\n",
    "    def __init__(self, input_shape, n_actions):\n",
    "        super(DQN, self).__init__()\n",
    "        self.fc1 = nn.Linear(input_shape[0], 64)\n",
    "        self.fc2 = nn.Linear(64, 64)\n",
    "        self.fc3 = nn.Linear(64, n_actions)\n",
    "        \n",
    "    def forward(self, state):\n",
    "        \"\"\"Build a network that maps state -> action values.\"\"\"\n",
    "        x = self.fc1(state)\n",
    "        x = F.relu(x)\n",
    "        x = self.fc2(x)\n",
    "        x = F.relu(x)\n",
    "        return self.fc3(x)"
   ]
  },
  {
   "cell_type": "code",
   "execution_count": 5,
   "id": "Lgf7aS79DESM",
   "metadata": {
    "colab": {
     "base_uri": "https://localhost:8080/"
    },
    "id": "Lgf7aS79DESM",
    "outputId": "20652344-a2b1-47de-b25d-16e29a79e13e"
   },
   "outputs": [
    {
     "name": "stdout",
     "output_type": "stream",
     "text": [
      "Box(-1.2000000476837158, 0.6000000238418579, (2,), float32) Discrete(3)\n"
     ]
    },
    {
     "data": {
      "text/plain": [
       "DQN(\n",
       "  (fc1): Linear(in_features=2, out_features=64, bias=True)\n",
       "  (fc2): Linear(in_features=64, out_features=64, bias=True)\n",
       "  (fc3): Linear(in_features=64, out_features=3, bias=True)\n",
       ")"
      ]
     },
     "execution_count": 5,
     "metadata": {},
     "output_type": "execute_result"
    }
   ],
   "source": [
    "print(env.observation_space, env.action_space)\n",
    "DQN(env.observation_space.shape, env.action_space.n).to(device)"
   ]
  },
  {
   "cell_type": "markdown",
   "id": "520a430b",
   "metadata": {
    "id": "520a430b"
   },
   "source": [
    "### Replay Memory 정의"
   ]
  },
  {
   "cell_type": "code",
   "execution_count": 6,
   "id": "W2waqvtfEReO",
   "metadata": {
    "id": "W2waqvtfEReO"
   },
   "outputs": [],
   "source": [
    "Experience = collections.namedtuple('Experience', \n",
    "                                    field_names=['state', 'action', 'reward', 'done', 'new_state'])\n",
    "\n",
    "class ExperienceReplay:\n",
    "    def __init__(self, capacity):\n",
    "        self.buffer = collections.deque(maxlen=capacity)\n",
    "\n",
    "    def __len__(self):\n",
    "        return len(self.buffer)\n",
    "\n",
    "    def add(self, experience):\n",
    "        self.buffer.append(experience)\n",
    "\n",
    "    def sample(self, batch_size):\n",
    "        indices = np.random.choice(len(self.buffer), batch_size, replace=False)\n",
    "        states, actions, rewards, dones, next_states = zip(*[self.buffer[idx] for idx in indices])\n",
    "        return np.array(states, dtype=np.float32), np.array(actions, dtype=np.int64), \\\n",
    "                  np.array(rewards, dtype=np.float32), \\\n",
    "                  np.array(dones), np.array(next_states, dtype=np.float32)"
   ]
  },
  {
   "cell_type": "markdown",
   "id": "a5d4234e",
   "metadata": {
    "id": "a5d4234e"
   },
   "source": [
    "### Replay Memory, Current / Target Network 초기화"
   ]
  },
  {
   "cell_type": "code",
   "execution_count": 7,
   "id": "4R579qhZRN8C",
   "metadata": {
    "id": "4R579qhZRN8C"
   },
   "outputs": [],
   "source": [
    "#Initialize replay memory D to capacity N\n",
    "D = ExperienceReplay(replay_size)\n",
    "\n",
    "#Initialize action-value function Q with random weights theta\n",
    "Q = DQN(env.observation_space.shape, env.action_space.n).to(device)\n",
    "#Initialize target action-value function Q_hat with random weights theta_ = theta\n",
    "target_Q = DQN(env.observation_space.shape, env.action_space.n).to(device)"
   ]
  },
  {
   "cell_type": "markdown",
   "id": "bc69b410",
   "metadata": {
    "id": "bc69b410"
   },
   "source": [
    "### DQN main algorithm 구현"
   ]
  },
  {
   "cell_type": "code",
   "execution_count": 8,
   "id": "N9mNxG6qSSt9",
   "metadata": {
    "colab": {
     "base_uri": "https://localhost:8080/"
    },
    "id": "N9mNxG6qSSt9",
    "outputId": "40996cc6-1fc3-4bce-af0b-36ec655e8b60"
   },
   "outputs": [
    {
     "name": "stdout",
     "output_type": "stream",
     "text": [
      "score of spisode 100,  -200.00\n",
      "score of spisode 200,  -198.87\n",
      "score of spisode 300,  -184.81\n",
      "score of spisode 400,  -172.91\n",
      "score of spisode 500,  -161.38\n",
      "score of spisode 567,  -149.55\n",
      "Completed after 567 with score  -149.55\n"
     ]
    }
   ],
   "source": [
    "optimizer = optim.Adam(Q.parameters(), lr=learning_rate)\n",
    "\n",
    "scores = []\n",
    "eps = eps_start   \n",
    "\n",
    "for episode in range(1, n_episodes+1):\n",
    "    #Initialize sequence s1\n",
    "    state = env.reset()\n",
    "    score = 0\n",
    "    for t in range(max_t):\n",
    "        \n",
    "        #With probability e select a random action a\n",
    "        if np.random.random() < eps:\n",
    "            action = np.random.randint(env.action_space.n)\n",
    "        else:\n",
    "            #otherwise select a_t = argmax Q(s)\n",
    "            state_t = torch.FloatTensor(state).to(device)\n",
    "            with torch.no_grad():\n",
    "                action_values = Q(state_t)\n",
    "            action = np.argmax(action_values.cpu().numpy())\n",
    "            \n",
    "        #Execute action a and observe reward\n",
    "        next_state, reward, done, _ = env.step(action)\n",
    "        # Store transition in D\n",
    "        experience = Experience(state, action, reward, done, next_state)\n",
    "        D.add(experience)\n",
    "\n",
    "        if len(D) > batch_size:\n",
    "            #Sample random minibatch of transitions from D\n",
    "            states, actions, rewards, dones, next_states = D.sample(batch_size)\n",
    "            states_v = torch.FloatTensor(states).to(device)\n",
    "            actions_v = torch.LongTensor(actions).to(device)\n",
    "            rewards_v = torch.FloatTensor(rewards).to(device)\n",
    "            dones_v = torch.BoolTensor(dones).to(device)\n",
    "            next_states_v = torch.FloatTensor(next_states).to(device)\n",
    "\n",
    "            state_action_values = Q(states_v).gather(1, actions_v.unsqueeze(-1)).squeeze(-1)\n",
    "            next_state_action_values = target_Q(next_states_v).max(1)[0]\n",
    "\n",
    "            # y = r if episode terminates\n",
    "            next_state_action_values[dones_v] = 0.0\n",
    "\n",
    "            # otherwise y = r + gamma*maxQ_target(a')\n",
    "            y = rewards_v + gamma * next_state_action_values\n",
    "\n",
    "            #Perform gradient descent\n",
    "            loss = nn.MSELoss()(state_action_values, y)\n",
    "\n",
    "            optimizer.zero_grad()\n",
    "            loss.backward()\n",
    "            optimizer.step()\n",
    "\n",
    "        # Every C steps reset Q_target = Q\n",
    "        if (t + 1) % UPDATE_EVERY == 0:\n",
    "            target_Q.load_state_dict(Q.state_dict())\n",
    "\n",
    "        state = next_state\n",
    "        score += reward\n",
    "\n",
    "        if done:\n",
    "            break\n",
    "\n",
    "    scores.append(score)\n",
    "    eps = max(eps_end, eps_decay * eps)    # decrease epsilon\n",
    "\n",
    "    print(f\"\\rscore of spisode {episode},  {np.mean(scores[-100:]):.2f}\", end=\"\")\n",
    "    \n",
    "    if episode % 100 == 0:\n",
    "        print(f\"\\rscore of spisode {episode},  {np.mean(scores[-100:]):.2f}\")\n",
    "        torch.save(Q.state_dict(), 'checkpoint.pth')\n",
    "\n",
    "    if np.mean(scores[-100:]) > WIN_SCORE:\n",
    "        print(f\"\\nCompleted after {episode} with score  {np.mean(scores[-100:]):.2f}\")\n",
    "        break"
   ]
  },
  {
   "cell_type": "markdown",
   "id": "889dea2d",
   "metadata": {
    "id": "889dea2d"
   },
   "source": [
    "### 훈련된 network 저장"
   ]
  },
  {
   "cell_type": "code",
   "execution_count": 9,
   "id": "git3Id21eRgx",
   "metadata": {
    "id": "git3Id21eRgx"
   },
   "outputs": [],
   "source": [
    "torch.save(Q.state_dict(), 'checkpoint.pth')"
   ]
  },
  {
   "cell_type": "markdown",
   "id": "3355d41c",
   "metadata": {
    "id": "3355d41c"
   },
   "source": [
    "### Animate it with Video"
   ]
  },
  {
   "cell_type": "code",
   "execution_count": 10,
   "id": "69d01a1e",
   "metadata": {
    "id": "69d01a1e"
   },
   "outputs": [],
   "source": [
    "display = Display(visible=False, size=(1400, 900))\n",
    "_ = display.start()\n",
    "\n",
    "def render_mp4(videopath: str) -> str:\n",
    "  \"\"\"\n",
    "  지정된 경로에 있는 MP4 비디오의 b4 인코딩 버전을 포함하는 문자열을 가져옵니다.\n",
    "  \"\"\"\n",
    "  mp4 = open(videopath, 'rb').read()\n",
    "  base64_encoded_mp4 = b64encode(mp4).decode()\n",
    "  return f'<video width=400 controls><source src=\"data:video/mp4;' \\\n",
    "         f'base64,{base64_encoded_mp4}\" type=\"video/mp4\"></video>'"
   ]
  },
  {
   "cell_type": "code",
   "execution_count": 11,
   "id": "378660a9",
   "metadata": {
    "id": "378660a9"
   },
   "outputs": [],
   "source": [
    "file = \"notrain.mp4\"\n",
    "video = VideoRecorder(env, file)\n",
    "\n",
    "# 시각화\n",
    "state = env.reset()\n",
    "for _ in range(500):\n",
    "    env.render()\n",
    "    video.capture_frame()\n",
    "    action = env.action_space.sample()\n",
    "    next_state, reward, done, _ = env.step(action)\n",
    "\n",
    "env.close()\n",
    "video.close()"
   ]
  },
  {
   "cell_type": "code",
   "execution_count": 12,
   "id": "22749885",
   "metadata": {
    "colab": {
     "base_uri": "https://localhost:8080/"
    },
    "id": "22749885",
    "outputId": "c797ff94-7a96-4754-a81e-875975bb492a"
   },
   "outputs": [
    {
     "data": {
      "text/plain": [
       "<All keys matched successfully>"
      ]
     },
     "execution_count": 12,
     "metadata": {},
     "output_type": "execute_result"
    }
   ],
   "source": [
    "Q.load_state_dict(torch.load('checkpoint.pth'))"
   ]
  },
  {
   "cell_type": "code",
   "execution_count": 13,
   "id": "0784e77c",
   "metadata": {
    "id": "0784e77c"
   },
   "outputs": [],
   "source": [
    "file = \"train.mp4\"\n",
    "video = VideoRecorder(env, file)\n",
    "\n",
    "# 시각화\n",
    "state = env.reset()\n",
    "for _ in range(500):\n",
    "    env.render()\n",
    "    video.capture_frame()\n",
    "    \n",
    "    state_t = torch.FloatTensor(state).to(device)\n",
    "    with torch.no_grad():\n",
    "        action_values = Q(state_t)\n",
    "    action = np.argmax(action_values.cpu().numpy())\n",
    "\n",
    "    next_state, reward, done, _ = env.step(action)\n",
    "    state = next_state\n",
    "\n",
    "env.close()\n",
    "video.close()"
   ]
  },
  {
   "cell_type": "code",
   "execution_count": 14,
   "id": "dea50039",
   "metadata": {
    "colab": {
     "base_uri": "https://localhost:8080/",
     "height": 287
    },
    "id": "dea50039",
    "outputId": "a7595f4e-a3f2-4425-cd35-cd210915682a"
   },
   "outputs": [
    {
     "data": {
      "text/html": [
       "<video width=400 controls><source src=\"data:video/mp4;base64,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\" type=\"video/mp4\"></video>"
      ],
      "text/plain": [
       "<IPython.core.display.HTML object>"
      ]
     },
     "execution_count": 14,
     "metadata": {},
     "output_type": "execute_result"
    }
   ],
   "source": [
    "# file = \"notrain.mp4\"\n",
    "file = \"train.mp4\"\n",
    "\n",
    "html = render_mp4(file)\n",
    "HTML(html)"
   ]
  },
  {
   "cell_type": "code",
   "execution_count": 14,
   "id": "758f4fc5",
   "metadata": {
    "id": "758f4fc5"
   },
   "outputs": [],
   "source": []
  }
 ],
 "metadata": {
  "accelerator": "GPU",
  "colab": {
   "collapsed_sections": [],
   "name": "130_DQN_ExperienceReplay_TargetNN.ipynb",
   "provenance": []
  },
  "kernelspec": {
   "display_name": "Python 3 (ipykernel)",
   "language": "python",
   "name": "python3"
  },
  "language_info": {
   "codemirror_mode": {
    "name": "ipython",
    "version": 3
   },
   "file_extension": ".py",
   "mimetype": "text/x-python",
   "name": "python",
   "nbconvert_exporter": "python",
   "pygments_lexer": "ipython3",
   "version": "3.8.12"
  }
 },
 "nbformat": 4,
 "nbformat_minor": 5
}
