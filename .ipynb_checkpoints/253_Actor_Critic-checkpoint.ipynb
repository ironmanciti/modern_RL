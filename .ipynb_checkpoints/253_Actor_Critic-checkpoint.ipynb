{
 "cells": [
  {
   "cell_type": "markdown",
   "id": "SXe72SuamiHi",
   "metadata": {
    "id": "SXe72SuamiHi"
   },
   "source": [
    "# 253. One-step Actor-Critic(episodic)\n",
    "\n",
    "- 두개의 parameter set 을 학습 \n",
    "\n",
    "$$\\theta_{t+1}=\\theta_t + \\alpha\\nabla\\log{\\pi_\\theta}(A_t|S_t)[R_{t+1}+\\gamma\\hat{v}(S_{t+1},w) - \\hat{v}(S_t, w)]$$\n",
    "\n",
    "- TD error (delta) \n",
    "$$R_{t+1}+\\gamma\\hat{v}(S_{t+1},w) - \\hat{v}(S_t, w)$$\n",
    "\n",
    "- Value network parameter update\n",
    "$$w \\leftarrow w + \\alpha^w\\delta\\nabla\\hat{v}(S, w)$$\n",
    "\n",
    "- Policy network parameter update\n",
    "$$\\theta \\leftarrow \\theta + \\alpha^\\theta \\delta\\nabla\\log{\\pi}(A|S, \\theta)$$\n",
    "\n",
    "- python 구현 :\n",
    "\n",
    "```python\n",
    "            td_target = r_batch + gamma * model.v(s_next_batch) * (1-done_batch)\n",
    "            delta = td_target - model.v(s_batch)\n",
    "        \n",
    "            pi = model.pi(s_batch)\n",
    "            pi_a = pi.gather(1, a_batch)\n",
    "            \n",
    "            loss = -1 * torch.log(pi_a) * delta + F.smooth_l1_loss(model.v(s_batch), td_target)\n",
    "```"
   ]
  },
  {
   "cell_type": "code",
   "execution_count": null,
   "id": "7Q7LxFUsmXUB",
   "metadata": {
    "colab": {
     "base_uri": "https://localhost:8080/"
    },
    "id": "7Q7LxFUsmXUB",
    "outputId": "1840d477-3bb6-4c11-df9f-8673acff54f4"
   },
   "outputs": [],
   "source": [
    "%%bash\n",
    "# install required system dependencies\n",
    "apt-get update \n",
    "apt-get install -y xvfb x11-utils\n",
    "# install required python dependencies (might need to install additional gym extras depending)\n",
    "pip install -q gym[box2d]==0.17.* pyvirtualdisplay==0.2.* PyOpenGL==3.1.* PyOpenGL-accelerate==3.1.*"
   ]
  },
  {
   "cell_type": "code",
   "execution_count": 2,
   "id": "xNPit6lIma23",
   "metadata": {
    "id": "xNPit6lIma23"
   },
   "outputs": [],
   "source": [
    "import pyvirtualdisplay\n",
    "_display = pyvirtualdisplay.Display(visible=False,  # use False with Xvfb\n",
    "                                    size=(1400, 900))\n",
    "_ = _display.start()"
   ]
  },
  {
   "cell_type": "code",
   "execution_count": 3,
   "id": "081007c7",
   "metadata": {
    "colab": {
     "base_uri": "https://localhost:8080/"
    },
    "id": "081007c7",
    "outputId": "b04f2e78-0aee-49b0-8fc1-83c1097d6826"
   },
   "outputs": [
    {
     "name": "stdout",
     "output_type": "stream",
     "text": [
      "cuda:0\n"
     ]
    }
   ],
   "source": [
    "import gym\n",
    "import matplotlib.pyplot as plt\n",
    "import numpy as np\n",
    "import torch\n",
    "import torch.nn as nn\n",
    "import torch.nn.functional as F\n",
    "import torch.optim as optim\n",
    "from torch.distributions import Categorical\n",
    "import time\n",
    "import os\n",
    "from IPython import display\n",
    "\n",
    "device = torch.device('cuda:0' if torch.cuda.is_available() else 'cpu')\n",
    "print(device)"
   ]
  },
  {
   "cell_type": "code",
   "execution_count": 4,
   "id": "fa0ba42c",
   "metadata": {
    "colab": {
     "base_uri": "https://localhost:8080/"
    },
    "id": "fa0ba42c",
    "outputId": "b4af365f-8160-4005-a301-dcbc93aa81a5"
   },
   "outputs": [
    {
     "name": "stdout",
     "output_type": "stream",
     "text": [
      "4 [0 1 2 3]\n"
     ]
    }
   ],
   "source": [
    "# env_name = 'Pendulum-v1'\n",
    "# env_name = 'CartPole-v1'\n",
    "env_name = 'LunarLander-v2'\n",
    "env = gym.make(env_name)\n",
    "\n",
    "if env_name == 'Pendulum-v1':\n",
    "    n_actions = env.action_space.shape[0]  \n",
    "    action_space = np.arange(env.action_space.shape[0]) \n",
    "else:\n",
    "    n_actions = env.action_space.n\n",
    "    action_space = np.arange(env.action_space.n)\n",
    "    \n",
    "print(n_actions, action_space)"
   ]
  },
  {
   "cell_type": "code",
   "execution_count": 5,
   "id": "304376c7",
   "metadata": {
    "colab": {
     "base_uri": "https://localhost:8080/"
    },
    "id": "304376c7",
    "outputId": "d344043c-29f2-4e3c-bc27-2204b16eb208"
   },
   "outputs": [
    {
     "name": "stdout",
     "output_type": "stream",
     "text": [
      "episode 0,  최근 100 episode 평균 reward -127.61\n",
      "episode 100,  최근 100 episode 평균 reward -301.87\n",
      "episode 200,  최근 100 episode 평균 reward -483.04\n",
      "episode 300,  최근 100 episode 평균 reward -297.17\n",
      "episode 400,  최근 100 episode 평균 reward -452.24\n",
      "episode 500,  최근 100 episode 평균 reward -250.37\n",
      "episode 600,  최근 100 episode 평균 reward -211.31\n",
      "episode 700,  최근 100 episode 평균 reward -162.69\n",
      "episode 800,  최근 100 episode 평균 reward -117.42\n",
      "episode 900,  최근 100 episode 평균 reward -158.61\n",
      "episode 1000,  최근 100 episode 평균 reward -148.07\n",
      "episode 1100,  최근 100 episode 평균 reward -140.35\n",
      "episode 1200,  최근 100 episode 평균 reward -116.00\n",
      "episode 1300,  최근 100 episode 평균 reward -99.08\n",
      "episode 1400,  최근 100 episode 평균 reward -92.36\n",
      "episode 1500,  최근 100 episode 평균 reward -91.84\n",
      "episode 1600,  최근 100 episode 평균 reward -116.52\n",
      "episode 1700,  최근 100 episode 평균 reward -67.66\n",
      "episode 1800,  최근 100 episode 평균 reward -72.69\n",
      "episode 1900,  최근 100 episode 평균 reward -81.29\n",
      "episode 2000,  최근 100 episode 평균 reward -71.68\n",
      "episode 2100,  최근 100 episode 평균 reward -71.93\n",
      "episode 2200,  최근 100 episode 평균 reward -70.06\n",
      "episode 2300,  최근 100 episode 평균 reward -88.11\n",
      "episode 2400,  최근 100 episode 평균 reward -78.18\n",
      "episode 2500,  최근 100 episode 평균 reward -65.75\n",
      "episode 2600,  최근 100 episode 평균 reward -81.05\n",
      "episode 2700,  최근 100 episode 평균 reward -82.97\n",
      "episode 2800,  최근 100 episode 평균 reward -85.20\n",
      "episode 2900,  최근 100 episode 평균 reward -81.81\n"
     ]
    }
   ],
   "source": [
    "# A differentiable policy parameterization pi(a|s,theta) - policy network\n",
    "# A differentiable state-value function parameterization v(s,w) - value network\n",
    "class ActorCritic(nn.Module):\n",
    "    def __init__(self, input_dims, n_actions):\n",
    "        super(ActorCritic, self).__init__()\n",
    "        self.fc1 = nn.Linear(*input_dims, 256)\n",
    "        self.fc2 = nn.Linear(256, 128)\n",
    "        self.fc_pi = nn.Linear(128, n_actions)\n",
    "        self.fc_v = nn.Linear(128, 1)\n",
    "\n",
    "    def pi(self, state):\n",
    "        x = F.relu(self.fc1(state))\n",
    "        x = F.relu(self.fc2(x))\n",
    "        x = self.fc_pi(x)\n",
    "        prob = F.softmax(x, dim=-1)\n",
    "        return prob\n",
    "    \n",
    "    def v(self, state):\n",
    "        x = F.relu(self.fc1(state))\n",
    "        x = F.relu(self.fc2(x))\n",
    "        v = self.fc_v(x)\n",
    "        return v\n",
    "\n",
    "# Select step-size parameters 0 < alpha < 1\n",
    "alpha = 0.001 #0.0002  # 0.001\n",
    "#Choose discount rate 0<gamma<1\n",
    "gamma = 0.98\n",
    "#Chose max number of episodes N\n",
    "N = 3000  \n",
    "\n",
    "batch_size = 32\n",
    "# Initialize the parameters theta and state-value weights w\n",
    "model = ActorCritic(env.observation_space.shape, n_actions).to(device)\n",
    "\n",
    "optimizer = optim.Adam(model.parameters(), lr=alpha)\n",
    "\n",
    "# rendering = True\n",
    "\n",
    "total_rewards = []\n",
    " \n",
    "# loop forever(for each episode):\n",
    "for episode in range(N):\n",
    "    # Initialize S (first state of episode)\n",
    "    s = env.reset()\n",
    "\n",
    "    done = False\n",
    "    \n",
    "    batch_rewards = []\n",
    "    batch_actions = []\n",
    "    batch_states = []\n",
    "    batch_next_state = []\n",
    "    batch_done = []\n",
    "    \n",
    "    # Loop while S is not terminal(for each time step):\n",
    "    while not done:\n",
    "        # A ~ pi(.|S,theta) - policy network에서 action 하나를 sampling\n",
    "        probs = model.pi(torch.from_numpy(s).float().to(device)).detach().cpu().numpy()\n",
    "        a = np.random.choice(action_space, p=probs)\n",
    "        # Take action A, observe S', R\n",
    "        s_, r, done, _ = env.step(a)\n",
    "        \n",
    "        batch_states.append(s)\n",
    "        batch_actions.append([a])\n",
    "        batch_rewards.append([r])\n",
    "        batch_next_state.append(s_)\n",
    "        done_mask = 0 if done else 1\n",
    "        batch_done.append([done_mask])\n",
    "        \n",
    "        # S <- S'\n",
    "        s = s_\n",
    "        \n",
    "#         if rendering and (episode > N * 0.98):\n",
    "#             env.render()\n",
    "            \n",
    "        if done:\n",
    "            s_batch = torch.FloatTensor(np.array(batch_states)).to(device)\n",
    "            a_batch = torch.LongTensor(np.array(batch_actions)).to(device)\n",
    "            r_batch = torch.FloatTensor(np.array(batch_rewards)).to(device)\n",
    "            s_next_batch = torch.FloatTensor(np.array(batch_next_state)).to(device)\n",
    "            done_batch = torch.FloatTensor(np.array(batch_done)).to(device)\n",
    "            \n",
    "            # delta <- R + gamma * v(S',w) - v(S,w) (if S' is terminal, then v(S',w) = 0)\n",
    "            td_target = r_batch + gamma * model.v(s_next_batch) * (1-done_batch)\n",
    "            # advantage = reward + gamma * v(S',w) - v(S,w) --> advantage = delta\n",
    "            delta = td_target - model.v(s_batch)\n",
    "            \n",
    "            # value network parameter update :\n",
    "            # w <- w + alpha * delta * gradient(v(S,w)) \n",
    "            # policy network parameter update :\n",
    "            # theta <- theta + alpha * I * delta * gradient(pi(A|S,theta)) \n",
    "            pi = model.pi(s_batch)\n",
    "            pi_a = pi.gather(1, a_batch)\n",
    "            \n",
    "            # loss = -1 * policy.logprob(action) * advantage + critic loss\n",
    "            loss = -1 * torch.log(pi_a) * delta \\\n",
    "                        + F.smooth_l1_loss(model.v(s_batch), td_target)\n",
    "            \n",
    "            optimizer.zero_grad()\n",
    "            loss.mean().backward()\n",
    "            optimizer.step()\n",
    "\n",
    "            total_rewards.append(sum(r_batch.detach().cpu().numpy()))\n",
    "            \n",
    "    if episode % 100 == 0:\n",
    "        avg_score = np.mean(total_rewards[-100:])\n",
    "        print(f'episode {episode},  최근 100 episode 평균 reward {avg_score: .2f}')"
   ]
  },
  {
   "cell_type": "code",
   "execution_count": 6,
   "id": "862a6259",
   "metadata": {
    "colab": {
     "base_uri": "https://localhost:8080/",
     "height": 287
    },
    "id": "862a6259",
    "outputId": "ef8402cb-6fec-4988-be21-1653e28f9105"
   },
   "outputs": [
    {
     "name": "stdout",
     "output_type": "stream",
     "text": [
      "finished after -72.1 rewards\n"
     ]
    },
    {
     "data": {
      "image/png": "[encoded data removed]",
      "text/plain": [
       "<Figure size 432x288 with 1 Axes>"
      ]
     },
     "metadata": {
      "needs_background": "light"
     },
     "output_type": "display_data"
    }
   ],
   "source": [
    "env.reset()\n",
    "plt.figure(figsize=(6, 4))\n",
    "screen = env.render(mode='rgb_array')\n",
    "img = plt.imshow(screen)                   # only call this once\n",
    "    \n",
    "for i in range(1):\n",
    "    reward = 0\n",
    "    s = env.reset()\n",
    "    while True:\n",
    "        img.set_data(env.render(mode='rgb_array')) # just update the data\n",
    "        display.display(plt.gcf())\n",
    "        display.clear_output(wait=True)\n",
    "\n",
    "        probs = model.pi(torch.from_numpy(s).float().to(device)).detach().cpu().numpy()\n",
    "        a = np.random.choice(action_space, p=probs)\n",
    "\n",
    "        s_, r, done, _ = env.step(a)\n",
    "        \n",
    "        reward += r\n",
    "\n",
    "        s = s_\n",
    "\n",
    "        if done or reward >= 200:\n",
    "            print(f\"finished after {reward:.1f} rewards\")\n",
    "            break\n",
    "\n",
    "env.close()"
   ]
  },
  {
   "cell_type": "code",
   "execution_count": null,
   "id": "dd290e1b",
   "metadata": {
    "id": "dd290e1b"
   },
   "outputs": [],
   "source": []
  }
 ],
 "metadata": {
  "accelerator": "GPU",
  "colab": {
   "name": "053_Actor_Critic.ipynb",
   "provenance": []
  },
  "kernelspec": {
   "display_name": "Python 3",
   "language": "python",
   "name": "python3"
  },
  "language_info": {
   "codemirror_mode": {
    "name": "ipython",
    "version": 3
   },
   "file_extension": ".py",
   "mimetype": "text/x-python",
   "name": "python",
   "nbconvert_exporter": "python",
   "pygments_lexer": "ipython3",
   "version": "3.9.7"
  }
 },
 "nbformat": 4,
 "nbformat_minor": 5
}
