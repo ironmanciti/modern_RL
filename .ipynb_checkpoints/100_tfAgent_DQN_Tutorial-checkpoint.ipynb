{
 "cells": [
  {
   "cell_type": "markdown",
   "metadata": {
    "id": "pmDI-h7cI0tI"
   },
   "source": [
    "# TF 에이전트로 Deep Q 네트워크 훈련"
   ]
  },
  {
   "cell_type": "markdown",
   "metadata": {
    "id": "lsaQlK8fFQqH"
   },
   "source": [
    "## Introduction\n"
   ]
  },
  {
   "cell_type": "markdown",
   "metadata": {
    "id": "cKOCZlhUgXVK"
   },
   "source": [
    "이 예에서는 TF-Agents 라이브러리를 사용하여 Cartpole 환경에서 [DQN(Deep Q Networks)](https://storage.googleapis.com/deepmind-media/dqn/DQNNaturePaper.pdf) 에이전트를 훈련하는 방법을 보여줍니다.\n",
    "\n",
    "교육, 평가 및 데이터 수집을 위한 강화 학습(RL) 파이프라인의 모든 구성 요소를 안내합니다."
   ]
  },
  {
   "cell_type": "code",
   "execution_count": null,
   "metadata": {
    "id": "KEHR2Ui-lo8O"
   },
   "outputs": [],
   "source": [
    "!sudo apt-get update\n",
    "!sudo apt-get install -y xvfb ffmpeg freeglut3-dev\n",
    "!pip install -q 'imageio==2.4.0'\n",
    "!pip install -q pyvirtualdisplay\n",
    "!pip install -q tf-agents[reverb]\n",
    "!pip install -q pyglet"
   ]
  },
  {
   "cell_type": "code",
   "execution_count": 3,
   "metadata": {
    "id": "sMitx5qSgJk1"
   },
   "outputs": [],
   "source": [
    "import base64\n",
    "import imageio\n",
    "import IPython\n",
    "import matplotlib\n",
    "import matplotlib.pyplot as plt\n",
    "import numpy as np\n",
    "import PIL.Image\n",
    "import pyvirtualdisplay\n",
    "import reverb\n",
    "\n",
    "import tensorflow as tf\n",
    "\n",
    "from tf_agents.agents.dqn import dqn_agent\n",
    "from tf_agents.drivers import py_driver\n",
    "from tf_agents.environments import suite_gym\n",
    "from tf_agents.environments import tf_py_environment\n",
    "from tf_agents.eval import metric_utils\n",
    "from tf_agents.metrics import tf_metrics\n",
    "from tf_agents.networks import sequential\n",
    "from tf_agents.policies import py_tf_eager_policy\n",
    "from tf_agents.policies import random_tf_policy\n",
    "from tf_agents.replay_buffers import reverb_replay_buffer\n",
    "from tf_agents.replay_buffers import reverb_utils\n",
    "from tf_agents.trajectories import trajectory\n",
    "from tf_agents.specs import tensor_spec\n",
    "from tf_agents.utils import common"
   ]
  },
  {
   "cell_type": "code",
   "execution_count": 4,
   "metadata": {
    "id": "J6HsdS5GbSjd"
   },
   "outputs": [],
   "source": [
    "# OpenAI gym 환경을 렌더링하기 위한 가상 디스플레이를 설정합니다.\n",
    "display = pyvirtualdisplay.Display(visible=0, size=(1400, 900)).start()"
   ]
  },
  {
   "cell_type": "markdown",
   "metadata": {
    "id": "LmC0NDhdLIKY"
   },
   "source": [
    "## Hyperparameters"
   ]
  },
  {
   "cell_type": "code",
   "execution_count": 5,
   "metadata": {
    "id": "HC1kNrOsLSIZ"
   },
   "outputs": [],
   "source": [
    "num_iterations = 20000 # @param {type:\"integer\"}\n",
    "\n",
    "initial_collect_steps = 100  # @param {type:\"integer\"}\n",
    "collect_steps_per_iteration =   1# @param {type:\"integer\"}\n",
    "replay_buffer_max_length = 100000  # @param {type:\"integer\"}\n",
    "\n",
    "batch_size = 64  # @param {type:\"integer\"}\n",
    "learning_rate = 1e-3  # @param {type:\"number\"}\n",
    "log_interval = 200  # @param {type:\"integer\"}\n",
    "\n",
    "num_eval_episodes = 10  # @param {type:\"integer\"}\n",
    "eval_interval = 1000  # @param {type:\"integer\"}"
   ]
  },
  {
   "cell_type": "markdown",
   "metadata": {
    "id": "VMsJC3DEgI0x"
   },
   "source": [
    "## Environment\n",
    "\n",
    "강화 학습(RL)에서 환경은 해결해야 할 작업이나 문제를 represent 합니다. 표준 환경은 `tf_agents.environments` 제품군을 사용하여 TF-Agents에서 만들 수 있습니다. TF-Agents에는 OpenAI Gym, Atari 및 DM Control과 같은 소스에서 환경을 로드하기 위한 제품군이 있습니다.\n",
    "\n",
    "OpenAI Gym 제품군에서 CartPole 환경을 로드합니다."
   ]
  },
  {
   "cell_type": "code",
   "execution_count": 6,
   "metadata": {
    "id": "pYEz-S9gEv2-"
   },
   "outputs": [],
   "source": [
    "env_name = 'CartPole-v0'\n",
    "env = suite_gym.load(env_name)"
   ]
  },
  {
   "cell_type": "markdown",
   "metadata": {
    "id": "IIHYVBkuvPNw"
   },
   "source": [
    "이 환경을 렌더링하여 어떻게 보이는지 확인할 수 있습니다. 자유롭게 흔들리는 기둥이 카트에 부착되어 있습니다. 목표는 막대가 위로 향하도록 카트를 오른쪽이나 왼쪽으로 움직이는 것입니다."
   ]
  },
  {
   "cell_type": "code",
   "execution_count": 7,
   "metadata": {
    "colab": {
     "base_uri": "https://localhost:8080/",
     "height": 417
    },
    "id": "RlO7WIQHu_7D",
    "outputId": "205469be-0a23-4022-f503-ea4ca5ed9fbc"
   },
   "outputs": [
    {
     "data": {
      "image/png": "[encoded data removed]",
      "text/plain": [
       "<PIL.Image.Image image mode=RGB size=600x400 at 0x7FF6E7728690>"
      ]
     },
     "execution_count": 7,
     "metadata": {},
     "output_type": "execute_result"
    }
   ],
   "source": [
    "env.reset()\n",
    "PIL.Image.fromarray(env.render())"
   ]
  },
  {
   "cell_type": "markdown",
   "metadata": {
    "id": "B9_lskPOey18"
   },
   "source": [
    "`environment.step`메서드는 환경에서 'action'을 취하고 환경에 대한 다음 observation과 해당 작업에 대한 보상을 포함하는`'TimeStep` 튜플을 반환합니다.\n",
    "\n",
    "`time_step_spec()` 메서드는 `TimeStep` 튜플에 대한 사양을 반환합니다. `observation` 속성은 observation의 모양, 데이터 유형 및 허용되는 값의 범위를 보여줍니다. 'reward' 속성은 보상에 대해 동일한 세부정보를 보여줍니다.\n"
   ]
  },
  {
   "cell_type": "code",
   "execution_count": 8,
   "metadata": {
    "colab": {
     "base_uri": "https://localhost:8080/"
    },
    "id": "exDv57iHfwQV",
    "outputId": "db40e5a5-f814-4e99-f5e6-cd6e16062397"
   },
   "outputs": [
    {
     "name": "stdout",
     "output_type": "stream",
     "text": [
      "Observation Spec:\n",
      "BoundedArraySpec(shape=(4,), dtype=dtype('float32'), name='observation', minimum=[-4.8000002e+00 -3.4028235e+38 -4.1887903e-01 -3.4028235e+38], maximum=[4.8000002e+00 3.4028235e+38 4.1887903e-01 3.4028235e+38])\n"
     ]
    }
   ],
   "source": [
    "print('Observation Spec:')\n",
    "print(env.time_step_spec().observation)"
   ]
  },
  {
   "cell_type": "code",
   "execution_count": 9,
   "metadata": {
    "colab": {
     "base_uri": "https://localhost:8080/"
    },
    "id": "UxiSyCbBUQPi",
    "outputId": "cbb4a7cd-8253-4ce7-b117-0ed6f0d2e3da"
   },
   "outputs": [
    {
     "name": "stdout",
     "output_type": "stream",
     "text": [
      "Reward Spec:\n",
      "ArraySpec(shape=(), dtype=dtype('float32'), name='reward')\n"
     ]
    }
   ],
   "source": [
    "print('Reward Spec:')\n",
    "print(env.time_step_spec().reward)"
   ]
  },
  {
   "cell_type": "markdown",
   "metadata": {
    "id": "b_lHcIcqUaqB"
   },
   "source": [
    "`action_spec()` 메서드는 shape, 데이터 유형 및 valid한 action의 허용 값을 반환합니다."
   ]
  },
  {
   "cell_type": "code",
   "execution_count": 10,
   "metadata": {
    "colab": {
     "base_uri": "https://localhost:8080/"
    },
    "id": "bttJ4uxZUQBr",
    "outputId": "0248a5a6-6475-47de-a541-78b37fdbae55"
   },
   "outputs": [
    {
     "name": "stdout",
     "output_type": "stream",
     "text": [
      "Action Spec:\n",
      "BoundedArraySpec(shape=(), dtype=dtype('int64'), name='action', minimum=0, maximum=1)\n"
     ]
    }
   ],
   "source": [
    "print('Action Spec:')\n",
    "print(env.action_spec())"
   ]
  },
  {
   "cell_type": "markdown",
   "metadata": {
    "id": "eJCgJnx3g0yY"
   },
   "source": [
    "Cartpole 환경에서:\n",
    "\n",
    "-   `observation`  4개의 floats array 이다: \n",
    "    -   카트의 위치와 속도\n",
    "    -   막대의 각도 위치와 각속도 \n",
    "-   `reward` 는 scalar float value\n",
    "-   `action` 은 scalar integer:\n",
    "    -   `0` — \"move left\"\n",
    "    -   `1` — \"move right\"\n"
   ]
  },
  {
   "cell_type": "code",
   "execution_count": 11,
   "metadata": {
    "colab": {
     "base_uri": "https://localhost:8080/"
    },
    "id": "V2UGR5t_iZX-",
    "outputId": "c80e99a6-e00b-4429-fea7-dc414e8cfe2f"
   },
   "outputs": [
    {
     "name": "stdout",
     "output_type": "stream",
     "text": [
      "Time step:\n",
      "TimeStep(\n",
      "{'discount': array(1., dtype=float32),\n",
      " 'observation': array([ 0.03237146,  0.01248234, -0.03360055,  0.03615783], dtype=float32),\n",
      " 'reward': array(0., dtype=float32),\n",
      " 'step_type': array(0, dtype=int32)})\n",
      "Next time step:\n",
      "TimeStep(\n",
      "{'discount': array(1., dtype=float32),\n",
      " 'observation': array([ 0.03262111,  0.20806962, -0.0328774 , -0.2669342 ], dtype=float32),\n",
      " 'reward': array(1., dtype=float32),\n",
      " 'step_type': array(1, dtype=int32)})\n"
     ]
    }
   ],
   "source": [
    "time_step = env.reset()\n",
    "print('Time step:')\n",
    "print(time_step)\n",
    "\n",
    "action = np.array(1, dtype=np.int32)\n",
    "\n",
    "next_time_step = env.step(action)\n",
    "print('Next time step:')\n",
    "print(next_time_step)"
   ]
  },
  {
   "cell_type": "markdown",
   "metadata": {
    "id": "4JSc9GviWUBK"
   },
   "source": [
    "일반적으로 두 가지 환경이 인스턴스화됩니다. 하나는 train용이고 다른 하나는 평가용입니다."
   ]
  },
  {
   "cell_type": "code",
   "execution_count": 12,
   "metadata": {
    "id": "N7brXNIGWXjC"
   },
   "outputs": [],
   "source": [
    "train_py_env = suite_gym.load(env_name)\n",
    "eval_py_env = suite_gym.load(env_name)"
   ]
  },
  {
   "cell_type": "markdown",
   "metadata": {
    "id": "zuUqXAVmecTU"
   },
   "source": [
    "Cartpole 환경은 대부분의 환경과 마찬가지로 순수한 Python으로 작성되었습니다. 이것은 `TFPyEnvironment` 래퍼를 사용하여 TensorFlow로 변환됩니다.\n",
    "\n",
    "원래 환경의 API는 Numpy 배열을 사용합니다. 'TFPyEnvironment'는 이를 'Tensor'로 변환하여 Tensorflow agents 및 policy와 호환되도록 합니다.\n"
   ]
  },
  {
   "cell_type": "code",
   "execution_count": 13,
   "metadata": {
    "id": "Xp-Y4mD6eDhF"
   },
   "outputs": [],
   "source": [
    "train_env = tf_py_environment.TFPyEnvironment(train_py_env)\n",
    "eval_env = tf_py_environment.TFPyEnvironment(eval_py_env)"
   ]
  },
  {
   "cell_type": "markdown",
   "metadata": {
    "id": "E9lW_OZYFR8A"
   },
   "source": [
    "## Agent\n",
    "\n",
    "RL 문제를 해결하는 데 사용되는 알고리즘은 `Agent`로 표시됩니다. TF-Agents는 다음을 포함하여 다양한 `Agents`의 표준 구현을 제공합니다.\n",
    "-   [DQN](https://storage.googleapis.com/deepmind-media/dqn/DQNNaturePaper.pdf) (이 튜토리얼에서 사용)\n",
    "-   [REINFORCE](https://www-anw.cs.umass.edu/~barto/courses/cs687/williams92simple.pdf)\n",
    "-   [DDPG](https://arxiv.org/pdf/1509.02971.pdf)\n",
    "-   [TD3](https://arxiv.org/pdf/1802.09477.pdf)\n",
    "-   [PPO](https://arxiv.org/abs/1707.06347)\n",
    "-   [SAC](https://arxiv.org/abs/1801.01290)\n",
    "\n",
    "\n",
    "DQN 에이전트는 discrete action space를 가진 모든 환경에서 사용할 수 있습니다.\n",
    "\n",
    "DQN 에이전트의 핵심은 환경에서 observation 이 주어졌을 때 모든 action에 대한 `QValues`(expected returns)를 예측하는 방법을 학습할 수 있는 신경망 모델인 `QNetwork`입니다.\n",
    "\n",
    "`tf_agents.networks.`를 사용하여 `QNetwork`를 생성합니다. 네트워크는 일련의 `tf.keras.layers.Dense` 레이어로 구성되며, 최종 레이어는 각 가능한 action에 대해 1개의 출력을 갖게 됩니다.\n",
    "\n"
   ]
  },
  {
   "cell_type": "code",
   "execution_count": 14,
   "metadata": {
    "id": "TgkdEPg_muzV"
   },
   "outputs": [],
   "source": [
    "fc_layer_params = (100, 50)\n",
    "action_tensor_spec = tensor_spec.from_spec(env.action_spec())\n",
    "num_actions = action_tensor_spec.maximum - action_tensor_spec.minimum + 1\n",
    "\n",
    "# 올바른 activation 및 kernel initializer로 구성된 Dense 계층을 생성하는 도우미 함수를 정의합니다.\n",
    "def dense_layer(num_units):\n",
    "  return tf.keras.layers.Dense(\n",
    "      num_units,\n",
    "      activation=tf.keras.activations.relu,\n",
    "      kernel_initializer=tf.keras.initializers.VarianceScaling(\n",
    "          scale=2.0, mode='fan_in', distribution='truncated_normal'))\n",
    "\n",
    "# QNetwork는 Dense Layer 들과  action 하나당 하나의 q_value를 생성하기 위해 \n",
    "# num_actions unit가 있는 output 레이어로 구성됩니다.\n",
    "dense_layers = [dense_layer(num_units) for num_units in fc_layer_params]\n",
    "q_values_layer = tf.keras.layers.Dense(\n",
    "    num_actions,\n",
    "    activation=None,\n",
    "    kernel_initializer=tf.keras.initializers.RandomUniform(\n",
    "        minval=-0.03, maxval=0.03),\n",
    "    bias_initializer=tf.keras.initializers.Constant(-0.2))\n",
    "q_net = sequential.Sequential(dense_layers + [q_values_layer])"
   ]
  },
  {
   "cell_type": "markdown",
   "metadata": {
    "id": "z62u55hSmviJ"
   },
   "source": [
    "이제 `tf_agents.agents.dqn.dqn_agent`를 사용하여 `DqnAgent`를 인스턴스화합니다. `time_step_spec`, `action_spec` 및 QNetwork 외에도 에이전트 생성자는 옵티마이저(이 경우 `AdamOptimizer`), 손실 함수 및 integer step counter도 필요합니다."
   ]
  },
  {
   "cell_type": "code",
   "execution_count": 15,
   "metadata": {
    "id": "jbY4yrjTEyc9"
   },
   "outputs": [],
   "source": [
    "optimizer = tf.keras.optimizers.Adam(learning_rate=learning_rate)\n",
    "\n",
    "train_step_counter = tf.Variable(0)\n",
    "\n",
    "agent = dqn_agent.DqnAgent(\n",
    "    train_env.time_step_spec(),\n",
    "    train_env.action_spec(),\n",
    "    q_network=q_net,\n",
    "    optimizer=optimizer,\n",
    "    td_errors_loss_fn=common.element_wise_squared_loss,\n",
    "    train_step_counter=train_step_counter)\n",
    "\n",
    "agent.initialize()"
   ]
  },
  {
   "cell_type": "markdown",
   "metadata": {
    "id": "I0KLrEPwkn5x"
   },
   "source": [
    "## Policies\n",
    "\n",
    "정책은 에이전트가 환경에서 작동하는 방식을 정의합니다. 일반적으로 강화 학습의 목표는 정책이 원하는 결과를 생성할 때까지 기본 모델을 훈련하는 것입니다.\n",
    "\n",
    "이 튜토리얼에서:\n",
    "\n",
    "- 원하는 결과는 장대가 카트 위에서 수직으로 균형을 유지하도록 하는 것입니다.\n",
    "- 정책은 각 `time_step` 관찰에 대해 작업(왼쪽 또는 오른쪽)을 반환합니다.\n",
    "\n",
    "에이전트에는 두 가지 정책이 있습니다.\n",
    "\n",
    "- `agent.policy` — 평가 및 배포에 사용되는 기본 정책입니다.\n",
    "- `agent.collect_policy` — 데이터 수집에 사용되는 두 번째 정책입니다."
   ]
  },
  {
   "cell_type": "code",
   "execution_count": 16,
   "metadata": {
    "id": "BwY7StuMkuV4"
   },
   "outputs": [],
   "source": [
    "eval_policy = agent.policy\n",
    "collect_policy = agent.collect_policy"
   ]
  },
  {
   "cell_type": "markdown",
   "metadata": {
    "id": "2Qs1Fl3dV0ae"
   },
   "source": [
    "정책은 에이전트와 독립적으로 생성할 수 있습니다. 예를 들어 `tf_agents.policies.random_tf_policy`를 사용하여 각 `time_step`에 대한 작업을 무작위로 선택하는 정책을 만듭니다."
   ]
  },
  {
   "cell_type": "code",
   "execution_count": 17,
   "metadata": {
    "id": "HE37-UCIrE69"
   },
   "outputs": [],
   "source": [
    "random_policy = random_tf_policy.RandomTFPolicy(train_env.time_step_spec(),\n",
    "                                                train_env.action_spec())"
   ]
  },
  {
   "cell_type": "markdown",
   "metadata": {
    "id": "dOlnlRRsUbxP"
   },
   "source": [
    "정책에서 action을 가져오려면 `policy.action(time_step)` 메서드를 호출하세요. `time_step`에는 환경에서 관찰한 observation이 포함됩니다. 이 메서드는 세 가지 구성 요소가 있는 named Tuple인 `PolicyStep`을 반환합니다.\n",
    "\n",
    "- `action` — 취할 action(이 경우 `0` 또는 `1`)\n",
    "- `state` — stateful (즉, RNN 기반) 정책에 사용됩니다.\n",
    "- `info` — action의 로그 확률과 같은 보조 데이터"
   ]
  },
  {
   "cell_type": "code",
   "execution_count": 18,
   "metadata": {
    "id": "5gCcpXswVAxk"
   },
   "outputs": [],
   "source": [
    "example_environment = tf_py_environment.TFPyEnvironment(\n",
    "    suite_gym.load('CartPole-v0'))"
   ]
  },
  {
   "cell_type": "code",
   "execution_count": 19,
   "metadata": {
    "id": "D4DHZtq3Ndis"
   },
   "outputs": [],
   "source": [
    "time_step = example_environment.reset()"
   ]
  },
  {
   "cell_type": "code",
   "execution_count": 20,
   "metadata": {
    "colab": {
     "base_uri": "https://localhost:8080/"
    },
    "id": "PRFqAUzpNaAW",
    "outputId": "b8d8cf09-f2bd-4413-b8fc-770551291d16"
   },
   "outputs": [
    {
     "data": {
      "text/plain": [
       "PolicyStep(action=<tf.Tensor: shape=(1,), dtype=int64, numpy=array([1])>, state=(), info=())"
      ]
     },
     "execution_count": 20,
     "metadata": {},
     "output_type": "execute_result"
    }
   ],
   "source": [
    "random_policy.action(time_step)"
   ]
  },
  {
   "cell_type": "markdown",
   "metadata": {
    "id": "94rCXQtbUbXv"
   },
   "source": [
    "## Metrics and Evaluation\n",
    "\n",
    "정책을 평가하는 데 사용되는 가장 일반적인 지표는 평균 return입니다. return은 에피소드에 대한 환경에서 정책을 실행하는 동안 얻은 보상의 합계입니다. 여러 에피소드가 실행되어 평균 return을 창출합니다.\n",
    "\n",
    "다음 함수는 정책, 환경 및 에피소드 수를 고려하여 정책의 평균 return을 계산합니다.\n"
   ]
  },
  {
   "cell_type": "code",
   "execution_count": 21,
   "metadata": {
    "id": "bitzHo5_UbXy"
   },
   "outputs": [],
   "source": [
    "def compute_avg_return(environment, policy, num_episodes=10):\n",
    "\n",
    "  total_return = 0.0\n",
    "  for _ in range(num_episodes):\n",
    "\n",
    "    time_step = environment.reset()\n",
    "    episode_return = 0.0\n",
    "\n",
    "    while not time_step.is_last():\n",
    "      action_step = policy.action(time_step)\n",
    "      time_step = environment.step(action_step.action)\n",
    "      episode_return += time_step.reward\n",
    "    total_return += episode_return\n",
    "\n",
    "  avg_return = total_return / num_episodes\n",
    "  return avg_return.numpy()[0]\n",
    "\n",
    "\n",
    "# See also the metrics module for standard implementations of different metrics.\n",
    "# https://github.com/tensorflow/agents/tree/master/tf_agents/metrics"
   ]
  },
  {
   "cell_type": "markdown",
   "metadata": {
    "id": "_snCVvq5Z8lJ"
   },
   "source": [
    "`random_policy`에서 이 계산을 실행하면 환경의 baseline performance가 표시됩니다."
   ]
  },
  {
   "cell_type": "code",
   "execution_count": 22,
   "metadata": {
    "colab": {
     "base_uri": "https://localhost:8080/"
    },
    "id": "9bgU6Q6BZ8Bp",
    "outputId": "61a54069-761b-4d9f-a7a5-781b178f60eb"
   },
   "outputs": [
    {
     "data": {
      "text/plain": [
       "18.0"
      ]
     },
     "execution_count": 22,
     "metadata": {},
     "output_type": "execute_result"
    }
   ],
   "source": [
    "compute_avg_return(eval_env, random_policy, num_eval_episodes)"
   ]
  },
  {
   "cell_type": "markdown",
   "metadata": {
    "id": "NLva6g2jdWgr"
   },
   "source": [
    "## Replay Buffer\n",
    "\n",
    "환경에서 수집된 데이터를 추적하기 위해 Deepmind 가 만든 효율적이고 확장 가능하며 사용하기 쉬운 재생 시스템인 [Reverb](https://deepmind.com/research/open-source/Reverb)를 사용할 것입니다.  궤적을 수집할 때 경험 데이터를 저장하고 훈련 중에 소비합니다.\n",
    "\n",
    "이 replay 버퍼는 저장될 텐서를 설명하는 사양을 사용하여 구성되며 이는 agent.collect_data_spec을 사용하여 에이전트에서 얻을 수 있습니다."
   ]
  },
  {
   "cell_type": "code",
   "execution_count": 23,
   "metadata": {
    "id": "vX2zGUWJGWAl"
   },
   "outputs": [],
   "source": [
    "table_name = 'uniform_table'\n",
    "replay_buffer_signature = tensor_spec.from_spec(\n",
    "      agent.collect_data_spec)\n",
    "replay_buffer_signature = tensor_spec.add_outer_dim(\n",
    "    replay_buffer_signature)\n",
    "\n",
    "table = reverb.Table(\n",
    "    table_name,\n",
    "    max_size=replay_buffer_max_length,\n",
    "    sampler=reverb.selectors.Uniform(),\n",
    "    remover=reverb.selectors.Fifo(),\n",
    "    rate_limiter=reverb.rate_limiters.MinSize(1),\n",
    "    signature=replay_buffer_signature)\n",
    "\n",
    "reverb_server = reverb.Server([table])\n",
    "\n",
    "replay_buffer = reverb_replay_buffer.ReverbReplayBuffer(\n",
    "    agent.collect_data_spec,\n",
    "    table_name=table_name,\n",
    "    sequence_length=2,\n",
    "    local_server=reverb_server)\n",
    "\n",
    "rb_observer = reverb_utils.ReverbAddTrajectoryObserver(\n",
    "  replay_buffer.py_client,\n",
    "  table_name,\n",
    "  sequence_length=2)"
   ]
  },
  {
   "cell_type": "markdown",
   "metadata": {
    "id": "ZGNTDJpZs4NN"
   },
   "source": [
    "대부분의 에이전트에서 `collect_data_spec`은 observations, actions,  reward 및 기타 항목에 대한 사양을 포함하는 `Trajectory`라 명명된 튜플입니다."
   ]
  },
  {
   "cell_type": "code",
   "execution_count": 24,
   "metadata": {
    "colab": {
     "base_uri": "https://localhost:8080/"
    },
    "id": "_IZ-3HcqgE1z",
    "outputId": "13965676-3f8e-4d91-a0f3-a1ffb0602adc"
   },
   "outputs": [
    {
     "data": {
      "text/plain": [
       "Trajectory(\n",
       "{'action': BoundedTensorSpec(shape=(), dtype=tf.int64, name='action', minimum=array(0), maximum=array(1)),\n",
       " 'discount': BoundedTensorSpec(shape=(), dtype=tf.float32, name='discount', minimum=array(0., dtype=float32), maximum=array(1., dtype=float32)),\n",
       " 'next_step_type': TensorSpec(shape=(), dtype=tf.int32, name='step_type'),\n",
       " 'observation': BoundedTensorSpec(shape=(4,), dtype=tf.float32, name='observation', minimum=array([-4.8000002e+00, -3.4028235e+38, -4.1887903e-01, -3.4028235e+38],\n",
       "      dtype=float32), maximum=array([4.8000002e+00, 3.4028235e+38, 4.1887903e-01, 3.4028235e+38],\n",
       "      dtype=float32)),\n",
       " 'policy_info': (),\n",
       " 'reward': TensorSpec(shape=(), dtype=tf.float32, name='reward'),\n",
       " 'step_type': TensorSpec(shape=(), dtype=tf.int32, name='step_type')})"
      ]
     },
     "execution_count": 24,
     "metadata": {},
     "output_type": "execute_result"
    }
   ],
   "source": [
    "agent.collect_data_spec"
   ]
  },
  {
   "cell_type": "code",
   "execution_count": 25,
   "metadata": {
    "colab": {
     "base_uri": "https://localhost:8080/"
    },
    "id": "sy6g1tGcfRlw",
    "outputId": "3efb5977-17ad-472a-c7d2-92d07e1d8d9c"
   },
   "outputs": [
    {
     "data": {
      "text/plain": [
       "('step_type',\n",
       " 'observation',\n",
       " 'action',\n",
       " 'policy_info',\n",
       " 'next_step_type',\n",
       " 'reward',\n",
       " 'discount')"
      ]
     },
     "execution_count": 25,
     "metadata": {},
     "output_type": "execute_result"
    }
   ],
   "source": [
    "agent.collect_data_spec._fields"
   ]
  },
  {
   "cell_type": "markdown",
   "metadata": {
    "id": "rVD5nQ9ZGo8_"
   },
   "source": [
    "## Data Collection\n",
    "\n",
    "이제 몇 단계 동안 환경에서 임의 정책을 실행하여 재생 버퍼에 데이터를 기록합니다.\n",
    "\n",
    "여기서 우리는 경험 수집 루프를 실행하기 위해 'PyDriver'를 사용하고 있습니다. [드라이버 자습서](https://www.tensorflow.org/agents/tutorials/4_drivers_tutorial)에서 TF Agents driver에 대해 자세히 알아볼 수 있습니다."
   ]
  },
  {
   "cell_type": "code",
   "execution_count": 26,
   "metadata": {
    "colab": {
     "base_uri": "https://localhost:8080/"
    },
    "id": "wr1KSAEGG4h9",
    "outputId": "89057333-179f-4f37-f7f2-3b1fe37b8fb7"
   },
   "outputs": [
    {
     "data": {
      "text/plain": [
       "(TimeStep(\n",
       "{'discount': array(1., dtype=float32),\n",
       " 'observation': array([ 0.06484389,  0.5529951 , -0.10044263, -0.99653244], dtype=float32),\n",
       " 'reward': array(1., dtype=float32),\n",
       " 'step_type': array(1, dtype=int32)}),\n",
       " ())"
      ]
     },
     "execution_count": 26,
     "metadata": {},
     "output_type": "execute_result"
    }
   ],
   "source": [
    "py_driver.PyDriver(\n",
    "    env,\n",
    "    py_tf_eager_policy.PyTFEagerPolicy(\n",
    "      random_policy, use_tf_function=True),\n",
    "    [rb_observer],\n",
    "    max_steps=initial_collect_steps).run(train_py_env.reset())"
   ]
  },
  {
   "cell_type": "markdown",
   "metadata": {
    "id": "84z5pQJdoKxo"
   },
   "source": [
    "replay buffer 는 이제 collection of Trajectories 입니다."
   ]
  },
  {
   "cell_type": "code",
   "execution_count": 27,
   "metadata": {
    "colab": {
     "base_uri": "https://localhost:8080/"
    },
    "id": "4wZnLu2ViO4E",
    "outputId": "5e33773a-4c73-4cd7-d2de-371cc3fa571d"
   },
   "outputs": [
    {
     "data": {
      "text/plain": [
       "(Trajectory(\n",
       "{'action': <tf.Tensor: shape=(2,), dtype=int64, numpy=array([0, 0])>,\n",
       " 'discount': <tf.Tensor: shape=(2,), dtype=float32, numpy=array([1., 1.], dtype=float32)>,\n",
       " 'next_step_type': <tf.Tensor: shape=(2,), dtype=int32, numpy=array([1, 1], dtype=int32)>,\n",
       " 'observation': <tf.Tensor: shape=(2, 4), dtype=float32, numpy=\n",
       "array([[-0.02770963, -0.01443932,  0.02707087, -0.0198369 ],\n",
       "       [-0.02799841, -0.20993882,  0.02667413,  0.2812628 ]],\n",
       "      dtype=float32)>,\n",
       " 'policy_info': (),\n",
       " 'reward': <tf.Tensor: shape=(2,), dtype=float32, numpy=array([1., 1.], dtype=float32)>,\n",
       " 'step_type': <tf.Tensor: shape=(2,), dtype=int32, numpy=array([0, 1], dtype=int32)>}),\n",
       " SampleInfo(key=<tf.Tensor: shape=(2,), dtype=uint64, numpy=array([10120312145215991115, 10120312145215991115], dtype=uint64)>, probability=<tf.Tensor: shape=(2,), dtype=float64, numpy=array([0.01010101, 0.01010101])>, table_size=<tf.Tensor: shape=(2,), dtype=int64, numpy=array([99, 99])>, priority=<tf.Tensor: shape=(2,), dtype=float64, numpy=array([1., 1.])>))"
      ]
     },
     "execution_count": 27,
     "metadata": {},
     "output_type": "execute_result"
    }
   ],
   "source": [
    "# For the curious:\n",
    "# Uncomment to peel one of these off and inspect it.\n",
    "iter(replay_buffer.as_dataset()).next()"
   ]
  },
  {
   "cell_type": "markdown",
   "metadata": {
    "id": "TujU-PMUsKjS"
   },
   "source": [
    "agent는 replay buffer에 액세스해야 합니다. 이는 에이전트에 데이터를 공급할 반복 가능한 `tf.data.Dataset` 파이프라인을 생성하여 제공됩니다.\n",
    "\n",
    "replay buffer의 각 행은 single observation step만 저장합니다. 그러나 DQN Agent는 손실을 계산하기 위해 현재 및 다음 observation이 모두 필요하므로 데이터 세트 파이프라인은 배치의 각 항목에 대해 인접한 두 행을 샘플링합니다(`num_steps=2`).\n",
    "\n",
    "이 데이터 세트는 병렬 호출을 실행하고 데이터를 prefetch 함으로써 최적화됩니다."
   ]
  },
  {
   "cell_type": "code",
   "execution_count": 28,
   "metadata": {
    "colab": {
     "base_uri": "https://localhost:8080/"
    },
    "id": "ba7bilizt_qW",
    "outputId": "802c03ab-0bca-4663-80d4-3ad6d7dc2087"
   },
   "outputs": [
    {
     "data": {
      "text/plain": [
       "<PrefetchDataset shapes: (Trajectory(\n",
       "{action: (64, 2),\n",
       " discount: (64, 2),\n",
       " next_step_type: (64, 2),\n",
       " observation: (64, 2, 4),\n",
       " policy_info: (),\n",
       " reward: (64, 2),\n",
       " step_type: (64, 2)}), SampleInfo(key=(64, 2), probability=(64, 2), table_size=(64, 2), priority=(64, 2))), types: (Trajectory(\n",
       "{action: tf.int64,\n",
       " discount: tf.float32,\n",
       " next_step_type: tf.int32,\n",
       " observation: tf.float32,\n",
       " policy_info: (),\n",
       " reward: tf.float32,\n",
       " step_type: tf.int32}), SampleInfo(key=tf.uint64, probability=tf.float64, table_size=tf.int64, priority=tf.float64))>"
      ]
     },
     "execution_count": 28,
     "metadata": {},
     "output_type": "execute_result"
    }
   ],
   "source": [
    "# Dataset generates trajectories with shape [Bx2x...]\n",
    "dataset = replay_buffer.as_dataset(\n",
    "    num_parallel_calls=3,\n",
    "    sample_batch_size=batch_size,\n",
    "    num_steps=2).prefetch(3)\n",
    "\n",
    "dataset"
   ]
  },
  {
   "cell_type": "code",
   "execution_count": 29,
   "metadata": {
    "colab": {
     "base_uri": "https://localhost:8080/"
    },
    "id": "K13AST-2ppOq",
    "outputId": "51fdf0e9-a51d-4822-b29d-1fbad8409221"
   },
   "outputs": [
    {
     "name": "stdout",
     "output_type": "stream",
     "text": [
      "<tensorflow.python.data.ops.iterator_ops.OwnedIterator object at 0x7ff6666efad0>\n"
     ]
    }
   ],
   "source": [
    "iterator = iter(dataset)\n",
    "print(iterator)"
   ]
  },
  {
   "cell_type": "code",
   "execution_count": null,
   "metadata": {
    "id": "Th5w5Sff0b16"
   },
   "outputs": [],
   "source": [
    "# For the curious:\n",
    "# Uncomment to see what the dataset iterator is feeding to the agent.\n",
    "# Compare this representation of replay data \n",
    "# to the collection of individual trajectories shown earlier.\n",
    "\n",
    "# iterator.next()"
   ]
  },
  {
   "cell_type": "markdown",
   "metadata": {
    "id": "hBc9lj9VWWtZ"
   },
   "source": [
    "## agent 훈련\n",
    "\n",
    "훈련 루프 동안 두 가지 일이 발생해야 합니다.\n",
    "\n",
    "- 환경에서 데이터 수집\n",
    "- 해당 데이터를 사용하여 에이전트의 신경망 훈련\n",
    "\n",
    "이 예에서는 정기적으로 정책을 평가하고 현재 점수를 인쇄합니다.\n",
    "\n",
    "다음은 실행하는 데 5분 정도 걸립니다."
   ]
  },
  {
   "cell_type": "code",
   "execution_count": 30,
   "metadata": {
    "colab": {
     "base_uri": "https://localhost:8080/"
    },
    "id": "0pTbJ3PeyF-u",
    "outputId": "29814aff-73a1-414a-908d-7cd116876b0f"
   },
   "outputs": [
    {
     "name": "stdout",
     "output_type": "stream",
     "text": [
      "CPU times: user 2 µs, sys: 1 µs, total: 3 µs\n",
      "Wall time: 6.2 µs\n",
      "WARNING:tensorflow:From /usr/local/lib/python3.7/dist-packages/tensorflow/python/util/dispatch.py:206: calling foldr_v2 (from tensorflow.python.ops.functional_ops) with back_prop=False is deprecated and will be removed in a future version.\n",
      "Instructions for updating:\n",
      "back_prop=False is deprecated. Consider using tf.stop_gradient instead.\n",
      "Instead of:\n",
      "results = tf.foldr(fn, elems, back_prop=False)\n",
      "Use:\n",
      "results = tf.nest.map_structure(tf.stop_gradient, tf.foldr(fn, elems))\n",
      "step = 200: loss = 78.35406494140625\n",
      "step = 400: loss = 6.997042655944824\n",
      "step = 600: loss = 14.364372253417969\n",
      "step = 800: loss = 70.0248794555664\n",
      "step = 1000: loss = 96.79509735107422\n",
      "step = 1000: Average Return = 30.399999618530273\n",
      "step = 1200: loss = 153.94419860839844\n",
      "step = 1400: loss = 22.850244522094727\n",
      "step = 1600: loss = 21.99332046508789\n",
      "step = 1800: loss = 278.52740478515625\n",
      "step = 2000: loss = 2016.888671875\n",
      "step = 2000: Average Return = 200.0\n",
      "step = 2200: loss = 3542.386962890625\n",
      "step = 2400: loss = 4599.3115234375\n",
      "step = 2600: loss = 577.5406494140625\n",
      "step = 2800: loss = 48162.015625\n",
      "step = 3000: loss = 1329.8297119140625\n",
      "step = 3000: Average Return = 200.0\n",
      "step = 3200: loss = 7677.14501953125\n",
      "step = 3400: loss = 51893.49609375\n",
      "step = 3600: loss = 2238.046875\n",
      "step = 3800: loss = 38382.12109375\n",
      "step = 4000: loss = 6131.1005859375\n",
      "step = 4000: Average Return = 200.0\n",
      "step = 4200: loss = 127304.8515625\n",
      "step = 4400: loss = 6979.16845703125\n",
      "step = 4600: loss = 7361.4375\n",
      "step = 4800: loss = 337661.96875\n",
      "step = 5000: loss = 13205.8779296875\n",
      "step = 5000: Average Return = 200.0\n",
      "step = 5200: loss = 8448.052734375\n",
      "step = 5400: loss = 184965.4375\n",
      "step = 5600: loss = 35672.375\n",
      "step = 5800: loss = 9022.0810546875\n",
      "step = 6000: loss = 6896.134765625\n",
      "step = 6000: Average Return = 200.0\n",
      "step = 6200: loss = 16551.94140625\n",
      "step = 6400: loss = 337441.1875\n",
      "step = 6600: loss = 28686.4140625\n",
      "step = 6800: loss = 76607.59375\n",
      "step = 7000: loss = 1043237.8125\n",
      "step = 7000: Average Return = 124.0\n",
      "step = 7200: loss = 33200.9453125\n",
      "step = 7400: loss = 923966.125\n",
      "step = 7600: loss = 89958.6796875\n",
      "step = 7800: loss = 299896.3125\n",
      "step = 8000: loss = 382437.625\n",
      "step = 8000: Average Return = 88.30000305175781\n",
      "step = 8200: loss = 361212.28125\n",
      "step = 8400: loss = 275082.53125\n",
      "step = 8600: loss = 3021700.5\n",
      "step = 8800: loss = 1089646.5\n",
      "step = 9000: loss = 2303509.25\n",
      "step = 9000: Average Return = 64.9000015258789\n",
      "step = 9200: loss = 2726740.0\n",
      "step = 9400: loss = 12476118.0\n",
      "step = 9600: loss = 75180312.0\n",
      "step = 9800: loss = 12300826.0\n",
      "step = 10000: loss = 963815936.0\n",
      "step = 10000: Average Return = 174.60000610351562\n",
      "step = 10200: loss = 5884476.0\n",
      "step = 10400: loss = 9722986.0\n",
      "step = 10600: loss = 37467488.0\n",
      "step = 10800: loss = 28993644.0\n",
      "step = 11000: loss = 20132444.0\n",
      "step = 11000: Average Return = 200.0\n",
      "step = 11200: loss = 33582088.0\n",
      "step = 11400: loss = 10998397.0\n",
      "step = 11600: loss = 18213936.0\n",
      "step = 11800: loss = 42817568.0\n",
      "step = 12000: loss = 54729600.0\n",
      "step = 12000: Average Return = 200.0\n",
      "step = 12200: loss = 38151128.0\n",
      "step = 12400: loss = 29729568.0\n",
      "step = 12600: loss = 7048368.5\n",
      "step = 12800: loss = 31345536.0\n",
      "step = 13000: loss = 59999616.0\n",
      "step = 13000: Average Return = 200.0\n",
      "step = 13200: loss = 9378750.0\n",
      "step = 13400: loss = 31940760.0\n",
      "step = 13600: loss = 35137536.0\n",
      "step = 13800: loss = 18517630.0\n",
      "step = 14000: loss = 76007280.0\n",
      "step = 14000: Average Return = 200.0\n",
      "step = 14200: loss = 81231272.0\n",
      "step = 14400: loss = 50782240.0\n",
      "step = 14600: loss = 2745371136.0\n",
      "step = 14800: loss = 60305568.0\n",
      "step = 15000: loss = 25153420.0\n",
      "step = 15000: Average Return = 200.0\n",
      "step = 15200: loss = 107929184.0\n",
      "step = 15400: loss = 66603336.0\n",
      "step = 15600: loss = 20729722.0\n",
      "step = 15800: loss = 32953612.0\n",
      "step = 16000: loss = 55666240.0\n",
      "step = 16000: Average Return = 200.0\n",
      "step = 16200: loss = 62705544.0\n",
      "step = 16400: loss = 110816344.0\n",
      "step = 16600: loss = 95857112.0\n",
      "step = 16800: loss = 126557464.0\n",
      "step = 17000: loss = 95905464.0\n",
      "step = 17000: Average Return = 200.0\n",
      "step = 17200: loss = 124159224.0\n",
      "step = 17400: loss = 205718080.0\n",
      "step = 17600: loss = 72670616.0\n",
      "step = 17800: loss = 201869344.0\n",
      "step = 18000: loss = 227023392.0\n",
      "step = 18000: Average Return = 200.0\n",
      "step = 18200: loss = 175838592.0\n",
      "step = 18400: loss = 215725312.0\n",
      "step = 18600: loss = 84723536.0\n",
      "step = 18800: loss = 104860688.0\n",
      "step = 19000: loss = 235938112.0\n",
      "step = 19000: Average Return = 200.0\n",
      "step = 19200: loss = 354512000.0\n",
      "step = 19400: loss = 197202208.0\n",
      "step = 19600: loss = 120321072.0\n",
      "step = 19800: loss = 212419264.0\n",
      "step = 20000: loss = 127904040.0\n",
      "step = 20000: Average Return = 200.0\n"
     ]
    }
   ],
   "source": [
    "try:\n",
    "  %%time\n",
    "except:\n",
    "  pass\n",
    "\n",
    "# (Optional) Optimize by wrapping some of the code in a graph using TF function.\n",
    "agent.train = common.function(agent.train)\n",
    "\n",
    "# Reset the train step.\n",
    "agent.train_step_counter.assign(0)\n",
    "\n",
    "# Evaluate the agent's policy once before training.\n",
    "avg_return = compute_avg_return(eval_env, agent.policy, num_eval_episodes)\n",
    "returns = [avg_return]\n",
    "\n",
    "# Reset the environment.\n",
    "time_step = train_py_env.reset()\n",
    "\n",
    "# Create a driver to collect experience.\n",
    "collect_driver = py_driver.PyDriver(\n",
    "    env,\n",
    "    py_tf_eager_policy.PyTFEagerPolicy(\n",
    "      agent.collect_policy, use_tf_function=True),\n",
    "    [rb_observer],\n",
    "    max_steps=collect_steps_per_iteration)\n",
    "\n",
    "for _ in range(num_iterations):\n",
    "\n",
    "  # Collect a few steps and save to the replay buffer.\n",
    "  time_step, _ = collect_driver.run(time_step)\n",
    "\n",
    "  # Sample a batch of data from the buffer and update the agent's network.\n",
    "  experience, unused_info = next(iterator)\n",
    "  train_loss = agent.train(experience).loss\n",
    "\n",
    "  step = agent.train_step_counter.numpy()\n",
    "\n",
    "  if step % log_interval == 0:\n",
    "    print('step = {0}: loss = {1}'.format(step, train_loss))\n",
    "\n",
    "  if step % eval_interval == 0:\n",
    "    avg_return = compute_avg_return(eval_env, agent.policy, num_eval_episodes)\n",
    "    print('step = {0}: Average Return = {1}'.format(step, avg_return))\n",
    "    returns.append(avg_return)"
   ]
  },
  {
   "cell_type": "markdown",
   "metadata": {
    "id": "68jNcA_TiJDq"
   },
   "source": [
    "## 시각화\n"
   ]
  },
  {
   "cell_type": "markdown",
   "metadata": {
    "id": "aO-LWCdbbOIC"
   },
   "source": [
    "### Plots\n",
    "\n",
    "'matplotlib.pyplot'을 사용하여 train 중에 정책이 어떻게 개선되었는지 차트로 표시합니다.\n",
    "\n",
    "'Cartpole-v0'의 1회 반복은 200개의 시간 단계로 구성됩니다. 환경은 pole 이 유지되는 각 단계에 대해 '+1'의 보상을 제공하므로 한 에피소드에 대한 최대 수익은 200입니다. 차트는 훈련 중에 평가될 때마다 최대 return을 향해 증가하는 return을 보여줍니다. (조금 불안정하고 매번 단조 증가하지 않을 수 있습니다.)"
   ]
  },
  {
   "cell_type": "code",
   "execution_count": 31,
   "metadata": {
    "colab": {
     "base_uri": "https://localhost:8080/",
     "height": 300
    },
    "id": "NxtL1mbOYCVO",
    "outputId": "f100efa7-fb72-45ef-8528-c3fdb72a1a72"
   },
   "outputs": [
    {
     "data": {
      "text/plain": [
       "(2.809999799728393, 250.0)"
      ]
     },
     "execution_count": 31,
     "metadata": {},
     "output_type": "execute_result"
    },
    {
     "data": {
      "image/png": "[encoded data removed]",
      "text/plain": [
       "<Figure size 432x288 with 1 Axes>"
      ]
     },
     "metadata": {
      "needs_background": "light"
     },
     "output_type": "display_data"
    }
   ],
   "source": [
    "iterations = range(0, num_iterations + 1, eval_interval)\n",
    "plt.plot(iterations, returns)\n",
    "plt.ylabel('Average Return')\n",
    "plt.xlabel('Iterations')\n",
    "plt.ylim(top=250)"
   ]
  },
  {
   "cell_type": "markdown",
   "metadata": {
    "id": "M7-XpPP99Cy7"
   },
   "source": [
    "### 동영상"
   ]
  },
  {
   "cell_type": "markdown",
   "metadata": {
    "id": "9pGfGxSH32gn"
   },
   "source": [
    "차트가 좋습니다. 그러나 더 흥미로운 것은 에이전트가 실제로 환경에서 작업을 수행하는 것을 보는 것입니다.\n",
    "\n",
    "먼저 노트북에 동영상을 삽입하는 함수를 만듭니다."
   ]
  },
  {
   "cell_type": "code",
   "execution_count": 32,
   "metadata": {
    "id": "ULaGr8pvOKbl"
   },
   "outputs": [],
   "source": [
    "def embed_mp4(filename):\n",
    "  \"\"\"Embeds an mp4 file in the notebook.\"\"\"\n",
    "  video = open(filename,'rb').read()\n",
    "  b64 = base64.b64encode(video)\n",
    "  tag = '''\n",
    "  <video width=\"640\" height=\"480\" controls>\n",
    "    <source src=\"data:video/mp4;base64,{0}\" type=\"video/mp4\">\n",
    "  Your browser does not support the video tag.\n",
    "  </video>'''.format(b64.decode())\n",
    "\n",
    "  return IPython.display.HTML(tag)"
   ]
  },
  {
   "cell_type": "markdown",
   "metadata": {
    "id": "9c_PH-pX4Pr5"
   },
   "source": [
    "이제 에이전트와 함께 Cartpole 게임의 몇 가지 에피소드를 반복합니다. 기본 Python 환경(TensorFlow 환경 래퍼 \"내부\")은 환경 상태의 이미지를 출력하는 `render()` 메서드를 제공합니다. 이것들은 비디오로 수집될 수 있습니다."
   ]
  },
  {
   "cell_type": "code",
   "execution_count": 33,
   "metadata": {
    "colab": {
     "base_uri": "https://localhost:8080/",
     "height": 539
    },
    "id": "owOVWB158NlF",
    "outputId": "4308eaf3-5198-4fac-ddc0-5a3b194b6c14"
   },
   "outputs": [
    {
     "name": "stderr",
     "output_type": "stream",
     "text": [
      "WARNING:root:IMAGEIO FFMPEG_WRITER WARNING: input image is not divisible by macro_block_size=16, resizing from (400, 600) to (400, 608) to ensure video compatibility with most codecs and players. To prevent resizing, make your input image divisible by the macro_block_size or set the macro_block_size to None (risking incompatibility). You may also see a FFMPEG warning concerning speedloss due to data not being aligned.\n"
     ]
    },
    {
     "data": {
      "text/html": [
       "\n",
       "  <video width=\"640\" height=\"480\" controls>\n",
       "    <source src=\"data:video/mp4;base64,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\" type=\"video/mp4\">\n",
       "  Your browser does not support the video tag.\n",
       "  </video>"
      ],
      "text/plain": [
       "<IPython.core.display.HTML object>"
      ]
     },
     "execution_count": 33,
     "metadata": {},
     "output_type": "execute_result"
    }
   ],
   "source": [
    "def create_policy_eval_video(policy, filename, num_episodes=5, fps=30):\n",
    "  filename = filename + \".mp4\"\n",
    "  with imageio.get_writer(filename, fps=fps) as video:\n",
    "    for _ in range(num_episodes):\n",
    "      time_step = eval_env.reset()\n",
    "      video.append_data(eval_py_env.render())\n",
    "      while not time_step.is_last():\n",
    "        action_step = policy.action(time_step)\n",
    "        time_step = eval_env.step(action_step.action)\n",
    "        video.append_data(eval_py_env.render())\n",
    "  return embed_mp4(filename)\n",
    "\n",
    "create_policy_eval_video(agent.policy, \"trained-agent\")"
   ]
  },
  {
   "cell_type": "markdown",
   "metadata": {
    "id": "povaAOcZygLw"
   },
   "source": [
    "재미를 위해 훈련된 에이전트(위)를 무작위로 움직이는 에이전트와 비교하십시오."
   ]
  },
  {
   "cell_type": "code",
   "execution_count": 34,
   "metadata": {
    "colab": {
     "base_uri": "https://localhost:8080/",
     "height": 539
    },
    "id": "pJZIdC37yNH4",
    "outputId": "3a23ac61-4276-43e4-a0e9-095dd6609b81"
   },
   "outputs": [
    {
     "name": "stderr",
     "output_type": "stream",
     "text": [
      "WARNING:root:IMAGEIO FFMPEG_WRITER WARNING: input image is not divisible by macro_block_size=16, resizing from (400, 600) to (400, 608) to ensure video compatibility with most codecs and players. To prevent resizing, make your input image divisible by the macro_block_size or set the macro_block_size to None (risking incompatibility). You may also see a FFMPEG warning concerning speedloss due to data not being aligned.\n"
     ]
    },
    {
     "data": {
      "text/html": [
       "\n",
       "  <video width=\"640\" height=\"480\" controls>\n",
       "    <source src=\"data:video/mp4;base64,AAAAIGZ0eXBpc29tAAACAGlzb21pc28yYXZjMW1wNDEAAAAIZnJlZQAAMudtZGF0AAACrgYF//+q3EXpvebZSLeWLNgg2SPu73gyNjQgLSBjb3JlIDE1MiByMjg1NCBlOWE1OTAzIC0gSC4yNjQvTVBFRy00IEFWQyBjb2RlYyAtIENvcHlsZWZ0IDIwMDMtMjAxNyAtIGh0dHA6Ly93d3cudmlkZW9sYW4ub3JnL3gyNjQuaHRtbCAtIG9wdGlvbnM6IGNhYmFjPTEgcmVmPTMgZGVibG9jaz0xOjA6MCBhbmFseXNlPTB4MzoweDExMyBtZT1oZXggc3VibWU9NyBwc3k9MSBwc3lfcmQ9MS4wMDowLjAwIG1peGVkX3JlZj0xIG1lX3JhbmdlPTE2IGNocm9tYV9tZT0xIHRyZWxsaXM9MSA4eDhkY3Q9MSBjcW09MCBkZWFkem9uZT0yMSwxMSBmYXN0X3Bza2lwPTEgY2hyb21hX3FwX29mZnNldD0tMiB0aHJlYWRzPTMgbG9va2FoZWFkX3RocmVhZHM9MSBzbGljZWRfdGhyZWFkcz0wIG5yPTAgZGVjaW1hdGU9MSBpbnRlcmxhY2VkPTAgYmx1cmF5X2NvbXBhdD0wIGNvbnN0cmFpbmVkX2ludHJhPTAgYmZyYW1lcz0zIGJfcHlyYW1pZD0yIGJfYWRhcHQ9MSBiX2JpYXM9MCBkaXJlY3Q9MSB3ZWlnaHRiPTEgb3Blbl9nb3A9MCB3ZWlnaHRwPTIga2V5aW50PTI1MCBrZXlpbnRfbWluPTI1IHNjZW5lY3V0PTQwIGludHJhX3JlZnJlc2g9MCByY19sb29rYWhlYWQ9NDAgcmM9Y3JmIG1idHJlZT0xIGNyZj0yNS4wIHFjb21wPTAuNjAgcXBtaW49MCBxcG1heD02OSBxcHN0ZXA9NCBpcF9yYXRpbz0xLjQwIGFxPTE6MS4wMACAAAACAWWIhAA3//72rvzLK0cLlS4dWXuzUfLoSXL9iDB9aAAAAwAAAwAAJuKiZ0WFMeJsgAAALmAIWElDyDzETFWKgSxDPavg9wtQIcAkr74AaCwP+vdWytFwZMkV2a1i6a2o7hA2ICYkkUOG2v9H7laKZz64p/zFCFbVxNWLVq1Vq45cKlnQcKyJj5IfunMv2NHVu3qGdykLB43+B3ez1r/UWbZBRbjtMhH4ckpPd8ulpVQ/jvW8QOJ/+ZP8Z9yZfDQ/4XxAqOOV5LqYTZVp+mKR5s4xmMB+kte8cNmVbkQgvD/DND3CCSQZJ98BffImXf32v3LoHoZwv+D6DRTYFE0jvLnd0Ab8qgxBBdMnwV6cdGHbTQJnU/G2m8HASLSUGiVfMfJlQvdXtNmcR1fbJEan8ofdDxnAsqqoGpMnCZOWXjJeZ+id/6fGSsaSOjH2gBOedBc81VIw4qNq/sJZ8a4cHdQ3ccGyd1JMZfuXY0gBb3dAnaoGRJrdpKI4loN6/hmlue+DR/3dmHP42MJa6O0A4njRtBLqSxP7+CDvUG0PxLCTzy5grZS+CjF/ioFap60eBob2ghyGBKPPpPjqZAACRh5/zw3unr9XMdWbFbMxDI72x/W0PRYEcwliTsO2wXXdbs81y2szfw2MeGMN+yAABWAAAn58AAADAAADAAADAAAOuQAAAQJBmiRsQ3/+jLAAAEY1nVIgAWuhHVGTrJhbhmEoLKvo3PfKBfcvjRwJvtr29iVYhuyXmZnkPn374RROzMw1aUtRy+UfkF66Jtvd0goR1RhZy1bdwsLK3zIp+BNabA3TvUOtdCe+nJv3cyATo10ccREPUTjK5lEDomBaKu2VfmfzAXM2t7Xwh4dsbJiEw3zNw6RRZ4ksLQfLdJUjdEU9UsVOkm17P25ycAZlR9Xn4PfKI9x0/TpLl+foGu4VAjTrJDmKifYX7kIftB9AACJbJOeWk27z0yjDIpu/3p15HxhUXwhVx8z4Bi9arOu/Hvfemla58brdK72tSsaNlz35sD5qNTQAAABYQZ5CeIV/AAAWvlsHIenF6k+v8As3HngpOlTH22Zs3yvGilauhfQAOyCKwfGMNHjlba1+Z3BRatzfhiGdCAAAE18+cvYClH5WVNqziRIeGHuZ9tVSqAAQ8QAAAEYBnmF0Qn8AAA13UcKrij0jlB8abIC/IFKJOIUJPjmfZz2NKQluYthRZcfnMAAAAwAExFuKAviOVFVG7ib4Cq7E7U8IAD/AAAAARwGeY2pCfwAAI3mvCVSF7YkWQM0T9Y+KGhr4ALqJWrK50NFUJXbdYWH4+28S0yfID4dDZE1fGeRYAAADAAADAKIs7efdhAZ9AAABOEGaaEmoQWiZTAhv//6MsAAARiXxjcdRgBGBlLlqza8zIR6f+scP3rHyfMixtmCJ+TSG8fChjjZ7+Rfd71YP6M0Cv38hdgH7lciZf43lqZZL849DNLe4AaQuh7vY9A47NPVzl4+686vKBVEwaCXNHrHeodOCA39+gUuyu7JsisL0xTGlu8/wtdeERzhyCA7tdOFsExpsXpdL5+3c7zyzxEPXbTdEyG2H5LtlHGy13j4yIk5SV1s6dUYYkqpZda1HJ8nufMLAhY8QbuxBX/+Y/KS/e9OHdC3qmJlhN4gOJ1sc5WjO3kPJ3ZWrijObzMHti2WpGX1UyDq0+vEF6SQhxqEs4cH5eRwF0V0raALJA4l51By8V2e6Pi3si2/x4KRgGFftFl+Vyp41npVWLapuzLjIvhj++yezgQAAAF5BnoZFESwr/wAAFqfcepmSSAJ7KF1oujjTUJsIyO0Xkokbv8L49ugbhNdqlfaSWfIrlnzXOh0iGx4qDCA+qm2iR12bfmj0xKsZfDV5QuhtK/JHyFweGwG3OpWZYDqhAAAAOAGepXRCfwAAI59cWGuswMUfQShAXJCmfSB8YnbMPuMdcUh/rhUnPqAAAAMABgy9gGH3By+jLArZAAAATwGep2pCfwAAI7HL/IxyAAuAcfRtLGZhITo1mYWFZdNiv05sao6h7fLOPQMuX6BSoZ1/o5s7LePyGLzrzmhbxklucmAH7sAADZZwPQqgakAAAADzQZqsSahBbJlMCG///oywAABGFEriNwBWX1lbNJi9LNVhEAzM2H/Sq3kfb6aSvgjEdNPDYOq0M62oJioQqHuigjyx/YC4ZnYLmihfE/GBFB/bejlIOoFbnQ9az7O13j5EUeXN6CboC+0afVtohwaYUNJI6epnvQ3gT51fcuBpvrUuj7C2cJBwrfco15Uqcx7a3jbY6bZUFMUXz1sdaxRzyZLH6X0plH5CiyVdePKbDMbUj/c49bPMeXbkZijD4v0Aa9rPHOfpQqFcrtQK1lxdqHFzemiBkMjtjlsis+b41bJmOru5puvrrJ4qsjQp5YwOo7qeAAAAZEGeykUVLCv/AAAWbmsvLEh2bRQ/DpjVf7pdYonpTI87h8aWzoFuehytiCEbapuE5a4XSb8/FhopjtPql0Gptp59QAIK0a47rpHmHi+TiKHwkFzHd9AAAAMA0yC31NlfRPEqgRMAAABLAZ7pdEJ/AAAjPcs5lhFBA2HQgZG3B3JwJJH5gV2I2Q/K1PArKesq7wt9xwHjo7WicBs3Y3dDViMxV7S42DMytAAB/uJCamKp4QMaAAAAaAGe62pCfwAAI64x0Z/9RpJfiWAwaKmD5S8kCALQpqvdCV8xsoa6brG4fsYCcYADUukLwZ63HjM0Ik6Vyg5iTmuUPavq2B1efHozucNzQBUTE43Px+T6/zFMCjPLsAEkIPmxpD2EqgakAAAAtUGa7kmoQWyZTBRMN//+jLAAAEYUSn0AgAgrGMYAqIel8nT8k/cdlfy5g3Q+j0oo6NSlmvTJwm11ADmcEDIBrBe2G0GbV5KuOCBDzJJyDmUEzds6OdFmVk1ERKQk+itKcgGWsSYTi0jCocwon+NcNe1WBqTmmW9hV19W3S39rsViuFis5CZlvpneLTtAFZ06ko8jTYv1jrkFVS/K7FIyhsdqAJQ/TwUUQInWX6vpKWBO/NRZ6OMAAABJAZ8NakJ/AAAjvvUZAU725FlbOLg3uOQfj052YcTW3FgfcQjrmK5lpGvRhV0cR3jJO534pHtVcLZUrOphqzcMfABtqII0JKgLKQAAAItBmw9J4QpSZTAhv/6MsAAARhRKfMCF4E4A3LlI0knNZqFOAB/D+DAa67rVExr6aVJrD31Fn1H5DtJ8+nVGLzD4/9yAHY0rMI8YADXOBrvtuxP5WoU0FiAKonAigb7g3DklzTbPgfzCBlrW26/nqrkzAZE9h+zikbRHW+kyS1BKfGrelTSz1C79rGdBAAAAy0GbM0nhDomUwIb//oywAABGAGRY4Arfg3LJVPbv4GPdnM/zgPUXzZvMzEBmJEST7k+LIRFz1pigD3uWzJMrBH7jun8DGm/yFCMDVwXhptRpYncRrYvIB2evZdyOYoKi8mDUvfLu5HmWZov0XzvaNY3J7tyriM+mYE3P5xiibHZjKOy8D6E1MY2xBRS8/zn3LFQ3DFu8ACNYTL8rmyixnh71oJon7gB4HU/3ZeJBDJFSuNqZzY4zcvVopBICSPnK0f3E8WFA3bp6+kRIAAAAr0GfUUURPCv/AAAWwDg/CVqT037rkfNs2WJ08AAnGqTV89GnsyyLG6+TGGSuYSC8TFEE+U9Oddhu/t24dFZDfRauQRrOHFsBIR48TSDUEl7hEKc6eQ+XQr5w+fDtr1fPV+CrsZ39BXHn0UBVVsqBQ03gLAFL5SOFzLfo//i3c0c/Tk9Ph9OKze4gtVTRkmFu/z9t+lugqEnPkWBCP1zZWIANYwCExkhBuB+b+7mqAW0AAABwAZ9wdEJ/AAAj1SEALC5CZoSraGntenxcud5UPGs88LcxGCu71rd+34eKAigW+RkcTY/zOv/04mezUBXDMll4pHH45Q6TKNwHYv7vnKvFD18n5efMjCgTkfY6gQM41pVXiZIAAAMAAAMBF2yb4wQJmQAAADYBn3JqQn8AACOxzA3XV5MABs5Y1VwNQYSQq9QKns4J4esDKBdhrpbOyNP4AAADAHkKdAywRMAAAAC7QZt3SahBaJlMCG///oywAABGEMBwqeaKBlT5aMEwzQJOAIj3AUtv/U3nYr2Z+X4NBWKVwKPiHDvA8tC0OOrwl/MVjjR0ykeJktAh0IhoQx6B9J2pDTuVInPsPAWl8790zQyy0UJ3i1yHv0mLuWNQJL9Vy+sBJo0GfF6vc0KfuFB29AzfKC48GgtJymkKbrauwRcEqjbdNLPG12qhDxilhHhRtjwwscIfGYeT3fLyLYivRo/RyWwtKVQIuAAAAGlBn5VFESwr/wAAFr56EcobEfX9sEiq3O+UPGa3j8tAEtBGJm+kA+8qRaX3USnLzj6ifZWa7BQAr9m2aD89sTOXX0FZCMzwBSkAuJWgdIROGKIw/bXDLfLIAsP/G72RfmAjFGe4BzLAVcEAAABMAZ+0dEJ/AAAjwxdqBdth5XRTRASrC3S4Tr3r5wubtGXhcPkOFSsCkCIOCfz8AG1BvgLywsi/blQGtUiwYxip0HwG8oAETOawTEBWwAAAAEcBn7ZqQn8AAA2FgCbWfjBds9wzVbiWMtc1JuOW4KIErKdhY8DZ90ZZKGeBGZgiXUtUChsBvCgAAAMAAAMAAwbtvtZIZYD0gQAAARNBm7tJqEFsmUwIb//+jLAAAEZ/vgQ1/q12i4Q/KCUKZkJuru3QWddhqRL+6xJ0wj27m8skGMJHyfGHC6m5alaJ1FIQjvkQovNjPqPmy50cXgCvt44D8XjoIPwnMKlq5DSE123zHfUCwkSmCOQNa998FIDpBflnh0bxoy+WNdKWSvAZo7XtWBohaPUKKBO6s7Uct9PR3ov27V4Ql2ktomoIqZ1rhMCHvypG0OTUmmAoo3ynF2oB74duGkfQ2EZwNOmGFRtpAdf/OHb11DWGKmHNEnpuq/XasScy+qy91SzBpo4MxOOU2PxuWLBujToVqVtP7W/Y8zcKfvsqsewLE7n/2pQL+ALI/Ba+lk7ZpWFQKKAPSQAAAIBBn9lFFSwr/wAAFsBH22eof0VH4EQOPlSutUsf6OgQcmSqIzc+fKehON5aXkS+tjdRdsJyOOFcs0zWJwwu7QAtwAbRlwJnVmkOWQfP3ee/RypCo9IjQlInn6X3D3F2O/drYky0QuC0571Z0CpfZ/Ts8HAnH4mVkB8EjhXcmECPgAAAAFgBn/h0Qn8AACOpzMq6BNd7Q0hzEwgJIHbgUpER8aa4AyQ124myGEno6zi1dfpYw4UQwWdX+RH4FF9JHq+vJmJKmIxJ+9HKWU9qL9vVkM5Qs/zbg3LlQD5hAAAAVwGf+mpCfwAAI7FnC/UuXlI/ZZaZuryVLIepMIcBVFL2iHJviBbvnDMeDdW3aQSVsHEj3qG3NVSuCr9TOILrt9b+zOKvxuG9YVJvDT6QEmai4G3LeuWBLwAAATtBm/9JqEFsmUwIb//+jLAAAEgByqRpiAM1sA7y2TQ40RdvbFK5a8k1aMeRDiYYNn11l2yhofSd6wcQIHkR3rH1E5wlqyLC3SMHuTHa/XO2c2QRyFe0y5JOoueEbWOqYhyPt5C53v+TSNrss96kW8BDYaPPPN7PAt8Fa3D/X/jQvNl+NSTzNomsZczX1wVamu4oByiy6y1tKfGZbxCptH8iQMEOxcsBE23NrYjx1eevGZLSJk3I+eyAU55iZ2trotIWVeDv1Ft3/mPYq+avVdbSGf+H8jY0lP6Sli7fZVrqmL1bnlsFIWYwsUkOkCV8JZdYyqVMCFimhf7oESRaqYTxFca8tKcu4uYPMRO2ZTFhVhfo/IXF0epFHjP/E+nVah2l8XeX9twyFwYIyLh6Y/UN0wlU9vZTqrJWo1cAAACDQZ4dRRUsK/8AABdMQ6+hOyQKGABYWdRHQNaO/YvSzzOCJX3RgeEXq1P1W++N572ct0znW+HevvdAypVUB3IJ8XROEm04U1pWTFY17gw/lQcPn/D91zTibjDJu4wS0tNGxEvDntPTdXYTTDTL7GnlvuiPVw0KWNOBEOAouaIcKy7LAtsAAABOAZ48dEJ/AAAiO36OWIxRkf18QgxwWb+qxPyabNJzvhVYmuPphjnQXlRKEER3KkqKiWv/a/nEuP0v1s4x/HGNEAAAAwLxDyZqgSX8IE3AAAAANAGePmpCfwAAJLHK7ou1tg0KXDNjgWkvLDKdxVPm1N6DGg22UMoczJ+rWpAGMbLmbxlgh4AAAAC3QZojSahBbJlMCG///oywAABIArFKrsHFXz82BSJkngD9h0kGYfAmOSASjNzvYGyElO+I7EMDCJRJJhnzOR/T0VBYgqbrtV0V6TprjM5Zf4jaYUBGQ4GuZCdWtidhHUECy44eghfm53nIPZwHDemk57MSAWuB3ts65FibuxDy4kHqSQ0tLVQJgf7qkYw+PAZJiX2lMdGgv9CXGhoiWqwMpV3V4komP3V7MPeFK+xosQeUJN9U7/YzAAAAV0GeQUUVLCv/AAAIq/IUEmR5LK3p2yCE0QncBrj24QJw3PKerIW284GE/8at8zFlwGGBhvuyzCfrodP6k8CfeGAV03DvAqTHj+vsgYVGUqwBRJGbWKoC4gAAADIBnmB0Qn8AACS4poq5LvDSux7biDIyp7ixgUwLxK+b9g7U0oqONHkEMwAD0A+0TssC4wAAACoBnmJqQn8AACSxzC4UV4p9k+i8n8gW5Tp+JkEhPlSVMoAAABYtMEqgpoAAAACfQZplSahBbJlMFEw3//6MsAAASALPnrbF2HogEI9SgsmzXOW7lvFZRl8X0aEHf5QG041hlAroTrZaploFf7STdOkI/iGkB49ox5Mx+9xN96Skr5uDpgoIKkX0Ft6alhy+QR1wB30KRi1cjFfY+yadNs7RopMZ2trtDWPPBKFyTp2fXht2wkHdeDdTkJXYigpI6Eav2VVDp0rHqih8ETvBAAAAPgGehGpCfwAAJLHMDVHfynjJCllFBbjTV84U9NQ+qUo+d9ykTQ818CGHaJGjZP9SJLROezkIWUr/ei/AoBXxAAAAbUGaiUnhClJlMCG//oywAABIELyGD1hYNnCnjQeeCTMR611ppwmspbrw4OuOU6DZ0xCa0+pOAAtFpfmkx/FvdJuVTATdf3BcjvGL3rLAV9qac2BC8KA7KN9404RLj0OUc91sSQwlgOfcx7TLCkkAAABYQZ6nRTRMK/8AABdFDweK8qwfTdPJE2Yzw1h8gg8/uss+il29chYlACWt47Uo2HUANkCF9MUo06juFIwIfeio2EUgTCCiwg+EpOcr7nwnHC2+wSlMVUA9IQAAADYBnsZ0Qn8AACSr+F22HgKvYvAmRuRrx1ifJNbVD+tRGrhoWKFwC/MBfMAAAAMAEVaGxGnqAekAAAA3AZ7IakJ/AAAN0jodIuu1Ll+q/MwoC7jEt78EkvLQzAnezgZBPVZqc74y/sAADswaZZCDUZYD0gAAAIlBms1JqEFomUwIb//+jLAAAEgCz1d/zn1t2OdB3s2ofcfaDTu9qvVvUEopBzJ3WWwl5a2h+iSSoQHlIi+JKaTLlRTPz84RictxkovNSjyzjrr7ryrg4inSRelVObJi6ye+xRBHGpanAzGE4UDnwdfoMNszY6fX5L54QdyCCFR+2zQevHBoMQThZQAAAFdBnutFESwr/wAAF0xDzMfMZWPZc8gARmq0wQFNCwsTRO4wa/IDHWFe0fSG8AoV9uTDqGDXN4ZTBrrNxygoMI/FCLDIp3Ey7g4XvjQAAAMAAE/F+58IEfAAAAA8AZ8KdEJ/AAANz09pmh26k/XBlexmVPU1TH5naGJW/lF7atB4/3z8cFmEC3RymAAAAwAAAwAGlJzyoB8wAAAANQGfDGpCfwAAJLHMDVCcC9kQOwV1uPCG1PsiLmXeFHqE02uG1ECGS72Zb6AAAAMB3NMYqgMbAAAAkkGbEUmoQWyZTAhv//6MsAAASBB2mDADmuHf9mVWXcl0Fjt6CMo4YuV9Hfu68esWlMmVd+pxaDc5heBRtr/6xkVad8zxbzfcW2GDmGVxbs9isX5BGOEgPcBjwDSUKetGGW1zo0q1Mla9Khjm0V66jdc+ar10/W5htWTutBWsFnbIXOGn0dow513vUTIPT69QRdVZAAAASkGfL0UVLCv/AAAXQ0dILSAnTDWLUx2lrQqPxpyX1p0PhKTQFE8Nmcfyil6RrGxn0diyAJ/yKSs5+QtdumJpqFoDRPrU2G4odWltAAAAPQGfTnRCfwAAJMMXYycvD44m2kmyQsurg4nfMuBsaMTMjiBn2bb7ZqAAB7Wg341fh8ge2w2ZWDqlIXLVQ5UAAAAtAZ9QakJ/AAAkxyvVaTmVzfAyNmBE42e/oQ8tnestXxE6drLAI62Z1Qjx01+zAAAAXEGbUkmoQWyZTAhv//6MsAAASBRbRSNvxLqB2FVhHOhLez8VnbxdprBFyfNmuVqv/ScusA1d8M/wHKqxUmkQvoNykdatPdp/Ujsn4Vb7+h+GTbwj3/KVx4i0ZXLdAAAAhkGbdknhClJlMCG//oywAABIJFTZ0zgBYUW+u+NHbudlkZJ28/YL0JNVFA7B+wYcln/zcEcajZ5Z1E2SKionoKAySPA5VpxCZQ0o0GBPcF+uLOtyizqhx+GoSBCHXKR2EkxXyFRrhM9Y5zBzTNuyD9aVOCG0rQNNeHhwh6b+Qy3lFH9m473tAAAAMEGflEU0TCv/AAAXSxY8bRO/RoNgJueiGSKgcxA3Wt+b8HATuTpwIx/51fVTMqhXkAAAACoBn7N0Qn8AACTAmR/PGy1yC6h9et2BKyPLTDtZ9WZI8ZGhGzBDcICwMTcAAAAuAZ+1akJ/AAAkvvU9/JaZncBbbh36UlyUmDbfU4AtmGYCHm1iyRb46R5UWsJXkAAAAL9Bm7pJqEFomUwIb//+jLAAAEgUUudhu4AblIjyQNg260F+Lo8o0xa7ox2oRAapy84/4QkD/7T7QD6QTfZ3STJcknDbNKU6SL4yd1Yu3xfPxjEequv/KbBUj2Q4TSxqt4G8XgqvorWTtseqrEb0PmO440iDnpWQ1vkucTy7e35zmGwylp8Uze4Ndy6hWjWxpLEioTudn2va/RTAtGMusYVGj8LfG1zkU9OU8OzFJZFVHbOQtiH3nrSnHOqfi/ub4QAAAGBBn9hFESwr/wAAFv9D7TgAtm9/zeH65jsZOAy40BimXO9BuTaUFh1raz8WF1DtMdCt2udH0P8cv/yBfO2ovM2XCfaXUSZNOhTP4iT01vdXOMLL74q6TOGyDoJwP9UL4bMAAAAzAZ/3dEJ/AAAkwNst8WaVoJ4Az29Q9jkugPgWe5lVEqLbhqzSsrytW00ozu3DxAtAv+pUAAAAOwGf+WpCfwAAJHkQHKw6AW4GbxdZKR7nkXLrrWCdOINNHVViGd9xZaA5f5C+xIndcS0sLtXzrOGt4GtnAAAApEGb/kmoQWyZTAhv//6MsAAASgFFJWks+tD4AT37lhY2AYO5+wbhEj1a4/cFhK01Z0i+cyO2QVaGVgDdDuoVF3qvtwOcgvv0+Bpf9aS+++6oV/goc6ie6PvGgpAgGMpEoi3r9xM4teKn4P8wZXBUK6/IenshWa/ii/ltJv1i8PqkuOdKIM6G6lj90oGC2DisxzqtzOndFBKzvZaLpmJCr9Xu9UOMAAAAWEGeHEUVLCv/AAAX3ysLVO1rFmsmNz5ErSUv7UeHDAqsAsZmF824fhem+UktItMHfJYDP+mSgAfpTPp6FE6eUumcNvoDve0SnJdCq8f1C+9n6bI1Ukq+KAUAAAAuAZ47dEJ/AAAlwwFiQmm1LTb0mI4B7R0x2xOhWzAmYnBI1IZJIAjMLnEJy4tUEQAAADMBnj1qQn8AACWuXtCzvSrvCaTDSoIEA7019bpRoaBJ9ak6kKe9/Ioe8KrB6qFtHO6bKiMAAACgQZoiSahBbJlMCG///oywAABKEKRmDACvl0IPwGg5HgxKMfxHHFc7aDTYK+CHINYVdvs3oUPPelQEkNKq7YZg145/zsrATsB1Okjh4AQshRyAetMEHymVI7rXqkNee3ZQpgOO2QPh7RLxZqGsxTN5W4Nuw15mXe/dacDlqyR093ZV0pJ17ULf+QOX3jTQuFl5ainypR5f3muC4FCDnC1jUAAAAENBnkBFFSwr/wAAF+he1IVKz6rRgIefKGRZGYmRasQmbWZ7aNquAj0zt52ixaJ2MZrEn1O4+PYyrKPL50l92vVbCBJhAAAAOAGef3RCfwAAJbehZTokPiZI6R3yw8U4Q4BwGz+DQ+Rxh3K3RftdZfQGMhK8rRnACYJJaCoE53OBAAAALwGeYWpCfwAAJb2Cp2j1yspwgZxe9EumjTmxNmTyMuccdTT3PtHCcEWyTPty7kWvAAAAsUGaZEmoQWyZTBRMN//+jLAAAEokNH2Z7iO/kYdroTC0HFV//kAVo0+bbl2y/kM4UcT8m6VlDZTOjYQaykNb421jxb6CbLBSwWHg9BhxfwyQ1zl56Rx82qQ8lctFiXvsAQ0yBDxFopyOPrZE29XsIE+HUF2tPXaLKN0ViGMm+K3lzp/BXxo4o8rXQUZwhD4EZNsVr/X8OnQ4KL9uIbXjwpjfSrJBvw/7BpiGJUJeElmqWAAAAD8BnoNqQn8AACW9gynrYdDxe3gwmjEsXBGC7SsLxSy0Y9lhxhfXvl0GNcH7r7mQ1cZ4CO0TQVzuG6lMMdItTIsAAACVQZqISeEKUmUwIb/+jLAAAEwHulvUIBkHehty4dwCKtvL66awX5sjE8StYVKDHkTvZxivXJwmmP0GeHtKSXEDBQQ5eYzwFHKHci6g4AHLf19NX0xYPKnyoo4N2jTXB2/uMqrxo03fXGbWNgTlWYmeWbtwuH6Bl617duboadCGOaVw9ohs4YbXAFC/CRFPCEj2KcMWp2EAAABWQZ6mRTRMK/8AABiJc7x6PhCjI6rqGEaBM+opPJjGdP2rSMIWdknpBbG9TcE76OEcACqnAAB9Se4vEv8Ws11uvilNnWQ6nMO6AA7+qOYNYyoDFBXv1IEAAABNAZ7FdEJ/AAAlhE+k4R5DYbSnRh+vUKUNJSACUMksAPziG6eZ1sKCZYnrAjF4e+6JhXtdcSLCSZHFKg/poAJxoSboImLXy+zujC6IyLEAAAA9AZ7HakJ/AAAmvwIHQrAW46BLow4mgVaoRSvBPO+xs5cm7fmJR7SGCsUi1NstM1dmO/68ACW09ZldSRx7XgAAAPJBmsxJqEFomUwIb//+jLAAAEx+Jyc8qx2QSgJyAUCwpQKT37wgd2ASlO5WBQzj6ETjLGFoPN9Rx/0/ccIGiUavn/dGtcXkMSsaiV/p7ryubMGnfnN/sLiC5Fq6zpCqL2vo8jT3hIdhoJEB2o/1WAk9Z6siW+QPcFpZU1SotAGRmDlczezmPXMG5MQ3Dbz15/8uGbw6uqRM2iI/4bkvnsrtwRZQhnJ2DTeU+22zoeRbYyncX8IFiX4+RvJ/sbVTGrBXekpXG/aCpbDFUrXelHB2+3MZShJk+Laa9rDLl+mEzdAsKZ/ukAol1lnWJcZ+qD7T2QAAAD9BnupFESwr/wAAGIJrsiernyABa5v3WkgpNtQvqJJfV1OOqkg2eP5v8q9DTZl4XRB/COEN3DqN+jkMNZKC+2EAAABOAZ8JdEJ/AAAmwNsUCSmKcCI4sGDyQALlC5wm7rHLxmvcqDXXivXc3GVOO+I29rdl/Q1YMCgR4iNXOrLawkORqtLs5zyxZZoCv277Aq2YAAAAKAGfC2pCfwAAI7nBhXFgA4sJ6i9B9NodrzNEzGrigZ+kRvM3v+rShcAAAADRQZsQSahBbJlMCG///oywAABGAxdvjni2YAdAzF8BzL+6If1cHpYab5Jcf7eT0yS76ruMwue4cYzZf6rjLDhSW5lFQTToC+a5v4HVUZo3CQ9k7XPRd4lOAmjsvb+rpj40EGx3H+MbTOOoNgvyXjaYgVCjtGBuan8wIgE1iQKnVABOGyuG5DSQ90jHTUKGBbCmYctN0KV5x+pZjpv6yZP7W7nqgAuWfYiacDEZlRl6705Mf928k5T2s3bhkTT09QVka7XrfsRfGH3LnBYStWBBhhEAAAA6QZ8uRRUsK/8AABazK7WJEABxZEoH5GMSbzh8Z7Br80wbgubOF/Fb6lh/bgPmnjkIgp7dCryWQdsvgwAAACQBn010Qn8AACPDF1KEXY2nYAUx10rkB5Yq4dDEuQzfGdij8+EAAAAwAZ9PakJ/AAAjvu1D5W2ZQ2QIgia9FmEPy1MAH30GvKbAUCr/QxAc25JQCCwmUqowAAAAjUGbVEmoQWyZTAhn//44QAAAZxD85vKiAImAwyAk8LkAriK/GURfYpWxSE/4aXntDK8dioZuSkpI3c8TUfddd8JtXTncbYCSXvUD7ONykIwxGTf/yDkKUReYiz/UTW/B7J6q2ReO+zczEIGbl5erW0wuvEaWJ9XJmpiy0yzdoRcOzssTQOHa4ZZ2hb1uDwAAADJBn3JFFSwr/wAACGv1f8c18yCYsfqqKyG6KiHd4uyzbANOboa4fnl5QtuZ7YgnqJeOSQAAACkBn5F0Qn8AAA1/T2ln98UBanG2aiX8Oqgx5jwRKrM+ShvYlODNEzwgIAAAADEBn5NqQn8AACOq3lkxTiWZJrVcDwMviZwUak0ADaAFVcylVLYT7hXWfd73fz74ZRxwAAAAZEGblUmoQWyZTAhn//44QAABDOyZYAWG6W01siKMsB9KeDj1YMF6YvozTMxIowVZyr+IGD6zCII/AusZUM45JKhZ87HOOSro+LyY64PRw4uSLA/y0GnmbVDAhuKTbdwUk23258EAAABwQZu2SeEKUmUwIb/+jLAAAEYDF2+OeB6AFgn8kvJG/ja9O+AGsOep3+pVQsQZmF+GT7N5ZHT7HhDWLhWLHpUHawN5NGZaR4+pcy0hRCJ1H5LWmoAEunX2S/ZEJ9Yhf7CaHO67e2HWti9ytBLHRBttmAAAANVBm9lJ4Q6JlMCG//6MsAAARhRRDmtpY58QAWoYyg0jap7kawD9vyQy4y39QGlP64e6aMxdhGCXhQ7BSE6GCi6VMZB9hkA5w8iCkWqVESZ7TJI+2A5B4KPaD2VIsEuhXXVyEGAQxqkEF6XjfERE8rz1PRKe1qWReLGrltjQ2g+WlqFdD8o+l2kdNPQJTVluBUhaknpsXBSjz8AAK/w6MJWvQSdus+iQyR9JIFccK5axi/GZ56S5yyakPkC+igcuEMXrSL8ZjPXQFk/woI8mD24YgjbbJgcAAAA9QZ/3RRE8K/8AABa94BmmmFNUUy0VfzWkyiKxxIMBKqDfU7LtBdI63FK/Hnj+/Y3Vy5aYmdhc3IlGzjDNmQAAAEoBnhhqQn8AACNLRj464C/J8QAch60asz5Cl7rnpWXRwnSWLp+X3TdWyVLFcXjnXU54R38PxJcAD74fczA+feHfZPlLGsVuvf88mAAAAMZBmhxJqEFomUwIb//+jLAAAEQA/w5cgBGF2J4QrWfDR5Qh03pBt7pl7fm0FIYcnI7Gsyd2hG9wTmRErN+swSdWwgV7f8p4bYQcn6IwPnkvvvV+QdDfiUASxFvZN4CHvJEciKAYUW/IFQceLI4N0NV31A2+XusZJyEXx5P4atMzs0o7H66KsWcgK6Pa9eVDkDlP5rBdv8IeAN6yh+qPrbIT9YEQlHr9UMtkMli2DimdCU7SomHxdy7T2t0iOZQ5fJTRqdeWVeUAAAB2QZ46RREsK/8AABYh3ZBRroxyTgPvt1V3QF9x1Iha+AZf74zDAEO3aS15eKg9i99FtsBnwGJiLqt2KK4Lwk+OU7KkABOV2Jn37DoNmjKV1l/sesJawUqyMIGiBYM2GFct7EdUDVOAIE6zsZH9c+O1pmeRGF1SMAAAAGEBnltqQn8AACKfzD/vRVDZSoU8JdT+gx8Jcdz8e+EHbTenWYBdVrRJ1aBR48RBMmoJmUOIaKD8VB8IvcWadABOqHBzNZqQejiow8MSuJOkMypRsjbJc0c292Rs2dzUSjPlAAABEEGaQEmoQWyZTAhv//6MsAAARfPkAXyiP7ggA49N/IuC60HqR13MvJ82r0zoU2U3um4dJCSWbQXZyPCE48OAWHxQ53XGEEwClZq7DOR4uhQY06dxG+3n0WDOLnHpEa9VuDyllHCvbL/5CnLy3/owJr0sg1ruofFd7uz+Imzotd3hc1lOjbczq7GFCvamqcC9+7crfNaax1lfo2xeLGLD4UE4RW8YBGW3HTrkvlJ0d4n1w0w1H6MviC7MykH/QNyTGQFJ9tmfB/CRofX6n1l7RW/GkgIQ2Y689HaRVmiO2acBzRl/txWCRHQJxecx4rvqM2/pCEdu7fwh2HTmZQRoyrZRymMOdWdw+qFNsDE8o5OLAAAAnkGefkUVLCv/AAAWd2CvmlaxvlMOtQdEJEvil7oAJAAfguaXgkvwqsQ2Jm9TRHE8VoJZwfLGHR38NFfksllk2AeDH3b4vBm+8CGAcdplpA1KZNr0QNTCy4vslM4n6vBQiHSsga9XKjq5D2DymOg7ccQjwbfWCOziWWdj7K23K0GnGuZ4GUAA5uYVKiLI8mQXJH2+3XSsv8tZXbrRbuAQAAAAQgGenXRCfwAAJMLv/TAGx3YmKmktRDde/yHUmUGVG39Ds2AW2KAxZRBl3BJLyLqhR/nOSTsHZ4ASVZkYW9bfaPHV2AAAAC0Bnp9qQn8AACOxy1gadXWdzBuWsCSuTaXmy7dmOqBYey+UUO/5VEI4rTOyYEEAAACpQZqESahBbJlMCGf//jhAAAEU9o7UwQ9MetMvrAECykozYUhQIdetA0T6hskVLPvtLpdVB+T51NbHqM9J5fvipnDsUUXaYFZkYwgAvqDb3/t8IQChiaNbxjRyUDjE6rrvHLih9r7YWmsWVwN8IWsOKwQsU6cEs9dz4F4fpg1FRpJwBs/s8v30w8DZiJHndrEDCYhiCCc5rBdun65Aw+nTMtmuM0tmuzhWPAAAAGtBnqJFFSwr/wAAF06kqwe97261+Z6925Y6I7oArUom5RSgjFJradyzCK+3ArDJ5Cc0KwCQvt8tHPUG38dvsswziI6il9FNyLkGcSN8vh8NfKFr8cAwaWaxXacgE/uKK85Vdz5bDSft6ltUYQAAADcBnsF0Qn8AAA1/SCXKAEl5nQX69qjJLsSV6iw4EEu4Stcq+ya6WjKBlSUcWMmuMjSjtBn1JXb/AAAAUQGew2pCfwAAJK6D1fGX96+qoB7QbnmKqbxweofTk1YlLa0bhwXGX4E7gDAMmE1IuMfId6Mdf+dq6r3u0HGWMSjNSPVAfIzSN+TOEGAxPN7JgQAAAOFBmshJqEFsmUwIX//98QAAAwKw7YcuIAFBtRBlVUPYzfYZr7D2+nOOdIEAV0OlOU4+tHiqx3UJSORqgF5cX1vohZ3RohIG+hdCvcalwbbXioAS0nJSl/hzmd8AIFq9ijl/7NKVvUZXmKoIjKGs2Jgw3jOSQ6gChUw9Ugem9EViRcSuDLIRCZGnGLkDhDuZH6NRDMwWbse00AEG7pcbFljGHBsEAjhDo+BBv/xO2roAectfIUYKXxZoQPxiapLhdZUCBC8PWBfSD5ienKAlsZAAd0Lg2XvQ2ur4STYzd81VjOUAAAB0QZ7mRRUsK/8AABdDXo/nbAT5NQiSU8T2SzyMhhgAfuY6qwziTlGVg50AQCfBbKH3i/NV6U6rBt1Nh6F43BsXHqv61DX69Wl44vwfw2RbezKYBYDzKGHNvkoNSI3dDhD/pMPbXNWb+wPQuOr2joSIYo6dgm0AAABQAZ8FdEJ/AAAkqelHabzFShB+UvSeUAJL19ldw+D9k/YIk7cGaVdh45XTwCgKH8aN28UyqhfvtAabXV2dkCem359L9K1jR+3T5Y7Ccx5pHhEAAABLAZ8HakJ/AAAkt5eYAravpPPMv+dumsHBfCaNEMCZLr5F8XXZRQgVcA6WW3yXeDVdmYEq/mP39eihDXFavxJwyt+inun3kmN9smLAAAAAaUGbC0moQWyZTAhP//yEAAAP2Fi4N3owIvM48keSRC20JkgDSDfs1zVR29voQc4Jt3zmRRc8KRiSY+OauqIldCZUkrCaAGu+Nx3zaneiDvsrgNjiUYgAh9zT9cmGgGREWWOXglpLqKbV4AAAAFBBnylFFSwr/wAAFr5giyEa6w/TFTrj2WTRC7lKk0z/p9qj5aJap8lxD8DNL3wKTh91F+wLHIEgAjUBLn7pBSPFqro+pcV1IOKTyKyHngLgsQAAACsBn0pqQn8AACOudmkWa+Ae8/1fgjIIq/S/EttdPrMp5P1bqbGAR7GDid8wAAAIAW1vb3YAAABsbXZoZAAAAAAAAAAAAAAAAAAAA+gAAA4QAAEAAAEAAAAAAAAAAAAAAAABAAAAAAAAAAAAAAAAAAAAAQAAAAAAAAAAAAAAAAAAQAAAAAAAAAAAAAAAAAAAAAAAAAAAAAAAAAAAAAAAAAIAAAcrdHJhawAAAFx0a2hkAAAAAwAAAAAAAAAAAAAAAQAAAAAAAA4QAAAAAAAAAAAAAAAAAAAAAAABAAAAAAAAAAAAAAAAAAAAAQAAAAAAAAAAAAAAAAAAQAAAAAJgAAABkAAAAAAAJGVkdHMAAAAcZWxzdAAAAAAAAAABAAAOEAAABAAAAQAAAAAGo21kaWEAAAAgbWRoZAAAAAAAAAAAAAAAAAAAPAAAANgAVcQAAAAAAC1oZGxyAAAAAAAAAAB2aWRlAAAAAAAAAAAAAAAAVmlkZW9IYW5kbGVyAAAABk5taW5mAAAAFHZtaGQAAAABAAAAAAAAAAAAAAAkZGluZgAAABxkcmVmAAAAAAAAAAEAAAAMdXJsIAAAAAEAAAYOc3RibAAAAJZzdHNkAAAAAAAAAAEAAACGYXZjMQAAAAAAAAABAAAAAAAAAAAAAAAAAAAAAAJgAZAASAAAAEgAAAAAAAAAAQAAAAAAAAAAAAAAAAAAAAAAAAAAAAAAAAAAAAAAAAAAABj//wAAADBhdmNDAWQAHv/hABhnZAAerNlAmDOhAAADAAEAAAMAPA8WLZYBAAVo6+csiwAAABhzdHRzAAAAAAAAAAEAAABsAAACAAAAABRzdHNzAAAAAAAAAAEAAAABAAADUGN0dHMAAAAAAAAAaAAAAAEAAAQAAAAAAQAACgAAAAABAAAEAAAAAAEAAAAAAAAAAQAAAgAAAAABAAAKAAAAAAEAAAQAAAAAAQAAAAAAAAABAAACAAAAAAEAAAoAAAAAAQAABAAAAAABAAAAAAAAAAEAAAIAAAAAAQAABgAAAAABAAACAAAAAAEAAAQAAAAAAQAACgAAAAABAAAEAAAAAAEAAAAAAAAAAQAAAgAAAAABAAAKAAAAAAEAAAQAAAAAAQAAAAAAAAABAAACAAAAAAEAAAoAAAAAAQAABAAAAAABAAAAAAAAAAEAAAIAAAAAAQAACgAAAAABAAAEAAAAAAEAAAAAAAAAAQAAAgAAAAABAAAKAAAAAAEAAAQAAAAAAQAAAAAAAAABAAACAAAAAAEAAAYAAAAAAQAAAgAAAAABAAAKAAAAAAEAAAQAAAAAAQAAAAAAAAABAAACAAAAAAEAAAoAAAAAAQAABAAAAAABAAAAAAAAAAEAAAIAAAAAAQAACgAAAAABAAAEAAAAAAEAAAAAAAAAAQAAAgAAAAABAAAEAAAAAAEAAAoAAAAAAQAABAAAAAABAAAAAAAAAAEAAAIAAAAAAQAACgAAAAABAAAEAAAAAAEAAAAAAAAAAQAAAgAAAAABAAAKAAAAAAEAAAQAAAAAAQAAAAAAAAABAAACAAAAAAEAAAoAAAAAAQAABAAAAAABAAAAAAAAAAEAAAIAAAAAAQAABgAAAAABAAACAAAAAAEAAAoAAAAAAQAABAAAAAABAAAAAAAAAAEAAAIAAAAAAQAACgAAAAABAAAEAAAAAAEAAAAAAAAAAQAAAgAAAAABAAAKAAAAAAEAAAQAAAAAAQAAAAAAAAABAAACAAAAAAEAAAoAAAAAAQAABAAAAAABAAAAAAAAAAEAAAIAAAAAAgAABAAAAAABAAAIAAAAAAIAAAIAAAAAAQAACAAAAAACAAACAAAAAAEAAAoAAAAAAQAABAAAAAABAAAAAAAAAAEAAAIAAAAAAQAACgAAAAABAAAEAAAAAAEAAAAAAAAAAQAAAgAAAAABAAAKAAAAAAEAAAQAAAAAAQAAAAAAAAABAAACAAAAAAEAAAgAAAAAAgAAAgAAAAAcc3RzYwAAAAAAAAABAAAAAQAAAGwAAAABAAABxHN0c3oAAAAAAAAAAAAAAGwAAAS3AAABBgAAAFwAAABKAAAASwAAATwAAABiAAAAPAAAAFMAAAD3AAAAaAAAAE8AAABsAAAAuQAAAE0AAACPAAAAzwAAALMAAAB0AAAAOgAAAL8AAABtAAAAUAAAAEsAAAEXAAAAhAAAAFwAAABbAAABPwAAAIcAAABSAAAAOAAAALsAAABbAAAANgAAAC4AAACjAAAAQgAAAHEAAABcAAAAOgAAADsAAACNAAAAWwAAAEAAAAA5AAAAlgAAAE4AAABBAAAAMQAAAGAAAACKAAAANAAAAC4AAAAyAAAAwwAAAGQAAAA3AAAAPwAAAKgAAABcAAAAMgAAADcAAACkAAAARwAAADwAAAAzAAAAtQAAAEMAAACZAAAAWgAAAFEAAABBAAAA9gAAAEMAAABSAAAALAAAANUAAAA+AAAAKAAAADQAAACRAAAANgAAAC0AAAA1AAAAaAAAAHQAAADZAAAAQQAAAE4AAADKAAAAegAAAGUAAAEUAAAAogAAAEYAAAAxAAAArQAAAG8AAAA7AAAAVQAAAOUAAAB4AAAAVAAAAE8AAABtAAAAVAAAAC8AAAAUc3RjbwAAAAAAAAABAAAAMAAAAGJ1ZHRhAAAAWm1ldGEAAAAAAAAAIWhkbHIAAAAAAAAAAG1kaXJhcHBsAAAAAAAAAAAAAAAALWlsc3QAAAAlqXRvbwAAAB1kYXRhAAAAAQAAAABMYXZmNTcuODMuMTAw\" type=\"video/mp4\">\n",
       "  Your browser does not support the video tag.\n",
       "  </video>"
      ],
      "text/plain": [
       "<IPython.core.display.HTML object>"
      ]
     },
     "execution_count": 34,
     "metadata": {},
     "output_type": "execute_result"
    }
   ],
   "source": [
    "create_policy_eval_video(random_policy, \"random-agent\")"
   ]
  },
  {
   "cell_type": "code",
   "execution_count": null,
   "metadata": {
    "id": "dkpKFGoQmJgk"
   },
   "outputs": [],
   "source": []
  }
 ],
 "metadata": {
  "accelerator": "GPU",
  "colab": {
   "collapsed_sections": [],
   "name": "100_tfAgent_DQN_Tutorial.ipynb",
   "provenance": []
  },
  "kernelspec": {
   "display_name": "Python 3",
   "language": "python",
   "name": "python3"
  },
  "language_info": {
   "codemirror_mode": {
    "name": "ipython",
    "version": 3
   },
   "file_extension": ".py",
   "mimetype": "text/x-python",
   "name": "python",
   "nbconvert_exporter": "python",
   "pygments_lexer": "ipython3",
   "version": "3.7.10"
  },
  "pycharm": {
   "stem_cell": {
    "cell_type": "raw",
    "metadata": {
     "collapsed": false
    },
    "source": []
   }
  }
 },
 "nbformat": 4,
 "nbformat_minor": 1
}
