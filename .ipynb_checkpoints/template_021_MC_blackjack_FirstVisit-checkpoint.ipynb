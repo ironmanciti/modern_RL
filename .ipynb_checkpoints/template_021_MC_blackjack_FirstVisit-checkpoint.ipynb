{
 "cells": [
  {
   "cell_type": "markdown",
   "id": "dc9727b0",
   "metadata": {
    "id": "7217dace"
   },
   "source": [
    "# 021_MC_blackjack_FirstVisit\n",
    "## Suntton p.92 First-Visit MC predictions, for estimating V ~ v_pi\n",
    "<img src=\"https://miro.medium.com/max/1400/1*ILNp-qVAAohsOE2_rpWE2A.png\" width=600/>\n",
    "\n",
    "## 주어진 Policy를 평가하기 위한 알고리즘\n",
    "\n",
    "### card 조합에 따른 State Value estimate\n",
    "\n",
    "First-Visit MC Algorithm 을 이용하여 Blackjack game 의 모든 State Value 계산\n",
    "\n",
    "- Input : 평가 대상인 policy 𝜋\n",
    "\n",
    "- Random value 로 V 생성하고, 모든 state 에 대한 return 을 저장할 empty Returns[S] list 생성\n",
    "\n",
    "- Policy 를 이용하여 episode 생성\n",
    "\n",
    "- 에피소드 각 state 마다 first state 부터 이전 state ($𝑆_{𝑡−1}$) 까지의 return 을 더한다.\n",
    "\n",
    "- 합한 return 을 평균하여 value 평가를 한다."
   ]
  },
  {
   "cell_type": "code",
   "execution_count": null,
   "id": "77558478",
   "metadata": {},
   "outputs": [],
   "source": [
    "# Input: a policy pi to be evaluated\n",
    "def pi(state):\n",
    "    # state : (player card sum, dealer open card, usable_ace 보유) ex) (6, 1, False)\n",
    "    # player card 가 stick_threshold 이상이면 무조건 stick 하고\n",
    "    # else 이면 hit 하는 전략\n",
    "    #0:stick, 1:hit\n",
    "    \n",
    "\n",
    "# Initialize V(s)\n",
    "# Returns(s) <- empty list for all s\n",
    "\n",
    "\n",
    "# Loop forever(for each episode)\n",
    "for i in range(num_episodes):\n",
    "    \n",
    "    #Generate an episode following pi: S0,A0,R1,S1,A1,R2,..ST-1,AT-1,RT\n",
    "    episode = []\n",
    "    s = env.reset() # s: (sum_hand(player), dealer open card, usable_ace 보유)\n",
    "    while True:\n",
    "        \n",
    "        \n",
    "    #G <- 0\n",
    "    \n",
    "    #Loop for each step of spisode: t=T-1,T-2,...,0\n",
    "    for s, a, r in episode[::-1]:\n",
    "        #G <- gamma*G + R_(t+1)\n",
    "        \n",
    "        #Unless S_t appears in S_0, S_1,...S_(t-1):          \n",
    "        \n",
    "            #Append G to Returns(S_t)\n",
    "            \n",
    "            #V(S_t) <- average(Returns(S_t))\n",
    "            \n",
    "            \n",
    "    if i % 5000 == 0:\n",
    "        print(f\"episode {i} completed...\") "
   ]
  },
  {
   "cell_type": "markdown",
   "id": "517f7421",
   "metadata": {
    "id": "O0ivUkKQhClc"
   },
   "source": [
    "## Blackjack state value 시각화\n",
    "- np.meshgrid : 1차원 좌표 array 에서 N 차원 직사각형 격자 생성  \n",
    "- np.dstack : 2 차원 array를 3차원 array 로 stacking. (M, N) → (M, N, 1) 변환 후 3rd axis 를 depth-wise stack  \n",
    "- np.apply_along_axis : 주어진 축을 따라 1차원 슬라이스에 함수를 적용"
   ]
  }
 ],
 "metadata": {
  "colab": {
   "name": "021_MC_blackjack_FirstVisit.ipynb",
   "provenance": []
  },
  "kernelspec": {
   "display_name": "Python 3 (ipykernel)",
   "language": "python",
   "name": "python3"
  },
  "language_info": {
   "codemirror_mode": {
    "name": "ipython",
    "version": 3
   },
   "file_extension": ".py",
   "mimetype": "text/x-python",
   "name": "python",
   "nbconvert_exporter": "python",
   "pygments_lexer": "ipython3",
   "version": "3.8.12"
  }
 },
 "nbformat": 4,
 "nbformat_minor": 5
}
