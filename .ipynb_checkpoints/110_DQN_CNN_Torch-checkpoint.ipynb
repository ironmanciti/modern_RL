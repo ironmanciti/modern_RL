{
 "cells": [
  {
   "cell_type": "markdown",
   "metadata": {
    "id": "SLb5a6n24B1k"
   },
   "source": [
    "# CNN (DQN)  - Pytorch Tutorial\n",
    "\n",
    "- Human-level control through deep reinforcement learning (2015, DeepMind) 알고리즘 구현\n",
    "\n",
    "\n",
    "- PyTorch를 사용하여 OpenAI Gym의 CartPole-v0 작업에서 Deep Q Learning (DQN) 에이전트를 훈련\n",
    "\n",
    "<img src=https://pytorch.org/tutorials/_images/cartpole.gif width=\"200\">\n",
    "\n",
    "- CartPole task는 에이전트에 대한 입력이 environment state (position, velocity 등)를 나타내는 4 개의 실수 값 vector 가 되도록 설계되어 있으나 **신경망은 순전히 장면을 보는 것만으로 task를 해결할 수 있으므로 카트 중앙에있는 화면 패치를 입력으로 사용 하여 사람이 이미지를 보면서 게임 하듯 훈련**  \n",
    "\n",
    "\n",
    "- CNN 을 이용한 결과는 gym environment 의 state vector 값을 사용한 leaderboard 결과와 직접 비교할 수 없고 이 작업이 훨씬 더 어려움.   \n",
    "\n",
    "- 다만, 모든 프레임을 렌더링해야하므로 훈련 속도가 느려진다.\n",
    "\n",
    "\n",
    "**image 를 통한 pole 의 속도 파악은 현재 화면 패치와 이전 화면 패치의 image 차이로 state를 표시** "
   ]
  },
  {
   "cell_type": "code",
   "execution_count": 22,
   "metadata": {
    "colab": {
     "base_uri": "https://localhost:8080/"
    },
    "id": "aUDuuPXv5GFr",
    "outputId": "bce981e2-a1bc-4d8e-a4b5-68e8524ef24f"
   },
   "outputs": [
    {
     "name": "stdout",
     "output_type": "stream",
     "text": [
      "Hit:1 https://cloud.r-project.org/bin/linux/ubuntu bionic-cran40/ InRelease\n",
      "Ign:2 https://developer.download.nvidia.com/compute/cuda/repos/ubuntu1804/x86_64  InRelease\n",
      "Ign:3 https://developer.download.nvidia.com/compute/machine-learning/repos/ubuntu1804/x86_64  InRelease\n",
      "Hit:4 https://developer.download.nvidia.com/compute/cuda/repos/ubuntu1804/x86_64  Release\n",
      "Hit:5 https://developer.download.nvidia.com/compute/machine-learning/repos/ubuntu1804/x86_64  Release\n",
      "Hit:6 http://ppa.launchpad.net/c2d4u.team/c2d4u4.0+/ubuntu bionic InRelease\n",
      "Hit:7 http://security.ubuntu.com/ubuntu bionic-security InRelease\n",
      "Hit:9 http://archive.ubuntu.com/ubuntu bionic InRelease\n",
      "Hit:11 http://archive.ubuntu.com/ubuntu bionic-updates InRelease\n",
      "Hit:12 http://ppa.launchpad.net/cran/libgit2/ubuntu bionic InRelease\n",
      "Hit:13 http://archive.ubuntu.com/ubuntu bionic-backports InRelease\n",
      "Hit:14 http://ppa.launchpad.net/deadsnakes/ppa/ubuntu bionic InRelease\n",
      "Hit:15 http://ppa.launchpad.net/graphics-drivers/ppa/ubuntu bionic InRelease\n",
      "Reading package lists...\n",
      "Reading package lists...\n",
      "Building dependency tree...\n",
      "Reading state information...\n",
      "x11-utils is already the newest version (7.7+3build1).\n",
      "xvfb is already the newest version (2:1.19.6-1ubuntu4.10).\n",
      "0 upgraded, 0 newly installed, 0 to remove and 99 not upgraded.\n"
     ]
    }
   ],
   "source": [
    "%%bash\n",
    "# install required system dependencies\n",
    "apt-get update \n",
    "apt-get install -y xvfb x11-utils\n",
    "# install required python dependencies (might need to install additional gym extras depending)\n",
    "pip install -q gym[box2d]==0.17.* pyvirtualdisplay==0.2.* PyOpenGL==3.1.* PyOpenGL-accelerate==3.1.*"
   ]
  },
  {
   "cell_type": "code",
   "execution_count": 23,
   "metadata": {
    "colab": {
     "base_uri": "https://localhost:8080/"
    },
    "id": "opMWrgZntuho",
    "outputId": "a717c18b-c243-49d4-d452-055966be174f"
   },
   "outputs": [
    {
     "name": "stdout",
     "output_type": "stream",
     "text": [
      "Drive already mounted at /content/gdrive/; to attempt to forcibly remount, call drive.mount(\"/content/gdrive/\", force_remount=True).\n"
     ]
    }
   ],
   "source": [
    "from google.colab import drive \n",
    "\n",
    "drive.mount('/content/gdrive/')"
   ]
  },
  {
   "cell_type": "code",
   "execution_count": null,
   "metadata": {
    "id": "leq1TBVR5UPL"
   },
   "outputs": [],
   "source": [
    "import pyvirtualdisplay\n",
    "_display = pyvirtualdisplay.Display(visible=False,  # use False with Xvfb\n",
    "                                    size=(1400, 900))\n",
    "_ = _display.start()"
   ]
  },
  {
   "cell_type": "code",
   "execution_count": null,
   "metadata": {
    "colab": {
     "base_uri": "https://localhost:8080/"
    },
    "id": "t01runeN4B1m",
    "outputId": "9c37a77f-a76a-4a3e-f53e-0a72da819d19"
   },
   "outputs": [],
   "source": [
    "import gym\n",
    "import math\n",
    "import random\n",
    "import numpy as np\n",
    "import matplotlib.pyplot as plt\n",
    "from IPython import display\n",
    "from itertools import count\n",
    "from collections import namedtuple\n",
    "from PIL import Image\n",
    "%matplotlib inline\n",
    "\n",
    "import torch\n",
    "import torch.nn as nn\n",
    "import torch.optim as optim\n",
    "import torch.nn.functional as F\n",
    "import torchvision.transforms as T\n",
    "\n",
    "# if gpu is to be used\n",
    "device = torch.device(\"cuda\" if torch.cuda.is_available() else \"cpu\")\n",
    "device"
   ]
  },
  {
   "cell_type": "code",
   "execution_count": null,
   "metadata": {
    "colab": {
     "base_uri": "https://localhost:8080/"
    },
    "id": "H1NZoN0n4emN",
    "outputId": "276a057c-92d9-4392-8bda-038ae7824955"
   },
   "outputs": [],
   "source": [
    "env = gym.make('CartPole-v0')\n",
    "\n",
    "env.reset()"
   ]
  },
  {
   "cell_type": "code",
   "execution_count": null,
   "metadata": {
    "colab": {
     "base_uri": "https://localhost:8080/",
     "height": 269
    },
    "id": "urDGXiLv4B1n",
    "outputId": "0273a581-731a-4750-a59e-d72cfff4f66c"
   },
   "outputs": [],
   "source": [
    "env.reset()\n",
    "plt.figure(figsize=(6, 4))\n",
    "screen = env.render(mode='rgb_array')\n",
    "img = plt.imshow(screen)                   # only call this once\n",
    "\n",
    "for _ in range(50):\n",
    "    img.set_data(env.render(mode='rgb_array')) # just update the data\n",
    "    display.display(plt.gcf())\n",
    "    display.clear_output(wait=True)\n",
    "    action = env.action_space.sample()\n",
    "    env.step(action)\n",
    "    \n",
    "env.close()"
   ]
  },
  {
   "cell_type": "code",
   "execution_count": 28,
   "metadata": {
    "colab": {
     "base_uri": "https://localhost:8080/"
    },
    "id": "N-CuVy0K4B1o",
    "outputId": "8439c3c7-d0e7-4c87-c7a6-7f33e1572abf"
   },
   "outputs": [
    {
     "data": {
      "text/plain": [
       "(400, 600, 3)"
      ]
     },
     "execution_count": 28,
     "metadata": {},
     "output_type": "execute_result"
    }
   ],
   "source": [
    "screen.shape"
   ]
  },
  {
   "cell_type": "markdown",
   "metadata": {
    "id": "DF431Pz34B1o"
   },
   "source": [
    "Replay Memory\n",
    "-------------\n",
    "\n",
    "-  ``Transition`` - environment의 single transition을 저장하는 named tuple. (state, action) 쌍을 (next_state, reward) 결과에 mapping하며, 여기서 state 는 screen difference image 이다."
   ]
  },
  {
   "cell_type": "code",
   "execution_count": 34,
   "metadata": {
    "id": "iopv5s9j4B1o"
   },
   "outputs": [],
   "source": [
    "Transition = namedtuple('Transition', ('state', 'action', 'next_state', 'reward'))\n",
    "\n",
    "class ReplayMemory:\n",
    "\n",
    "    def __init__(self, capacity):\n",
    "        self.capacity = capacity\n",
    "        self.memory = []\n",
    "        self.position = 0\n",
    "\n",
    "    def push(self, *args):\n",
    "        if len(self.memory) < self.capacity:\n",
    "            self.memory.append(None)\n",
    "        self.memory[self.position] = Transition(*args)\n",
    "        self.position = (self.position + 1) % self.capacity\n",
    "\n",
    "    def sample(self, batch_size):\n",
    "        return random.sample(self.memory, batch_size)\n",
    "\n",
    "    def __len__(self):\n",
    "        return len(self.memory)"
   ]
  },
  {
   "cell_type": "markdown",
   "metadata": {
    "id": "ey-spaoU4B1p"
   },
   "source": [
    "## Q-network\n",
    "\n",
    "\n",
    "- CNN 모델은 현재와 이전 스크린 패치의 차이를 입력으로 받아들이는 컨볼루션 신경망이 될 것  \n",
    "- 이 신경망은 $Q(s, \\mathrm{left})$  및 $Q(s, \\mathrm{right})$  (여기서 $s$는 네트워크에 대한 입력)을 나타내는 두 개의 출력을 가진다. \n",
    "- 결과적으로 네트워크는 현재 입력이 주어진 경우 각 action을 취할 때의 *expected return* 을 예측하게 된다."
   ]
  },
  {
   "cell_type": "code",
   "execution_count": 35,
   "metadata": {
    "id": "7ovNhFOG4B1p"
   },
   "outputs": [],
   "source": [
    "class DQN(nn.Module):\n",
    "\n",
    "    def __init__(self, h, w, outputs):\n",
    "        super(DQN, self).__init__()\n",
    "        self.conv1 = nn.Conv2d(3, 16, kernel_size=5, stride=2)\n",
    "        self.bn1 = nn.BatchNorm2d(16)\n",
    "        self.conv2 = nn.Conv2d(16, 32, kernel_size=5, stride=2)\n",
    "        self.bn2 = nn.BatchNorm2d(32)\n",
    "        self.conv3 = nn.Conv2d(32, 32, kernel_size=5, stride=2)\n",
    "        self.bn3 = nn.BatchNorm2d(32)\n",
    "\n",
    "        def conv2d_size_out(size, kernel_size = 5, stride = 2):\n",
    "            return (size - (kernel_size - 1) - 1) // stride  + 1\n",
    "        \n",
    "        convw = conv2d_size_out(conv2d_size_out(conv2d_size_out(w)))\n",
    "        convh = conv2d_size_out(conv2d_size_out(conv2d_size_out(h)))\n",
    "        linear_input_size = convw * convh * 32\n",
    "        \n",
    "        self.out = nn.Linear(linear_input_size, outputs)\n",
    "\n",
    "    def forward(self, x):\n",
    "        x = F.relu(self.bn1(self.conv1(x)))\n",
    "        x = F.relu(self.bn2(self.conv2(x)))\n",
    "        x = F.relu(self.bn3(self.conv3(x)))\n",
    "        x = x.view(x.size(0), -1)   # flatten\n",
    "        output = self.out(x)\n",
    "        return output"
   ]
  },
  {
   "cell_type": "markdown",
   "metadata": {
    "id": "argIx3ep4B1q"
   },
   "source": [
    "### Input extraction\n",
    "\n",
    "- 아래 코드는 environment에서 렌더링 된 이미지를 추출하고 처리하기위한 utility이다.   \n",
    "- 이미지 변환을 쉽게 구성할 수있는 torchvision 패키지를 사용한다.   \n",
    "- 셀을 실행하면 추출한 example patch를 표시.  \n",
    "- cubic interpolation : 인접한 4 개의 화소값으로 계산   \n",
    "- gym 은 400x600x3 이상 800x1200x3 까지의 image를 rendering. \n",
    "- Angle at which to fail the episode : env.x_threshold = 2.4 (좌우 2.4 radian)\n",
    "- env.state[0] - 위치 (-2.4 ~ 2.4)\n",
    "- env.state[0] * scale + screen_width / 2.0  \n",
    "\n",
    "\n",
    "- rendering된 screen shape은 400x600x3 이나 때로는 800x1200x3 과 같이 더 클 수 있음.   \n",
    "\n",
    "\n",
    "- Cart는 중앙 아래에 있으므로 screen의 위, 아래를 잘라서 이미지가 중앙에 오도록 한다.\n",
    "    - 위쪽 40%, 아래쪽 20%를 cut -> `screen[:, 400 * 0.4 : 400 * 0.8]` \n",
    "    - 이미의 width 는 60% 만 사용 -> `600 * 0.6`  \n",
    "    \n",
    "- cart 위치 계산\n",
    "    - cart 위치가 -2.4~+2.4 를 초과하면 episode 종료되므로 의미 있는 world width는 4.8\n",
    "    - screen 너비 vs. world width 비율은 screen_width / world_width  \n",
    "    \n",
    "    - cart 위치 = `screen 중앙 pixel 위치 + cart position * scale = screen_width / 2 + env.state[0] * scale `\n",
    "   \n",
    "   \n",
    "- np.ascontiguousarray()\n",
    "    - torch.from_numpy()로 tensor 변환 시 모든 numpy array 가 확실하게 Tensor로 변환되도록 make sure 함"
   ]
  },
  {
   "cell_type": "code",
   "execution_count": 36,
   "metadata": {
    "colab": {
     "base_uri": "https://localhost:8080/",
     "height": 269
    },
    "id": "4m065f334B1q",
    "outputId": "594f571f-f5b0-4730-d37c-5bc55fa667b3"
   },
   "outputs": [
    {
     "name": "stderr",
     "output_type": "stream",
     "text": [
      "/usr/local/lib/python3.7/dist-packages/torchvision/transforms/transforms.py:288: UserWarning: Argument interpolation should be of type InterpolationMode instead of int. Please, use InterpolationMode enum.\n",
      "  \"Argument interpolation should be of type InterpolationMode instead of int. \"\n"
     ]
    },
    {
     "data": {
      "image/png": "[encoded data removed]",
      "text/plain": [
       "<Figure size 432x288 with 1 Axes>"
      ]
     },
     "metadata": {
      "needs_background": "light"
     },
     "output_type": "display_data"
    }
   ],
   "source": [
    "resize = T.Compose([T.ToPILImage(),\n",
    "                    T.Resize(40, interpolation=Image.CUBIC),\n",
    "                    T.ToTensor()])\n",
    "\n",
    "def get_cart_location(screen_width):\n",
    "    world_width = env.x_threshold * 2\n",
    "    scale = screen_width / world_width\n",
    "    return int(env.state[0] * scale + screen_width / 2.0)  # MIDDLE OF CART\n",
    "\n",
    "def get_screen():\n",
    "    screen = env.render(mode='rgb_array').transpose((2, 0, 1))\n",
    "    # Cart는 절반 이하에 있으므로 screen 의  top 과 bottom 을 삭제\n",
    "    \n",
    "    _, screen_height, screen_width = screen.shape\n",
    "    \n",
    "    screen = screen[:, int(screen_height*0.4):int(screen_height * 0.8)]\n",
    "    view_width = int(screen_width * 0.6)\n",
    "    cart_location = get_cart_location(screen_width)\n",
    "    \n",
    "    if cart_location < view_width // 2:\n",
    "        slice_range = slice(view_width)\n",
    "    elif cart_location > (screen_width - view_width // 2):\n",
    "        slice_range = slice(-view_width, None)\n",
    "    else:\n",
    "        slice_range = slice(cart_location - view_width // 2,\n",
    "                            cart_location + view_width // 2)\n",
    "        \n",
    "    # 테두리를 잘라 cart 가 정사각형의 중앙에 오도록 한다. \n",
    "    screen = screen[:, :, slice_range]\n",
    "    \n",
    "    # Convert to float, rescale, convert to torch tensor\n",
    "    screen = np.ascontiguousarray(screen, dtype=np.float32) / 255\n",
    "    screen = torch.from_numpy(screen)\n",
    "    \n",
    "    # Resize, and add a batch dimension (BCHW)\n",
    "    return resize(screen).unsqueeze(0).to(device)\n",
    "\n",
    "\n",
    "env.reset()\n",
    "plt.figure()\n",
    "plt.imshow(get_screen().cpu().squeeze(0).permute(1, 2, 0).numpy(),\n",
    "           interpolation='none')\n",
    "plt.title('Example extracted screen')\n",
    "plt.show()\n",
    "env.close()"
   ]
  },
  {
   "cell_type": "markdown",
   "metadata": {
    "id": "lJUAlaM74B1r"
   },
   "source": [
    "## Training"
   ]
  },
  {
   "cell_type": "code",
   "execution_count": 12,
   "metadata": {
    "colab": {
     "base_uri": "https://localhost:8080/"
    },
    "id": "qjJUNPlf4B1r",
    "outputId": "10004401-3ae4-4003-cc53-c5d5c9f31a5e"
   },
   "outputs": [
    {
     "data": {
      "text/plain": [
       "torch.Size([1, 3, 40, 90])"
      ]
     },
     "execution_count": 12,
     "metadata": {},
     "output_type": "execute_result"
    }
   ],
   "source": [
    "# Get screen size - 가운데 부분만 남기고 자른 size\n",
    "init_screen = get_screen()\n",
    "env.close()\n",
    "\n",
    "init_screen.shape"
   ]
  },
  {
   "cell_type": "code",
   "execution_count": 13,
   "metadata": {
    "id": "O3fEXncy4B1r"
   },
   "outputs": [],
   "source": [
    "BATCH_SIZE = 128\n",
    "GAMMA = 0.999\n",
    "EPS_START = 0.9\n",
    "EPS_END = 0.05\n",
    "EPS_DECAY = 200\n",
    "TARGET_UPDATE = 10\n",
    "\n",
    "init_screen = get_screen()\n",
    "_, _, screen_height, screen_width = init_screen.shape\n",
    "\n",
    "n_actions = env.action_space.n\n",
    "\n",
    "# Policy Network\n",
    "policy_net = DQN(screen_height, screen_width, n_actions).to(device)\n",
    "# Target Network\n",
    "target_net = DQN(screen_height, screen_width, n_actions).to(device)\n",
    "\n",
    "target_net.load_state_dict(policy_net.state_dict())\n",
    "target_net.eval()\n",
    "\n",
    "criterion = nn.MSELoss()\n",
    "optimizer = optim.Adam(policy_net.parameters(), lr=0.01)\n",
    "memory = ReplayMemory(10000)\n",
    "\n",
    "steps_done = 0\n",
    "\n",
    "#epsilon-greedy\n",
    "def pi(state):\n",
    "    global steps_done\n",
    "    eps_threshold = EPS_END + (EPS_START - EPS_END) * \\\n",
    "        math.exp(-1. * steps_done / EPS_DECAY)\n",
    "    steps_done += 1\n",
    "    \n",
    "    if random.random() > eps_threshold:\n",
    "        with torch.no_grad():\n",
    "            # t.max(1) will return largest column value of each row.\n",
    "            # second column on max result is index of where max element was\n",
    "            # found, so we pick action with the larger expected reward.\n",
    "            return policy_net(state).max(1)[1].view(1, 1)\n",
    "    else:\n",
    "        return torch.tensor([[random.randrange(n_actions)]], device=device, dtype=torch.long)"
   ]
  },
  {
   "cell_type": "markdown",
   "metadata": {
    "id": "wbSWDFyj4B1s"
   },
   "source": [
    "## Training loop\n",
    "\n",
    "\n",
    "여기에서 최적화의 단일 단계를 수행하는 ``optimize_model`` 함수를 찾을 수 있다. 먼저 배치를 샘플링하고 모든 텐서를 단일 텐서로 연결하고 $Q(s_t, a_t)$ 및 $V(s_{t+1}) = \\max_a Q(s_{t+1}, a)$을 계산하고 이를 loss로 결합한다. 정의에 따라 $s$가  terminal stat이면 $V(s) = 0$으로 설정한다. 또한 추가 안정성을 위해 $V(s_{t+1})$을 계산하는하는 target network를 사용한다. target network의 가중치는 대부분의 시간 동안 고정되어 있지만 policy network의 가중치로 매번 업데이트된다. 이것은 일반적으로 일련의 여러 단계이지만 단순화를 위해 에피소드를 사용한다.\n",
    "\n",
    "<img src=\"https://pytorch.org/tutorials/_images/reinforcement_learning_diagram.jpg\">\n",
    "\n",
    "\n",
    "Action은 임의로 또는 정책에 따라 선택되어 gym 환경에서 다음 단계 샘플을 가져온다. 결과를 ReplayMemory에 기록하고 모든 iteration에서 optimization step을 실행합니다. 최적화는 replay memory에서 무작위 배치를 선택하여 새 정책을 학습합니다. "
   ]
  },
  {
   "cell_type": "markdown",
   "metadata": {
    "id": "Z9C57kC14B1s"
   },
   "source": [
    "```\n",
    "Transition = namedtuple('Transition', ('state', 'action', 'next_state', 'reward'))\n",
    "\n",
    "```"
   ]
  },
  {
   "cell_type": "code",
   "execution_count": 14,
   "metadata": {
    "id": "aDG1a2164B1s"
   },
   "outputs": [],
   "source": [
    "def optimize_model():\n",
    "    if len(memory) < BATCH_SIZE:\n",
    "        return\n",
    "    transitions = memory.sample(BATCH_SIZE)\n",
    "\n",
    "    batch = Transition(*zip(*transitions))\n",
    "    \n",
    "    # non-final states의 mask 를 작성하여 batch elements와 연결\n",
    "    non_final_mask = torch.tensor(list(map(lambda s: s is not None, batch.next_state)), \n",
    "                                                 device=device, dtype=torch.bool)\n",
    "    non_final_next_states = torch.cat([s for s in batch.next_state if s is not None])\n",
    "    \n",
    "    state_batch    = torch.cat(batch.state)\n",
    "    action_batch  = torch.cat(batch.action)\n",
    "    reward_batch = torch.cat(batch.reward)\n",
    "\n",
    "    #state_batch 를 입력으로 얻은 Q(s_t, a) 에서 action_batch 값 선택\n",
    "    state_action_values = policy_net(state_batch).gather(1, action_batch)\n",
    "\n",
    "    # 모든 next states에 대해 V(s_{t+1}) 계산.\n",
    "    # non_final_next_states 의 expected action values 는 다음과 같이 계산\n",
    "    # target_net(target network)에서 max(1)[0]로 best reward 선택\n",
    "    # mask 를 이용하여 expected state value 계산. final state면 0\n",
    "    next_state_values = torch.zeros(BATCH_SIZE, device=device)\n",
    "    next_state_values[non_final_mask] = target_net(non_final_next_states).max(1)[0].detach()\n",
    "    # Q value 기대값 계산\n",
    "    expected_state_action_values = (next_state_values * GAMMA) + reward_batch\n",
    "\n",
    "    # Compute Huber loss\n",
    "    #loss = F.smooth_l1_loss(state_action_values, expected_state_action_values.unsqueeze(1))\n",
    "    \n",
    "    loss = criterion(state_action_values, expected_state_action_values.unsqueeze(1))\n",
    "\n",
    "    optimizer.zero_grad()\n",
    "    loss.backward()\n",
    "    \n",
    "    for param in policy_net.parameters():\n",
    "        param.grad.data.clamp_(-1, 1)\n",
    "        \n",
    "    optimizer.step()"
   ]
  },
  {
   "cell_type": "markdown",
   "metadata": {
    "id": "A2EoHWzQ4B1t"
   },
   "source": [
    "### main training loop\n",
    "\n",
    "- 처음에는 environment를 reset하고 state Tensor를 초기화   \n",
    "- action을 샘플링하고 실행하고 다음 화면과 보상 (항상 1)을 관찰하고 모델을 한번 최적화   \n",
    "- 에피소드가 끝나면 (모델이 실패 함) 루프를 다시 시작\n",
    "\n",
    "\n",
    "- 의미있는 지속 시간 개선을 위해서는 `num_episodes`를 300+와 같은 더 많은 에피소드를 실행해야한다."
   ]
  },
  {
   "cell_type": "code",
   "execution_count": 15,
   "metadata": {
    "colab": {
     "base_uri": "https://localhost:8080/"
    },
    "id": "TXbmHoUc4B1t",
    "outputId": "5fd4ee89-269a-436b-fd4a-fd13d07d2a1f"
   },
   "outputs": [
    {
     "name": "stdout",
     "output_type": "stream",
     "text": [
      "episode 50, average steps =19.78\n",
      "episode 100, average steps =26.32\n",
      "episode 150, average steps =35.90\n",
      "episode 200, average steps =32.76\n",
      "episode 250, average steps =37.90\n",
      "episode 300, average steps =39.86\n",
      "episode 350, average steps =47.04\n",
      "episode 400, average steps =39.20\n",
      "episode 450, average steps =39.66\n",
      "episode 500, average steps =52.60\n",
      "episode 550, average steps =56.30\n",
      "episode 600, average steps =41.46\n",
      "episode 650, average steps =26.42\n",
      "episode 700, average steps =17.68\n",
      "episode 750, average steps =17.84\n",
      "episode 800, average steps =20.96\n",
      "episode 850, average steps =30.44\n",
      "episode 900, average steps =44.42\n",
      "episode 950, average steps =60.76\n",
      "episode 1000, average steps =48.40\n",
      "Completed after : 7.0 min 33.86 sec\n"
     ]
    }
   ],
   "source": [
    "import time\n",
    "s = time.time()\n",
    "\n",
    "num_episodes = 1000\n",
    "episode_durations = []\n",
    "\n",
    "for i_episode in range(num_episodes):\n",
    "    env.reset()\n",
    "    last_screen = get_screen()\n",
    "    current_screen = get_screen()\n",
    "    state = current_screen - last_screen\n",
    "    \n",
    "    for t in count():\n",
    "        \n",
    "        action = pi(state)\n",
    "        \n",
    "        _, reward, done, _ = env.step(action.item())\n",
    "        reward = torch.tensor([reward], device=device)\n",
    "        done = torch.tensor([done], device=device)\n",
    "\n",
    "        # Observe new state\n",
    "        last_screen = current_screen\n",
    "        current_screen = get_screen()\n",
    "\n",
    "        if not done:\n",
    "            next_state = current_screen - last_screen\n",
    "        else:\n",
    "            next_state = None\n",
    "\n",
    "        # Store the transition in memory\n",
    "        memory.push(state, action, next_state, reward)\n",
    "\n",
    "        # Move to the next state\n",
    "        state = next_state\n",
    "\n",
    "        # Perform one step of the optimization (on the target network)\n",
    "        optimize_model()\n",
    "        if done:\n",
    "            if (i_episode+1) % 50 == 0:\n",
    "                print(f\"episode {i_episode+1}, average steps =\" +\n",
    "                      f\"{np.mean(episode_durations[-50:]):.2f}\")\n",
    "            episode_durations.append(t+1)\n",
    "            break\n",
    "            \n",
    "    # Update the target network, copying all weights and biases in DQN\n",
    "    if i_episode % TARGET_UPDATE == 0:\n",
    "        target_net.load_state_dict(policy_net.state_dict())\n",
    "\n",
    "env.close()\n",
    "print('Completed after : {} min {:.2f} sec'.format(\n",
    "                (time.time() - s)//60, (time.time() - s)%60))"
   ]
  },
  {
   "cell_type": "code",
   "execution_count": 16,
   "metadata": {
    "id": "ZAMXUnY3nqej"
   },
   "outputs": [],
   "source": [
    "# network weight 저장\n",
    "PATH = '/content/gdrive/MyDrive/cartpole_cnn_model.pt'"
   ]
  },
  {
   "cell_type": "code",
   "execution_count": 17,
   "metadata": {
    "id": "45V5K9Z0kUIV"
   },
   "outputs": [],
   "source": [
    "torch.save(target_net.state_dict(), PATH)"
   ]
  },
  {
   "cell_type": "code",
   "execution_count": 18,
   "metadata": {
    "colab": {
     "base_uri": "https://localhost:8080/"
    },
    "id": "RAVl-PB6vOuC",
    "outputId": "40960ed3-64d3-4125-b0c1-7c7313312926"
   },
   "outputs": [
    {
     "data": {
      "text/plain": [
       "<All keys matched successfully>"
      ]
     },
     "execution_count": 18,
     "metadata": {},
     "output_type": "execute_result"
    }
   ],
   "source": [
    "# Policy Network\n",
    "policy_net = DQN(screen_height, screen_width, n_actions).to(device)\n",
    "# Target Network\n",
    "target_net = DQN(screen_height, screen_width, n_actions).to(device)\n",
    "\n",
    "# network weight load\n",
    "policy_net.load_state_dict(torch.load(PATH))\n",
    "target_net.load_state_dict(torch.load(PATH))"
   ]
  },
  {
   "cell_type": "code",
   "execution_count": 19,
   "metadata": {
    "colab": {
     "base_uri": "https://localhost:8080/",
     "height": 283
    },
    "id": "rxLQMZWQ4B1t",
    "outputId": "4694e7ba-aba9-44c3-9193-0defbd54c928"
   },
   "outputs": [
    {
     "data": {
      "text/plain": [
       "[<matplotlib.lines.Line2D at 0x7f798c3c9090>]"
      ]
     },
     "execution_count": 19,
     "metadata": {},
     "output_type": "execute_result"
    },
    {
     "data": {
      "image/png": "[encoded data removed]",
      "text/plain": [
       "<Figure size 432x288 with 1 Axes>"
      ]
     },
     "metadata": {
      "needs_background": "light"
     },
     "output_type": "display_data"
    }
   ],
   "source": [
    "plt.plot(episode_durations)"
   ]
  },
  {
   "cell_type": "code",
   "execution_count": 20,
   "metadata": {
    "colab": {
     "base_uri": "https://localhost:8080/"
    },
    "id": "ukbErZuA4B1u",
    "outputId": "079ee7c3-baea-4c17-e0a5-dbc1a4dcf855"
   },
   "outputs": [
    {
     "data": {
      "text/plain": [
       "54.59"
      ]
     },
     "execution_count": 20,
     "metadata": {},
     "output_type": "execute_result"
    }
   ],
   "source": [
    "np.mean(episode_durations[-100:])"
   ]
  },
  {
   "cell_type": "code",
   "execution_count": 21,
   "metadata": {
    "colab": {
     "base_uri": "https://localhost:8080/",
     "height": 287
    },
    "id": "jX_At-P7lVjs",
    "outputId": "803d1a78-f41c-4777-bd8b-18325d86135c"
   },
   "outputs": [
    {
     "name": "stdout",
     "output_type": "stream",
     "text": [
      "steps: 11\n"
     ]
    },
    {
     "data": {
      "image/png": "[encoded data removed]",
      "text/plain": [
       "<Figure size 432x288 with 1 Axes>"
      ]
     },
     "metadata": {
      "needs_background": "light"
     },
     "output_type": "display_data"
    }
   ],
   "source": [
    "env.reset()\n",
    "plt.figure(figsize=(6, 4))\n",
    "screen = env.render(mode='rgb_array')\n",
    "img = plt.imshow(screen)                   # only call this once\n",
    "\n",
    "for _ in range(10):\n",
    "    env.reset()\n",
    "    last_screen = get_screen()\n",
    "    current_screen = get_screen()\n",
    "    state = current_screen - last_screen\n",
    "    \n",
    "    for step in range(500):\n",
    "        img.set_data(env.render(mode='rgb_array')) # just update the data\n",
    "        display.display(plt.gcf())\n",
    "        display.clear_output(wait=True)\n",
    "        \n",
    "        action = policy_net(state).max(1)[1].view(1, 1)\n",
    "\n",
    "        _, reward, done, _ = env.step(action.item())\n",
    "\n",
    "        # Observe new state\n",
    "        last_screen = current_screen\n",
    "        current_screen = get_screen()\n",
    "\n",
    "        if not done:\n",
    "            next_state = current_screen - last_screen\n",
    "        else:\n",
    "            print(\"steps:\", step)\n",
    "            break\n",
    "\n",
    "        # Move to the next state\n",
    "        state = next_state\n",
    "        \n",
    "    env.close()"
   ]
  }
 ],
 "metadata": {
  "accelerator": "GPU",
  "colab": {
   "collapsed_sections": [],
   "name": "110_DQN_CNN_Torch.ipynb",
   "provenance": []
  },
  "kernelspec": {
   "display_name": "Python 3",
   "language": "python",
   "name": "python3"
  },
  "language_info": {
   "codemirror_mode": {
    "name": "ipython",
    "version": 3
   },
   "file_extension": ".py",
   "mimetype": "text/x-python",
   "name": "python",
   "nbconvert_exporter": "python",
   "pygments_lexer": "ipython3",
   "version": "3.9.7"
  }
 },
 "nbformat": 4,
 "nbformat_minor": 1
}
