{
 "cells": [
  {
   "cell_type": "markdown",
   "id": "67412f82",
   "metadata": {
    "id": "67412f82"
   },
   "source": [
    "# 033_TD_qlearning_FrozenLake\n",
    "## Q-Learning (off-policy TD control) for estimating $\\pi = \\pi^*$\n",
    "\n",
    "- 최적 행동가치 함수 $q^*$를 직접 근사하여 최적 정책 발견\n",
    "\n",
    "```\n",
    "LEFT - 0, DOWN - 1, RIGHT - 2, UP - 3\n",
    "\n",
    "SFFF       (S: starting point, safe)\n",
    "FHFH       (F: frozen surface, safe)\n",
    "FFFH       (H: hole, fall to your doom)\n",
    "HFFG       (G: goal, where the frisbee is located)\n",
    "```\n",
    "\n",
    "<img src=\"https://t1.daumcdn.net/cfile/tistory/257E064858A982E612\" width=400 />"
   ]
  },
  {
   "cell_type": "markdown",
   "id": "f45d0748",
   "metadata": {
    "id": "f45d0748"
   },
   "source": [
    "<img src=\"https://blog.kakaocdn.net/dn/Xmyub/btqydBg48hF/4ZwGr1XshIOWO10P95WZKK/img.jpg\" />"
   ]
  },
  {
   "cell_type": "code",
   "execution_count": null,
   "id": "323141a6",
   "metadata": {},
   "outputs": [],
   "source": [
    "win_pct = []\n",
    "scores = []\n",
    "    \n",
    "# Initialize Q(s,a) arbitrarily except that Q(terminal, .)=0\n",
    "\n",
    "\n",
    "# Loop for each episode:\n",
    "for episode in range(num_episodes):\n",
    "    # Initialize S\n",
    "    \n",
    "    # Loop for each step of episode:\n",
    "    score = 0\n",
    "    while True:       \n",
    "        # Choose A from S using policy derived from Q (eg. e-greedy)\n",
    "        # behavior policy : e-greedy\n",
    "        \n",
    "            \n",
    "        # Take action A, observe R, S'\n",
    "        \n",
    "            \n",
    "        #Q(S,A) <- Q(S,A) + alpha[R + gamma*max_aQ(S',a) - Q(S, A)]\n",
    "        #자신이 따르는 정책에 상관없이 최적 행동가치함수 q*를 직접 근사\n",
    "        # target policy : greedy policy\n",
    "        \n",
    "        # S <-- S'\n",
    "        \n",
    "        # until S is terminal\n",
    "        if done:\n",
    "            break\n",
    "        \n",
    "    scores.append(score)\n",
    "        \n",
    "    if episode % 1000 and episode > 0.8 * num_episodes:\n",
    "        average = np.mean(scores[-100:])\n",
    "        win_pct.append(average)\n",
    "        print(f\"episode {episode} completed... 최근 100 episode 평균 score = {average}\")"
   ]
  }
 ],
 "metadata": {
  "colab": {
   "name": "033_TD_qlearning_FrozenLake.ipynb",
   "provenance": []
  },
  "kernelspec": {
   "display_name": "Python 3 (ipykernel)",
   "language": "python",
   "name": "python3"
  },
  "language_info": {
   "codemirror_mode": {
    "name": "ipython",
    "version": 3
   },
   "file_extension": ".py",
   "mimetype": "text/x-python",
   "name": "python",
   "nbconvert_exporter": "python",
   "pygments_lexer": "ipython3",
   "version": "3.8.12"
  }
 },
 "nbformat": 4,
 "nbformat_minor": 5
}
