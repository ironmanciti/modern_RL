{
 "cells": [
  {
   "cell_type": "markdown",
   "id": "53008013",
   "metadata": {
    "id": "53008013"
   },
   "source": [
    "# 130. Deep Q-Network (DQN) \n",
    "\n",
    "## Deep Q-learning Target NN and DDQN - Deep Mind\n",
    "#### Playing Atari with Deep Reinforcement Learning - 2015.2\n",
    "\n",
    "<img src=\"https://miro.medium.com/max/1400/1*igVmhIWcLPrNnRPwx8PQSg.png\" width= 500 />\n",
    "\n"
   ]
  },
  {
   "cell_type": "markdown",
   "id": "51b152ff",
   "metadata": {
    "id": "51b152ff"
   },
   "source": [
    "## Deep Q-Network (DQN)"
   ]
  },
  {
   "cell_type": "markdown",
   "id": "ea8312f5",
   "metadata": {
    "id": "ea8312f5"
   },
   "source": [
    "환경을 초기화합니다.  \n",
    "\n",
    "[MountainCar-v0](https://www.gymlibrary.ml/environments/classic_control/mountain_car/)  \n",
    "[LunarLander-v2](https://www.gymlibrary.ml/environments/box2d/lunar_lander/)  \n",
    "[CartPole-v0'](https://www.gymlibrary.ml/environments/classic_control/cart_pole/)"
   ]
  },
  {
   "cell_type": "markdown",
   "id": "fe3dc611",
   "metadata": {
    "id": "fe3dc611"
   },
   "source": [
    "### Neural Network Architecture 정의"
   ]
  },
  {
   "cell_type": "markdown",
   "id": "520a430b",
   "metadata": {
    "id": "520a430b"
   },
   "source": [
    "### Replay Memory 정의"
   ]
  },
  {
   "cell_type": "markdown",
   "id": "a5d4234e",
   "metadata": {
    "id": "a5d4234e"
   },
   "source": [
    "### Replay Memory, Current / Target Network 초기화"
   ]
  },
  {
   "cell_type": "markdown",
   "id": "bc69b410",
   "metadata": {
    "id": "bc69b410"
   },
   "source": [
    "### DQN main algorithm 구현"
   ]
  },
  {
   "cell_type": "markdown",
   "id": "889dea2d",
   "metadata": {
    "id": "889dea2d"
   },
   "source": [
    "### 훈련된 network 저장"
   ]
  },
  {
   "cell_type": "markdown",
   "id": "3355d41c",
   "metadata": {
    "id": "3355d41c"
   },
   "source": [
    "### Animate it with Video"
   ]
  }
 ],
 "metadata": {
  "accelerator": "GPU",
  "colab": {
   "collapsed_sections": [],
   "name": "130_DQN_ExperienceReplay_TargetNN.ipynb",
   "provenance": []
  },
  "kernelspec": {
   "display_name": "Python 3 (ipykernel)",
   "language": "python",
   "name": "python3"
  },
  "language_info": {
   "codemirror_mode": {
    "name": "ipython",
    "version": 3
   },
   "file_extension": ".py",
   "mimetype": "text/x-python",
   "name": "python",
   "nbconvert_exporter": "python",
   "pygments_lexer": "ipython3",
   "version": "3.8.12"
  }
 },
 "nbformat": 4,
 "nbformat_minor": 5
}
