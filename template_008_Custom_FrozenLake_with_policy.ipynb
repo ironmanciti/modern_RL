{
 "cells": [
  {
   "cell_type": "markdown",
   "id": "118424d9",
   "metadata": {},
   "source": [
    "# 008_Custom_FrozenLake_with_policy \n",
    "\n",
    "- Gym의 [Frozen Lake 환경](https://www.gymlibrary.ml/environments/toy_text/frozen_lake/)을 모방하여 직접 Custom 환경을 작성  \n",
    "- deterministic policy를 가지고 있는 경우 n_game 회의 시도를 하여 미로에서 목적지를 찾아가는 성공 확률 계산"
   ]
  },
  {
   "cell_type": "markdown",
   "id": "cd886052",
   "metadata": {},
   "source": [
    "```\n",
    "LEFT - 0, DOWN - 1, RIGHT - 2, UP - 3\n",
    "\n",
    "SFFF       (S: starting point, safe)\n",
    "FHFH       (F: frozen surface, safe)\n",
    "FFFH       (H: hole, fall to your doom)\n",
    "HFFG       (G: goal, where the frisbee is located)\n",
    "```"
   ]
  }
 ],
 "metadata": {
  "kernelspec": {
   "display_name": "Python 3 (ipykernel)",
   "language": "python",
   "name": "python3"
  },
  "language_info": {
   "codemirror_mode": {
    "name": "ipython",
    "version": 3
   },
   "file_extension": ".py",
   "mimetype": "text/x-python",
   "name": "python",
   "nbconvert_exporter": "python",
   "pygments_lexer": "ipython3",
   "version": "3.8.12"
  }
 },
 "nbformat": 4,
 "nbformat_minor": 5
}
