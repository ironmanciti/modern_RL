{
 "cells": [
  {
   "cell_type": "markdown",
   "id": "5f7b5255",
   "metadata": {
    "id": "5f7b5255"
   },
   "source": [
    "# 006_frozen_lake_2_with_policy\n",
    "- Gym 의 [Frozen Lake 환경](https://www.gymlibrary.ml/environments/toy_text/frozen_lake/)  \n",
    "- deterministic policy를 가지고 있는 경우 n_game 회의 시도를 하여 미로에서 목적지를 찾아가는 성공 확률 계산"
   ]
  },
  {
   "cell_type": "markdown",
   "id": "5306b17d",
   "metadata": {
    "id": "5306b17d"
   },
   "source": [
    "```\n",
    "LEFT - 0, DOWN - 1, RIGHT - 2, UP - 3\n",
    "\n",
    "SFFF       (S: starting point, safe)\n",
    "FHFH       (F: frozen surface, safe)\n",
    "FFFH       (H: hole, fall to your doom)\n",
    "HFFG       (G: goal, where the frisbee is located)\n",
    "```"
   ]
  },
  {
   "cell_type": "markdown",
   "id": "f8fc62d4",
   "metadata": {
    "id": "f8fc62d4"
   },
   "source": [
    "### Stochastic 한 환경은 성공률이 30% 미만, deterministic 한 환경의 경우는 100% 성공."
   ]
  }
 ],
 "metadata": {
  "colab": {
   "collapsed_sections": [],
   "name": "006_frozen_lake_2_with_policy.ipynb",
   "provenance": []
  },
  "kernelspec": {
   "display_name": "Python 3 (ipykernel)",
   "language": "python",
   "name": "python3"
  },
  "language_info": {
   "codemirror_mode": {
    "name": "ipython",
    "version": 3
   },
   "file_extension": ".py",
   "mimetype": "text/x-python",
   "name": "python",
   "nbconvert_exporter": "python",
   "pygments_lexer": "ipython3",
   "version": "3.8.12"
  }
 },
 "nbformat": 4,
 "nbformat_minor": 5
}
