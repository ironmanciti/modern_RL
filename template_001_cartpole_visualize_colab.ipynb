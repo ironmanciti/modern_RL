{
 "cells": [
  {
   "cell_type": "markdown",
   "id": "914fdb66",
   "metadata": {
    "id": "914fdb66"
   },
   "source": [
    "# 001. Colab 에서 Cartpole 시각화\n",
    "\n",
    "- box2d-py : 2D physics library  \n",
    "- pyvirtualdisplay : python wrapper for Xvfb  \n",
    "- Xvfb  \n",
    "    - 물리적 입력장치와 디스플레이 하드웨어 없이 실행할 수 있는 X 서버입니다.\n",
    "    - 가상메모리를 사용해 덤프 프레임 버퍼를 실행합니다.\n",
    "    - 쉽게말하자면 xvfb(x virtual framebuffer)는 리모트 서버에서 브라우저를 띄우지 않고 브라우저에 해당하는 작업을 할수 있게 가상 프레임을 생성해 준다.\n",
    "\n",
    "- X11 : X Window System\n",
    "\n",
    "- base64 : 바이너리 데이터를 인쇄 가능한 ASCII 문자로 인코딩하고 이러한 인코딩을 다시 바이너리 데이터로 디코딩하는 함수를 제공\n",
    "\n",
    "- VideoRecorder :  동영상을 프레임별로 렌더링. 생성된 VideoRecorder에서 'close'를 호출해야 하는 책임이 있습니다. 그렇지 않으면 인코더 프로세스가 누출될 수 있습니다.\n",
    "        "
   ]
  },
  {
   "cell_type": "markdown",
   "id": "7b4bd7c6",
   "metadata": {
    "id": "7b4bd7c6"
   },
   "source": [
    "- Environment 초기화"
   ]
  },
  {
   "cell_type": "markdown",
   "id": "55b2a2a8",
   "metadata": {
    "id": "55b2a2a8"
   },
   "source": [
    "## 시각화\n",
    "\n",
    "- HTML video element 반환."
   ]
  },
  {
   "cell_type": "markdown",
   "id": "5499b826",
   "metadata": {
    "id": "5499b826"
   },
   "source": [
    "### 자신의 computer 에서 available 한 environment "
   ]
  }
 ],
 "metadata": {
  "colab": {
   "name": "001_cartpole_visualize_colab.ipynb",
   "provenance": []
  },
  "kernelspec": {
   "display_name": "Python 3 (ipykernel)",
   "language": "python",
   "name": "python3"
  },
  "language_info": {
   "codemirror_mode": {
    "name": "ipython",
    "version": 3
   },
   "file_extension": ".py",
   "mimetype": "text/x-python",
   "name": "python",
   "nbconvert_exporter": "python",
   "pygments_lexer": "ipython3",
   "version": "3.8.12"
  }
 },
 "nbformat": 4,
 "nbformat_minor": 5
}
