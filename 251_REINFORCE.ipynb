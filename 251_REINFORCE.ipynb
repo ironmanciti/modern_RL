{
  "cells": [
    {
      "cell_type": "markdown",
      "id": "b961f69b",
      "metadata": {
        "id": "b961f69b"
      },
      "source": [
        "# 251. REINFORCE Algorithm\n",
        "\n",
        "- Monte-Carlo method를 통해 구한 episodic sample 의 estimated return을 이용하여 policy parameter 𝜃를 update해 나가는 기법\n",
        "\n",
        "- REINFORCE 갱신 규칙\n",
        "\n",
        "$$\\Delta\\theta_t = \\alpha\\nabla_\\theta\\log{\\pi_\\theta}(s, a)G_t$$\n",
        "\n",
        "- 따라서, Loss function 은 \n",
        "$$-G_t\\log{\\pi_\\theta}(s, a)$$\n",
        "\n",
        "```\n",
        "                log_prob = torch.log(pi(state_tensor))\n",
        "                selected_log_probs = reward_tensor * \\\n",
        "                        torch.gather(log_prob, 1, action_tensor.unsqueeze(1)).squeeze()\n",
        "                loss = -1 * selected_log_probs.mean()\n",
        "```"
      ]
    },
    {
      "cell_type": "code",
      "execution_count": 1,
      "id": "66LOQ1jzfjux",
      "metadata": {
        "id": "66LOQ1jzfjux"
      },
      "outputs": [],
      "source": [
        "# 2D physics library\n",
        "!pip3 install -q box2d-py\n",
        "\n",
        "# # install dependencies needed for recording videos\n",
        "!apt-get install -y xvfb x11-utils > tmp\n",
        "!pip install -q pyvirtualdisplay==0.2.*"
      ]
    },
    {
      "cell_type": "code",
      "execution_count": 2,
      "id": "zttSufFHftAs",
      "metadata": {
        "id": "zttSufFHftAs"
      },
      "outputs": [],
      "source": [
        "from IPython import display\n",
        "import matplotlib.pyplot as plt\n",
        "import gym\n",
        "from IPython.display import HTML\n",
        "from pyvirtualdisplay import Display\n",
        "from gym.wrappers.monitoring.video_recorder import VideoRecorder\n",
        "from base64 import b64encode"
      ]
    },
    {
      "cell_type": "code",
      "execution_count": 3,
      "id": "dab7945e",
      "metadata": {
        "colab": {
          "base_uri": "https://localhost:8080/"
        },
        "id": "dab7945e",
        "outputId": "4c9eeab2-3bbb-41a0-ad70-a5d62cd6989e"
      },
      "outputs": [
        {
          "output_type": "stream",
          "name": "stdout",
          "text": [
            "cuda:0\n"
          ]
        }
      ],
      "source": [
        "import gym\n",
        "import matplotlib.pyplot as plt\n",
        "from IPython import display\n",
        "import numpy as np\n",
        "import torch \n",
        "import torch.nn as nn\n",
        "import torch.nn.functional as F\n",
        "import torch.optim as optim\n",
        "from torch.distributions import Categorical;\n",
        "import time\n",
        "import os\n",
        "\n",
        "device = torch.device('cuda:0' if torch.cuda.is_available() else 'cpu')\n",
        "print(device)"
      ]
    },
    {
      "cell_type": "markdown",
      "source": [
        "<img src=\"https://miro.medium.com/max/1400/1*4RncZNj1ij5A5eMJpexhrw.png\" width=700/>"
      ],
      "metadata": {
        "id": "qCER-H6cO7Rh"
      },
      "id": "qCER-H6cO7Rh"
    },
    {
      "cell_type": "code",
      "source": [
        "env = gym.make('LunarLander-v2')\n",
        "# env = gym.make('CartPole-v0')\n",
        "\n",
        "action_space = np.arange(env.action_space.n)\n",
        "print(action_space)\n",
        "print(env.observation_space.shape, env.action_space.n)"
      ],
      "metadata": {
        "colab": {
          "base_uri": "https://localhost:8080/"
        },
        "id": "lcYqBBfaQ_N5",
        "outputId": "12c587d7-a807-49e7-8cfe-370eadaf3761"
      },
      "id": "lcYqBBfaQ_N5",
      "execution_count": 4,
      "outputs": [
        {
          "output_type": "stream",
          "name": "stdout",
          "text": [
            "[0 1 2 3]\n",
            "(8,) 4\n"
          ]
        }
      ]
    },
    {
      "cell_type": "code",
      "source": [
        "# A differentiable policy parameterization pi(a|s,theta)\n",
        "class PolicyNetwork(nn.Module):\n",
        "    def __init__(self, input_dims, n_actions):\n",
        "        super(PolicyNetwork, self).__init__()\n",
        "        self.fc1 = nn.Linear(*input_dims, 128)\n",
        "        self.fc2 = nn.Linear(128, 64)\n",
        "        self.fc3 = nn.Linear(64, n_actions)\n",
        "\n",
        "    def forward(self, state):\n",
        "        x = F.relu(self.fc1(state))\n",
        "        x = F.relu(self.fc2(x))\n",
        "        prob = F.softmax(self.fc3(x), dim=-1)\n",
        "        return prob\n",
        "\n",
        "#Initialize the parameters theta\n",
        "pi = PolicyNetwork(input_dims=env.observation_space.shape, \n",
        "                              n_actions=env.action_space.n).to(device)\n",
        "pi"
      ],
      "metadata": {
        "colab": {
          "base_uri": "https://localhost:8080/"
        },
        "id": "31JBeBI4Q8Ye",
        "outputId": "f481e6fa-43ba-4da6-c37f-f8ca134e39d4"
      },
      "id": "31JBeBI4Q8Ye",
      "execution_count": 5,
      "outputs": [
        {
          "output_type": "execute_result",
          "data": {
            "text/plain": [
              "PolicyNetwork(\n",
              "  (fc1): Linear(in_features=8, out_features=128, bias=True)\n",
              "  (fc2): Linear(in_features=128, out_features=64, bias=True)\n",
              "  (fc3): Linear(in_features=64, out_features=4, bias=True)\n",
              ")"
            ]
          },
          "metadata": {},
          "execution_count": 5
        }
      ]
    },
    {
      "cell_type": "code",
      "source": [
        "#Select step-size parameters 0<alpha<1\n",
        "alpha = 0.001     \n",
        "#Choose discount rate 0<gamma<1\n",
        "gamma = 0.99\n",
        "#Chose max number of episodes N\n",
        "N = 10_000        \n",
        "# Choose number of episodes to batch together for an update K >= 1\n",
        "batch_size = 32\n",
        "\n",
        "optimizer = optim.Adam(pi.parameters(), lr=alpha)\n",
        "\n",
        "# rendering = True\n",
        "total_rewards = []\n",
        "\n",
        "def discount_rewards(rewards):\n",
        "    Returns = []\n",
        "    G = 0\n",
        "    for r in rewards[::-1]:\n",
        "        G = r + gamma * G\n",
        "        Returns.append(G)\n",
        "    # cumsum의 배열 방향을 반대로 한 다음 원래 순서로 되돌립니다.\n",
        "    Returns = np.array(Returns[::-1], dtype=np.float64)\n",
        "    # return Returns - Returns.mean()\n",
        "    return Returns"
      ],
      "metadata": {
        "id": "5mlis98IThmm"
      },
      "id": "5mlis98IThmm",
      "execution_count": 6,
      "outputs": []
    },
    {
      "cell_type": "code",
      "execution_count": 7,
      "id": "b6a699c1",
      "metadata": {
        "colab": {
          "base_uri": "https://localhost:8080/"
        },
        "id": "b6a699c1",
        "outputId": "d38684ee-bf05-4051-de66-ebf71ae5acaa",
        "scrolled": false
      },
      "outputs": [
        {
          "output_type": "stream",
          "name": "stdout",
          "text": [
            "episode 0,  최근 100 episode 평균 reward -104.73\n"
          ]
        },
        {
          "output_type": "stream",
          "name": "stderr",
          "text": [
            "/usr/local/lib/python3.7/dist-packages/ipykernel_launcher.py:45: UserWarning: Creating a tensor from a list of numpy.ndarrays is extremely slow. Please consider converting the list to a single numpy.ndarray with numpy.array() before converting to a tensor. (Triggered internally at  ../torch/csrc/utils/tensor_new.cpp:210.)\n"
          ]
        },
        {
          "output_type": "stream",
          "name": "stdout",
          "text": [
            "episode 100,  최근 100 episode 평균 reward -170.88\n",
            "episode 200,  최근 100 episode 평균 reward -157.00\n",
            "episode 300,  최근 100 episode 평균 reward -157.48\n",
            "episode 400,  최근 100 episode 평균 reward -140.64\n",
            "episode 500,  최근 100 episode 평균 reward -152.87\n",
            "episode 600,  최근 100 episode 평균 reward -150.71\n",
            "episode 700,  최근 100 episode 평균 reward -143.04\n",
            "episode 800,  최근 100 episode 평균 reward -142.93\n",
            "episode 900,  최근 100 episode 평균 reward -154.31\n",
            "episode 1000,  최근 100 episode 평균 reward -141.82\n",
            "episode 1100,  최근 100 episode 평균 reward -149.21\n",
            "episode 1200,  최근 100 episode 평균 reward -131.00\n",
            "episode 1300,  최근 100 episode 평균 reward -144.96\n",
            "episode 1400,  최근 100 episode 평균 reward -142.96\n",
            "episode 1500,  최근 100 episode 평균 reward -134.68\n",
            "episode 1600,  최근 100 episode 평균 reward -129.38\n",
            "episode 1700,  최근 100 episode 평균 reward -140.04\n",
            "episode 1800,  최근 100 episode 평균 reward -132.53\n",
            "episode 1900,  최근 100 episode 평균 reward -136.18\n",
            "episode 2000,  최근 100 episode 평균 reward -128.93\n",
            "episode 2100,  최근 100 episode 평균 reward -122.48\n",
            "episode 2200,  최근 100 episode 평균 reward -133.73\n",
            "episode 2300,  최근 100 episode 평균 reward -127.76\n",
            "episode 2400,  최근 100 episode 평균 reward -118.74\n",
            "episode 2500,  최근 100 episode 평균 reward -133.20\n",
            "episode 2600,  최근 100 episode 평균 reward -123.30\n",
            "episode 2700,  최근 100 episode 평균 reward -123.81\n",
            "episode 2800,  최근 100 episode 평균 reward -119.76\n",
            "episode 2900,  최근 100 episode 평균 reward -116.26\n",
            "episode 3000,  최근 100 episode 평균 reward -114.57\n",
            "episode 3100,  최근 100 episode 평균 reward -124.27\n",
            "episode 3200,  최근 100 episode 평균 reward -113.91\n",
            "episode 3300,  최근 100 episode 평균 reward -115.36\n",
            "episode 3400,  최근 100 episode 평균 reward -112.07\n",
            "episode 3500,  최근 100 episode 평균 reward -117.45\n",
            "episode 3600,  최근 100 episode 평균 reward -118.27\n",
            "episode 3700,  최근 100 episode 평균 reward -115.57\n",
            "episode 3800,  최근 100 episode 평균 reward -122.32\n",
            "episode 3900,  최근 100 episode 평균 reward -112.39\n",
            "episode 4000,  최근 100 episode 평균 reward -114.54\n",
            "episode 4100,  최근 100 episode 평균 reward -118.05\n",
            "episode 4200,  최근 100 episode 평균 reward -117.16\n",
            "episode 4300,  최근 100 episode 평균 reward -111.86\n",
            "episode 4400,  최근 100 episode 평균 reward -104.00\n",
            "episode 4500,  최근 100 episode 평균 reward -110.20\n",
            "episode 4600,  최근 100 episode 평균 reward -115.15\n",
            "episode 4700,  최근 100 episode 평균 reward -105.57\n",
            "episode 4800,  최근 100 episode 평균 reward -113.14\n",
            "episode 4900,  최근 100 episode 평균 reward -108.21\n",
            "episode 5000,  최근 100 episode 평균 reward -99.73\n",
            "episode 5100,  최근 100 episode 평균 reward -103.23\n",
            "episode 5200,  최근 100 episode 평균 reward -107.04\n",
            "episode 5300,  최근 100 episode 평균 reward -99.63\n",
            "episode 5400,  최근 100 episode 평균 reward -94.74\n",
            "episode 5500,  최근 100 episode 평균 reward -97.71\n",
            "episode 5600,  최근 100 episode 평균 reward -102.08\n",
            "episode 5700,  최근 100 episode 평균 reward -91.99\n",
            "episode 5800,  최근 100 episode 평균 reward -104.57\n",
            "episode 5900,  최근 100 episode 평균 reward -100.34\n",
            "episode 6000,  최근 100 episode 평균 reward -95.90\n",
            "episode 6100,  최근 100 episode 평균 reward -98.34\n",
            "episode 6200,  최근 100 episode 평균 reward -89.24\n",
            "episode 6300,  최근 100 episode 평균 reward -86.29\n",
            "episode 6400,  최근 100 episode 평균 reward -88.06\n",
            "episode 6500,  최근 100 episode 평균 reward -83.95\n",
            "episode 6600,  최근 100 episode 평균 reward -84.58\n",
            "episode 6700,  최근 100 episode 평균 reward -76.03\n",
            "episode 6800,  최근 100 episode 평균 reward -75.08\n",
            "episode 6900,  최근 100 episode 평균 reward -69.30\n",
            "episode 7000,  최근 100 episode 평균 reward -64.16\n",
            "episode 7100,  최근 100 episode 평균 reward -61.76\n",
            "episode 7200,  최근 100 episode 평균 reward -74.63\n",
            "episode 7300,  최근 100 episode 평균 reward -67.24\n",
            "episode 7400,  최근 100 episode 평균 reward -72.27\n",
            "episode 7500,  최근 100 episode 평균 reward -62.44\n",
            "episode 7600,  최근 100 episode 평균 reward -63.17\n",
            "episode 7700,  최근 100 episode 평균 reward -53.04\n",
            "episode 7800,  최근 100 episode 평균 reward -59.93\n",
            "episode 7900,  최근 100 episode 평균 reward -49.00\n",
            "episode 8000,  최근 100 episode 평균 reward -46.86\n",
            "episode 8100,  최근 100 episode 평균 reward -57.95\n",
            "episode 8200,  최근 100 episode 평균 reward -45.14\n",
            "episode 8300,  최근 100 episode 평균 reward -64.30\n",
            "episode 8400,  최근 100 episode 평균 reward -44.51\n",
            "episode 8500,  최근 100 episode 평균 reward -40.38\n",
            "episode 8600,  최근 100 episode 평균 reward -41.52\n",
            "episode 8700,  최근 100 episode 평균 reward -37.88\n",
            "episode 8800,  최근 100 episode 평균 reward -27.75\n",
            "episode 8900,  최근 100 episode 평균 reward -33.48\n",
            "episode 9000,  최근 100 episode 평균 reward -23.36\n",
            "episode 9100,  최근 100 episode 평균 reward -24.19\n",
            "episode 9200,  최근 100 episode 평균 reward -26.66\n",
            "episode 9300,  최근 100 episode 평균 reward -26.86\n",
            "episode 9400,  최근 100 episode 평균 reward -35.60\n",
            "episode 9500,  최근 100 episode 평균 reward -36.22\n",
            "episode 9600,  최근 100 episode 평균 reward -33.34\n",
            "episode 9700,  최근 100 episode 평균 reward -28.51\n",
            "episode 9800,  최근 100 episode 평균 reward -25.26\n",
            "episode 9900,  최근 100 episode 평균 reward -50.35\n"
          ]
        }
      ],
      "source": [
        "start_time = time.time()\n",
        "batch_rewards = []\n",
        "batch_actions = []\n",
        "batch_states = []\n",
        "batch_counter = 1\n",
        "\n",
        "# While episode n < N do: (training의 안정성 제고)\n",
        "for episode in range(N):\n",
        "   \n",
        "    s = env.reset()\n",
        "\n",
        "    # for K batches do:\n",
        "    states = []\n",
        "    rewards = []\n",
        "    actions = []\n",
        "\n",
        "    done = False\n",
        "    # Generate an episode s0, a0, r0,...st,at,rt following policy pi(a|s,theta)\n",
        "    while not done:\n",
        "        probs = pi(torch.from_numpy(s).float().to(device)).detach().cpu().numpy()\n",
        "        a = np.random.choice(action_space, p=probs)\n",
        "       \n",
        "        s_, r, done, _ = env.step(a)\n",
        "        \n",
        "        states.append(s)\n",
        "        rewards.append(r)\n",
        "        actions.append(a)\n",
        "  \n",
        "        s = s_\n",
        "        \n",
        "#         if rendering and (episode > N * 0.98):\n",
        "#             env.render()\n",
        "        \n",
        "        if done:\n",
        "            # for each step in the eposide(t), discount reward do:\n",
        "            # G_t = sum from t=1 to t=T {gamma^t * R_t}\n",
        "            batch_rewards.extend(discount_rewards(rewards))\n",
        "            batch_states.extend(states)\n",
        "            batch_actions.extend(actions)\n",
        "            batch_counter += 1\n",
        "            total_rewards.append(sum(rewards))\n",
        "        \n",
        "            # If batch is complete, update network\n",
        "            if batch_counter == batch_size:    \n",
        "                state_tensor = torch.FloatTensor(batch_states).to(device)\n",
        "                reward_tensor = torch.FloatTensor(batch_rewards).to(device)\n",
        "                action_tensor = torch.LongTensor(batch_actions).to(device)\n",
        "                \n",
        "                # Calculate policy loss for all episides in the batch \n",
        "                # L(theta) = -1/m sum(ln(G_t pi(a|s,theta)))))\n",
        "                log_prob = torch.log(pi(state_tensor))\n",
        "                selected_log_probs = reward_tensor * \\\n",
        "                        torch.gather(log_prob, 1, action_tensor.unsqueeze(1)).squeeze()\n",
        "                loss = -1 * selected_log_probs.mean()\n",
        "    \n",
        "                # Update the policy: \n",
        "                # theta <- theta + alpha * grad[L(theat)]\n",
        "                optimizer.zero_grad()\n",
        "                loss.backward()\n",
        "                optimizer.step()\n",
        "\n",
        "                batch_rewards = []\n",
        "                batch_actions = []\n",
        "                batch_states = []\n",
        "                batch_counter = 1\n",
        "                \n",
        "    if episode % 100 == 0:\n",
        "        avg_score = np.mean(total_rewards[-100:])\n",
        "        print(f'episode {episode},  최근 100 episode 평균 reward {avg_score: .2f}')\n",
        "\n",
        "env.close()"
      ]
    },
    {
      "cell_type": "code",
      "execution_count": 8,
      "id": "d4f361c8",
      "metadata": {
        "colab": {
          "base_uri": "https://localhost:8080/",
          "height": 300
        },
        "id": "d4f361c8",
        "outputId": "5347db93-0cfa-4eff-ade7-fd890e92b61f"
      },
      "outputs": [
        {
          "output_type": "stream",
          "name": "stdout",
          "text": [
            "duration =  20.736329424381257 minutes\n"
          ]
        },
        {
          "output_type": "display_data",
          "data": {
            "text/plain": [
              "<Figure size 432x288 with 1 Axes>"
            ],
            "image/png": "[encoded data removed]"
          },
          "metadata": {
            "needs_background": "light"
          }
        }
      ],
      "source": [
        "print(\"duration = \", (time.time() - start_time) / 60, \"minutes\")\n",
        "\n",
        "running_avg = np.zeros(len(total_rewards))\n",
        "\n",
        "for i in range(len(running_avg)):\n",
        "    running_avg[i] = np.mean(total_rewards[max(0, i-100):(i+1)])\n",
        "plt.plot(running_avg)\n",
        "plt.title('Running average of previous 100 rewards')\n",
        "plt.show()"
      ]
    },
    {
      "cell_type": "code",
      "source": [
        "display = Display(visible=False, size=(1400, 900))\n",
        "_ = display.start()    # start display\n",
        "\n",
        "def render_mp4(videopath: str) -> str:\n",
        "  \"\"\"\n",
        "  지정된 경로에 있는 MP4 비디오의 b4 인코딩 버전을 포함하는 문자열을 가져옵니다.\n",
        "  \"\"\"\n",
        "  mp4 = open(videopath, 'rb').read()\n",
        "  base64_encoded_mp4 = b64encode(mp4).decode()\n",
        "  return f'<video width=400 controls><source src=\"data:video/mp4;' \\\n",
        "         f'base64,{base64_encoded_mp4}\" type=\"video/mp4\"></video>'"
      ],
      "metadata": {
        "id": "xmiYpUDWXPXz"
      },
      "id": "xmiYpUDWXPXz",
      "execution_count": 9,
      "outputs": []
    },
    {
      "cell_type": "code",
      "source": [
        "file = \"rendering-train.mp4\"\n",
        "video = VideoRecorder(env, file)\n",
        "\n",
        "# 시각화\n",
        "state = env.reset()\n",
        "done = False\n",
        "while not done:\n",
        "    env.render()\n",
        "    video.capture_frame()\n",
        "\n",
        "    with torch.no_grad():\n",
        "        probs = pi(torch.from_numpy(state).float().to(device)).detach().cpu().numpy()\n",
        "    a = np.random.choice(action_space, p=probs)\n",
        "\n",
        "    state, reward, done, _ = env.step(a)\n",
        "\n",
        "env.close()\n",
        "video.close()"
      ],
      "metadata": {
        "id": "NdpOPpEHXQ5f"
      },
      "id": "NdpOPpEHXQ5f",
      "execution_count": 10,
      "outputs": []
    },
    {
      "cell_type": "code",
      "execution_count": 11,
      "id": "8e009f7c",
      "metadata": {
        "colab": {
          "base_uri": "https://localhost:8080/",
          "height": 286
        },
        "id": "8e009f7c",
        "outputId": "4777db6f-178a-49ad-f5f5-ff8c0a684fc9"
      },
      "outputs": [
        {
          "output_type": "execute_result",
          "data": {
            "text/plain": [
              "<IPython.core.display.HTML object>"
            ],
            "text/html": [
              "<video width=400 controls><source src=\"data:video/mp4;base64,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\" type=\"video/mp4\"></video>"
            ]
          },
          "metadata": {},
          "execution_count": 11
        }
      ],
      "source": [
        "# file = \"rendering-notrain.mp4\"\n",
        "file = \"rendering-train.mp4\"\n",
        "\n",
        "html = render_mp4(file)\n",
        "HTML(html)"
      ]
    },
    {
      "cell_type": "code",
      "execution_count": 11,
      "id": "cd3989ad",
      "metadata": {
        "id": "cd3989ad"
      },
      "outputs": [],
      "source": [
        ""
      ]
    }
  ],
  "metadata": {
    "accelerator": "GPU",
    "colab": {
      "name": "251_REINFORCE.ipynb",
      "provenance": []
    },
    "kernelspec": {
      "display_name": "Python 3",
      "language": "python",
      "name": "python3"
    },
    "language_info": {
      "codemirror_mode": {
        "name": "ipython",
        "version": 3
      },
      "file_extension": ".py",
      "mimetype": "text/x-python",
      "name": "python",
      "nbconvert_exporter": "python",
      "pygments_lexer": "ipython3",
      "version": "3.9.7"
    }
  },
  "nbformat": 4,
  "nbformat_minor": 5
}