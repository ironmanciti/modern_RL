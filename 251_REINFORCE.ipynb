{
 "cells": [
  {
   "cell_type": "markdown",
   "id": "b961f69b",
   "metadata": {
    "id": "b961f69b"
   },
   "source": [
    "# 251. REINFORCE Algorithm\n",
    "\n",
    "- Monte-Carlo method를 통해 구한 episodic sample 의 estimated return을 이용하여 policy parameter 𝜃를 update해 나가는 기법\n",
    "\n",
    "- REINFORCE 갱신 규칙\n",
    "\n",
    "$$\\Delta\\theta_t = \\alpha\\nabla_\\theta\\log{\\pi_\\theta}(s, a)G_t$$\n",
    "\n",
    "- 따라서, Loss function 은 \n",
    "$$-G_t\\log{\\pi_\\theta}(s, a)$$\n",
    "\n",
    "```\n",
    "                log_prob = torch.log(pi(state_tensor))\n",
    "                selected_log_probs = reward_tensor * \\\n",
    "                        torch.gather(log_prob, 1, action_tensor.unsqueeze(1)).squeeze()\n",
    "                loss = -1 * selected_log_probs.mean()\n",
    "```"
   ]
  },
  {
   "cell_type": "code",
   "execution_count": 14,
   "id": "66LOQ1jzfjux",
   "metadata": {
    "id": "66LOQ1jzfjux"
   },
   "outputs": [],
   "source": [
    "# 2D physics library\n",
    "!pip3 install -q box2d-py\n",
    "\n",
    "# # install dependencies needed for recording videos\n",
    "!apt-get install -y xvfb x11-utils > tmp\n",
    "!pip install -q pyvirtualdisplay==0.2.*"
   ]
  },
  {
   "cell_type": "code",
   "execution_count": null,
   "id": "zttSufFHftAs",
   "metadata": {
    "id": "zttSufFHftAs"
   },
   "outputs": [],
   "source": [
    "from IPython import display\n",
    "import matplotlib.pyplot as plt\n",
    "import gym\n",
    "from IPython.display import HTML\n",
    "from pyvirtualdisplay import Display\n",
    "from gym.wrappers.monitoring.video_recorder import VideoRecorder\n",
    "from base64 import b64encode"
   ]
  },
  {
   "cell_type": "code",
   "execution_count": 16,
   "id": "dab7945e",
   "metadata": {
    "colab": {
     "base_uri": "https://localhost:8080/"
    },
    "id": "dab7945e",
    "outputId": "f3ba3ed9-5b0d-4c6c-f1b2-eb09d81c6b27"
   },
   "outputs": [
    {
     "name": "stdout",
     "output_type": "stream",
     "text": [
      "cuda:0\n"
     ]
    }
   ],
   "source": [
    "import gym\n",
    "import matplotlib.pyplot as plt\n",
    "from IPython import display\n",
    "import numpy as np\n",
    "import torch \n",
    "import torch.nn as nn\n",
    "import torch.nn.functional as F\n",
    "import torch.optim as optim\n",
    "from torch.distributions import Categorical;\n",
    "import time\n",
    "import os\n",
    "\n",
    "device = torch.device('cuda:0' if torch.cuda.is_available() else 'cpu')\n",
    "print(device)"
   ]
  },
  {
   "cell_type": "markdown",
   "id": "qCER-H6cO7Rh",
   "metadata": {
    "id": "qCER-H6cO7Rh"
   },
   "source": [
    "<img src=\"https://miro.medium.com/max/1400/1*4RncZNj1ij5A5eMJpexhrw.png\" width=700/>"
   ]
  },
  {
   "cell_type": "markdown",
   "id": "6814aa4c",
   "metadata": {
    "id": "6814aa4c"
   },
   "source": [
    "### 환경 초기화"
   ]
  },
  {
   "cell_type": "code",
   "execution_count": 17,
   "id": "lcYqBBfaQ_N5",
   "metadata": {
    "colab": {
     "base_uri": "https://localhost:8080/"
    },
    "id": "lcYqBBfaQ_N5",
    "outputId": "676362e3-44e4-42ad-d761-a337e4c8a993"
   },
   "outputs": [
    {
     "name": "stdout",
     "output_type": "stream",
     "text": [
      "[0 1]\n",
      "(4,) 2\n"
     ]
    }
   ],
   "source": [
    "env = gym.make('LunarLander-v2')\n",
    "#env = gym.make('CartPole-v1')\n",
    "\n",
    "action_space = np.arange(env.action_space.n)\n",
    "print(action_space)\n",
    "print(env.observation_space.shape, env.action_space.n)"
   ]
  },
  {
   "cell_type": "markdown",
   "id": "420cc627",
   "metadata": {
    "id": "420cc627"
   },
   "source": [
    "### Policy Network 생성"
   ]
  },
  {
   "cell_type": "code",
   "execution_count": 18,
   "id": "31JBeBI4Q8Ye",
   "metadata": {
    "colab": {
     "base_uri": "https://localhost:8080/"
    },
    "id": "31JBeBI4Q8Ye",
    "outputId": "023d64ce-c722-446f-9058-c42bdfbdbc54"
   },
   "outputs": [
    {
     "data": {
      "text/plain": [
       "PolicyNetwork(\n",
       "  (fc1): Linear(in_features=4, out_features=128, bias=True)\n",
       "  (fc2): Linear(in_features=128, out_features=64, bias=True)\n",
       "  (fc3): Linear(in_features=64, out_features=2, bias=True)\n",
       ")"
      ]
     },
     "execution_count": 18,
     "metadata": {},
     "output_type": "execute_result"
    }
   ],
   "source": [
    "# A differentiable policy parameterization pi(a|s,theta)\n",
    "class PolicyNetwork(nn.Module):\n",
    "    def __init__(self, input_dims, n_actions):\n",
    "        super(PolicyNetwork, self).__init__()\n",
    "        self.fc1 = nn.Linear(*input_dims, 128)\n",
    "        self.fc2 = nn.Linear(128, 64)\n",
    "        self.fc3 = nn.Linear(64, n_actions)\n",
    "\n",
    "    def forward(self, state):\n",
    "        x = F.relu(self.fc1(state))\n",
    "        x = F.relu(self.fc2(x))\n",
    "        prob = F.softmax(self.fc3(x), dim=-1)\n",
    "        return prob\n",
    "\n",
    "#Initialize the parameters theta\n",
    "pi = PolicyNetwork(input_dims=env.observation_space.shape, \n",
    "                              n_actions=env.action_space.n).to(device)\n",
    "pi"
   ]
  },
  {
   "cell_type": "markdown",
   "id": "0cce56db",
   "metadata": {
    "id": "0cce56db"
   },
   "source": [
    "### hyper-parameters 설정, reward 계산 도우미 함수 생성"
   ]
  },
  {
   "cell_type": "code",
   "execution_count": 19,
   "id": "5mlis98IThmm",
   "metadata": {
    "id": "5mlis98IThmm"
   },
   "outputs": [],
   "source": [
    "#Select step-size parameters 0<alpha<1\n",
    "alpha = 0.001     \n",
    "#Choose discount rate 0<gamma<1\n",
    "gamma = 0.99\n",
    "#Chose max number of episodes N\n",
    "N = 10_000        \n",
    "# Choose number of episodes to batch together for an update K >= 1\n",
    "batch_size = 32\n",
    "\n",
    "optimizer = optim.Adam(pi.parameters(), lr=alpha)\n",
    "\n",
    "# rendering = True\n",
    "total_rewards = []\n",
    "\n",
    "def discount_rewards(rewards):\n",
    "    Returns = []\n",
    "    G = 0\n",
    "    for r in rewards[::-1]:\n",
    "        G = r + gamma * G\n",
    "        Returns.append(G)\n",
    "    # cumsum의 배열 방향을 반대로 한 다음 원래 순서로 되돌립니다.\n",
    "    Returns = np.array(Returns[::-1], dtype=np.float64)\n",
    "    # return Returns - Returns.mean()\n",
    "    return Returns"
   ]
  },
  {
   "cell_type": "markdown",
   "id": "48d9655c",
   "metadata": {
    "id": "48d9655c"
   },
   "source": [
    "### main algorithm 작성 / Train\n",
    "- `CartPole-v0`의 경우 train 약 10 분 소요\n",
    "- `LunarLander-v2` 의 경우 train 시간 약 1 시간 소요\n",
    "- 시간 부족할 경우 이미 훈련된  `251_REINFORCE_LunarLander-V2.pth` 를 load 하여 시각화 Test "
   ]
  },
  {
   "cell_type": "code",
   "execution_count": 20,
   "id": "b6a699c1",
   "metadata": {
    "colab": {
     "base_uri": "https://localhost:8080/"
    },
    "id": "b6a699c1",
    "outputId": "30de21df-96c3-4bf6-e3de-16f30c93dbbd",
    "scrolled": false
   },
   "outputs": [
    {
     "name": "stdout",
     "output_type": "stream",
     "text": [
      "episode 0,  최근 100 episode 평균 reward  12.00\n"
     ]
    },
    {
     "name": "stderr",
     "output_type": "stream",
     "text": [
      "/usr/local/lib/python3.7/dist-packages/ipykernel_launcher.py:45: UserWarning: Creating a tensor from a list of numpy.ndarrays is extremely slow. Please consider converting the list to a single numpy.ndarray with numpy.array() before converting to a tensor. (Triggered internally at  ../torch/csrc/utils/tensor_new.cpp:210.)\n"
     ]
    },
    {
     "name": "stdout",
     "output_type": "stream",
     "text": [
      "episode 100,  최근 100 episode 평균 reward  22.65\n",
      "episode 200,  최근 100 episode 평균 reward  26.81\n",
      "episode 300,  최근 100 episode 평균 reward  26.76\n",
      "episode 400,  최근 100 episode 평균 reward  37.53\n",
      "episode 500,  최근 100 episode 평균 reward  32.49\n",
      "episode 600,  최근 100 episode 평균 reward  39.39\n",
      "episode 700,  최근 100 episode 평균 reward  42.80\n",
      "episode 800,  최근 100 episode 평균 reward  47.07\n",
      "episode 900,  최근 100 episode 평균 reward  51.73\n",
      "episode 1000,  최근 100 episode 평균 reward  58.69\n",
      "episode 1100,  최근 100 episode 평균 reward  65.01\n",
      "episode 1200,  최근 100 episode 평균 reward  81.08\n",
      "episode 1300,  최근 100 episode 평균 reward  93.58\n",
      "episode 1400,  최근 100 episode 평균 reward  112.36\n",
      "episode 1500,  최근 100 episode 평균 reward  131.46\n",
      "episode 1600,  최근 100 episode 평균 reward  145.91\n",
      "episode 1700,  최근 100 episode 평균 reward  161.92\n",
      "episode 1800,  최근 100 episode 평균 reward  176.64\n",
      "episode 1900,  최근 100 episode 평균 reward  179.31\n",
      "episode 2000,  최근 100 episode 평균 reward  184.73\n",
      "episode 2100,  최근 100 episode 평균 reward  188.77\n",
      "episode 2200,  최근 100 episode 평균 reward  191.39\n",
      "episode 2300,  최근 100 episode 평균 reward  193.29\n",
      "episode 2400,  최근 100 episode 평균 reward  195.01\n",
      "episode 2500,  최근 100 episode 평균 reward  192.76\n",
      "episode 2600,  최근 100 episode 평균 reward  193.48\n",
      "episode 2700,  최근 100 episode 평균 reward  195.70\n",
      "episode 2800,  최근 100 episode 평균 reward  188.78\n",
      "episode 2900,  최근 100 episode 평균 reward  189.75\n",
      "episode 3000,  최근 100 episode 평균 reward  187.71\n",
      "episode 3100,  최근 100 episode 평균 reward  189.08\n",
      "episode 3200,  최근 100 episode 평균 reward  189.52\n",
      "episode 3300,  최근 100 episode 평균 reward  191.29\n",
      "episode 3400,  최근 100 episode 평균 reward  192.61\n",
      "episode 3500,  최근 100 episode 평균 reward  190.93\n",
      "episode 3600,  최근 100 episode 평균 reward  196.08\n",
      "episode 3700,  최근 100 episode 평균 reward  195.76\n",
      "episode 3800,  최근 100 episode 평균 reward  195.98\n",
      "episode 3900,  최근 100 episode 평균 reward  195.19\n",
      "episode 4000,  최근 100 episode 평균 reward  195.46\n",
      "episode 4100,  최근 100 episode 평균 reward  193.79\n",
      "episode 4200,  최근 100 episode 평균 reward  193.46\n",
      "episode 4300,  최근 100 episode 평균 reward  198.49\n",
      "episode 4400,  최근 100 episode 평균 reward  196.90\n",
      "episode 4500,  최근 100 episode 평균 reward  194.07\n",
      "episode 4600,  최근 100 episode 평균 reward  195.09\n",
      "episode 4700,  최근 100 episode 평균 reward  197.47\n",
      "episode 4800,  최근 100 episode 평균 reward  197.82\n",
      "episode 4900,  최근 100 episode 평균 reward  196.85\n",
      "episode 5000,  최근 100 episode 평균 reward  197.32\n",
      "episode 5100,  최근 100 episode 평균 reward  196.03\n",
      "episode 5200,  최근 100 episode 평균 reward  195.65\n",
      "episode 5300,  최근 100 episode 평균 reward  193.32\n",
      "episode 5400,  최근 100 episode 평균 reward  196.93\n",
      "episode 5500,  최근 100 episode 평균 reward  197.27\n",
      "episode 5600,  최근 100 episode 평균 reward  197.50\n",
      "episode 5700,  최근 100 episode 평균 reward  197.56\n",
      "episode 5800,  최근 100 episode 평균 reward  198.46\n",
      "episode 5900,  최근 100 episode 평균 reward  196.89\n",
      "episode 6000,  최근 100 episode 평균 reward  193.66\n",
      "episode 6100,  최근 100 episode 평균 reward  197.49\n",
      "episode 6200,  최근 100 episode 평균 reward  197.80\n",
      "episode 6300,  최근 100 episode 평균 reward  195.12\n",
      "episode 6400,  최근 100 episode 평균 reward  200.00\n",
      "episode 6500,  최근 100 episode 평균 reward  200.00\n",
      "episode 6600,  최근 100 episode 평균 reward  199.17\n",
      "episode 6700,  최근 100 episode 평균 reward  197.63\n",
      "episode 6800,  최근 100 episode 평균 reward  199.56\n",
      "episode 6900,  최근 100 episode 평균 reward  199.55\n",
      "episode 7000,  최근 100 episode 평균 reward  198.31\n",
      "episode 7100,  최근 100 episode 평균 reward  199.91\n",
      "episode 7200,  최근 100 episode 평균 reward  199.18\n",
      "episode 7300,  최근 100 episode 평균 reward  198.42\n",
      "episode 7400,  최근 100 episode 평균 reward  199.96\n",
      "episode 7500,  최근 100 episode 평균 reward  198.27\n",
      "episode 7600,  최근 100 episode 평균 reward  197.92\n",
      "episode 7700,  최근 100 episode 평균 reward  200.00\n",
      "episode 7800,  최근 100 episode 평균 reward  197.94\n",
      "episode 7900,  최근 100 episode 평균 reward  195.95\n",
      "episode 8000,  최근 100 episode 평균 reward  198.97\n",
      "episode 8100,  최근 100 episode 평균 reward  196.65\n",
      "episode 8200,  최근 100 episode 평균 reward  198.72\n",
      "episode 8300,  최근 100 episode 평균 reward  197.65\n",
      "episode 8400,  최근 100 episode 평균 reward  199.43\n",
      "episode 8500,  최근 100 episode 평균 reward  196.27\n",
      "episode 8600,  최근 100 episode 평균 reward  200.00\n",
      "episode 8700,  최근 100 episode 평균 reward  200.00\n",
      "episode 8800,  최근 100 episode 평균 reward  199.07\n",
      "episode 8900,  최근 100 episode 평균 reward  188.52\n",
      "episode 9000,  최근 100 episode 평균 reward  170.15\n",
      "episode 9100,  최근 100 episode 평균 reward  178.56\n",
      "episode 9200,  최근 100 episode 평균 reward  196.91\n",
      "episode 9300,  최근 100 episode 평균 reward  199.28\n",
      "episode 9400,  최근 100 episode 평균 reward  196.23\n",
      "episode 9500,  최근 100 episode 평균 reward  177.73\n",
      "episode 9600,  최근 100 episode 평균 reward  152.54\n",
      "episode 9700,  최근 100 episode 평균 reward  154.54\n",
      "episode 9800,  최근 100 episode 평균 reward  188.71\n",
      "episode 9900,  최근 100 episode 평균 reward  198.40\n"
     ]
    }
   ],
   "source": [
    "start_time = time.time()\n",
    "batch_rewards = []\n",
    "batch_actions = []\n",
    "batch_states = []\n",
    "batch_counter = 1\n",
    "\n",
    "# While episode n < N do: (training의 안정성 제고)\n",
    "for episode in range(N):\n",
    "   \n",
    "    s = env.reset()\n",
    "\n",
    "    # for K batches do:\n",
    "    states = []\n",
    "    rewards = []\n",
    "    actions = []\n",
    "\n",
    "    done = False\n",
    "    # Generate an episode s0, a0, r0,...st,at,rt following policy pi(a|s,theta)\n",
    "    while not done:\n",
    "        probs = pi(torch.FloatTensor(s).to(device)).detach().cpu().numpy()\n",
    "        a = np.random.choice(action_space, p=probs)\n",
    "       \n",
    "        s_, r, done, _ = env.step(a)\n",
    "        \n",
    "        states.append(s)\n",
    "        rewards.append(r)\n",
    "        actions.append(a)\n",
    "  \n",
    "        s = s_\n",
    "        \n",
    "#         if rendering and (episode > N * 0.98):\n",
    "#             env.render()\n",
    "        \n",
    "        if done:\n",
    "            # for each step in the eposide(t), discount reward do:\n",
    "            # G_t = sum from t=1 to t=T {gamma^t * R_t}\n",
    "            batch_rewards.extend(discount_rewards(rewards))\n",
    "            batch_states.extend(states)\n",
    "            batch_actions.extend(actions)\n",
    "            batch_counter += 1\n",
    "            total_rewards.append(sum(rewards))\n",
    "        \n",
    "            # If batch is complete, update network\n",
    "            if batch_counter == batch_size:    \n",
    "                state_tensor = torch.FloatTensor(batch_states).to(device)\n",
    "                reward_tensor = torch.FloatTensor(batch_rewards).to(device)\n",
    "                action_tensor = torch.LongTensor(batch_actions).to(device)\n",
    "                \n",
    "                # Calculate policy loss for all episides in the batch \n",
    "                # L(theta) = -1/m sum(ln(G_t pi(a|s,theta)))))\n",
    "                log_prob = torch.log(pi(state_tensor))\n",
    "                selected_log_probs = reward_tensor * \\\n",
    "                        torch.gather(log_prob, 1, action_tensor.unsqueeze(1)).squeeze()\n",
    "                \n",
    "                loss = -1 * selected_log_probs.mean()\n",
    "    \n",
    "                # Update the policy: \n",
    "                # theta <- theta + alpha * grad[L(theat)]\n",
    "                optimizer.zero_grad()\n",
    "                loss.backward()\n",
    "                optimizer.step()\n",
    "\n",
    "                batch_rewards = []\n",
    "                batch_actions = []\n",
    "                batch_states = []\n",
    "                batch_counter = 1\n",
    "                \n",
    "    if episode % 100 == 0:\n",
    "        avg_score = np.mean(total_rewards[-100:])\n",
    "        print(f'episode {episode},  최근 100 episode 평균 reward {avg_score: .2f}')\n",
    "\n",
    "env.close()"
   ]
  },
  {
   "cell_type": "code",
   "execution_count": 21,
   "id": "J9lUEDW7Nz8r",
   "metadata": {
    "id": "J9lUEDW7Nz8r"
   },
   "outputs": [],
   "source": [
    "#torch.save(pi.state_dict(), '251_REINFORCE_LunarLander-V2.pth')"
   ]
  },
  {
   "cell_type": "markdown",
   "id": "8840559f",
   "metadata": {
    "id": "8840559f"
   },
   "source": [
    "### reward 변화 시각화"
   ]
  },
  {
   "cell_type": "code",
   "execution_count": 27,
   "id": "d4f361c8",
   "metadata": {
    "colab": {
     "base_uri": "https://localhost:8080/",
     "height": 300
    },
    "id": "d4f361c8",
    "outputId": "e1b891d6-8ee9-40f2-954c-c21735f5ea09"
   },
   "outputs": [
    {
     "name": "stdout",
     "output_type": "stream",
     "text": [
      "duration =  12.173482994238535 minutes\n"
     ]
    },
    {
     "data": {
      "image/png": "[encoded data removed]",
      "text/plain": [
       "<Figure size 432x288 with 1 Axes>"
      ]
     },
     "metadata": {
      "needs_background": "light"
     },
     "output_type": "display_data"
    }
   ],
   "source": [
    "print(\"duration = \", (time.time() - start_time) / 60, \"minutes\")\n",
    "\n",
    "running_avg = np.zeros(len(total_rewards))\n",
    "\n",
    "for i in range(len(running_avg)):\n",
    "    running_avg[i] = np.mean(total_rewards[max(0, i-100):(i+1)])\n",
    "    \n",
    "plt.plot(running_avg)\n",
    "plt.title('Running average of previous 100 rewards')\n",
    "plt.show()"
   ]
  },
  {
   "cell_type": "markdown",
   "id": "4qxsHHDlOW82",
   "metadata": {
    "id": "4qxsHHDlOW82"
   },
   "source": [
    "### 이미 학습되어 저장된 model load"
   ]
  },
  {
   "cell_type": "code",
   "execution_count": 28,
   "id": "Yo-67zdUOVt5",
   "metadata": {
    "id": "Yo-67zdUOVt5"
   },
   "outputs": [],
   "source": [
    "reload = False  # 저장된 모델 사용시  True 로 변경\n",
    "if reload:\n",
    "    pi = PolicyNetwork(input_dims=env.observation_space.shape, \n",
    "                                n_actions=env.action_space.n).to(device)\n",
    "                                \n",
    "    pi.load_state_dict(torch.load('251_REINFORCE_LunarLander-V2.pth'))"
   ]
  },
  {
   "cell_type": "markdown",
   "id": "2f5d550b",
   "metadata": {
    "id": "2f5d550b"
   },
   "source": [
    "### Animate it with Video"
   ]
  },
  {
   "cell_type": "code",
   "execution_count": 29,
   "id": "xmiYpUDWXPXz",
   "metadata": {
    "id": "xmiYpUDWXPXz"
   },
   "outputs": [],
   "source": [
    "display = Display(visible=False, size=(1400, 900))\n",
    "_ = display.start()    # start display\n",
    "\n",
    "def render_mp4(videopath: str) -> str:\n",
    "  \"\"\"\n",
    "  지정된 경로에 있는 MP4 비디오의 b4 인코딩 버전을 포함하는 문자열을 가져옵니다.\n",
    "  \"\"\"\n",
    "  mp4 = open(videopath, 'rb').read()\n",
    "  base64_encoded_mp4 = b64encode(mp4).decode()\n",
    "  return f'<video width=400 controls><source src=\"data:video/mp4;' \\\n",
    "         f'base64,{base64_encoded_mp4}\" type=\"video/mp4\"></video>'"
   ]
  },
  {
   "cell_type": "code",
   "execution_count": 32,
   "id": "NdpOPpEHXQ5f",
   "metadata": {
    "id": "NdpOPpEHXQ5f"
   },
   "outputs": [],
   "source": [
    "file = \"train.mp4\"\n",
    "video = VideoRecorder(env, file)\n",
    "\n",
    "# 시각화\n",
    "state = env.reset()\n",
    "done = False\n",
    "while not done:\n",
    "    env.render()\n",
    "    video.capture_frame()\n",
    "\n",
    "    with torch.no_grad():\n",
    "        probs = pi(torch.FloatTensor(state).to(device)).detach().cpu().numpy()\n",
    "        \n",
    "    a = np.random.choice(action_space, p=probs)\n",
    "\n",
    "    next_state, reward, done, _ = env.step(a)\n",
    "    state = next_state\n",
    "\n",
    "env.close()\n",
    "video.close()"
   ]
  },
  {
   "cell_type": "code",
   "execution_count": 33,
   "id": "8e009f7c",
   "metadata": {
    "colab": {
     "base_uri": "https://localhost:8080/",
     "height": 287
    },
    "id": "8e009f7c",
    "outputId": "4bcc88ff-50be-4337-a917-eeebfcce5af5"
   },
   "outputs": [
    {
     "data": {
      "text/html": [
       "<video width=400 controls><source src=\"data:video/mp4;base64,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\" type=\"video/mp4\"></video>"
      ],
      "text/plain": [
       "<IPython.core.display.HTML object>"
      ]
     },
     "execution_count": 33,
     "metadata": {},
     "output_type": "execute_result"
    }
   ],
   "source": [
    "file = \"train.mp4\"\n",
    "\n",
    "html = render_mp4(file)\n",
    "HTML(html)"
   ]
  },
  {
   "cell_type": "code",
   "execution_count": 26,
   "id": "cd3989ad",
   "metadata": {
    "id": "cd3989ad"
   },
   "outputs": [],
   "source": []
  }
 ],
 "metadata": {
  "accelerator": "GPU",
  "colab": {
   "name": "251_REINFORCE.ipynb",
   "provenance": []
  },
  "kernelspec": {
   "display_name": "Python 3 (ipykernel)",
   "language": "python",
   "name": "python3"
  },
  "language_info": {
   "codemirror_mode": {
    "name": "ipython",
    "version": 3
   },
   "file_extension": ".py",
   "mimetype": "text/x-python",
   "name": "python",
   "nbconvert_exporter": "python",
   "pygments_lexer": "ipython3",
   "version": "3.8.12"
  }
 },
 "nbformat": 4,
 "nbformat_minor": 5
}
