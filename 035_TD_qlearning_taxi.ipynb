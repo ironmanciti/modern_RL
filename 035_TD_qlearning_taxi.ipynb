{
 "cells": [
  {
   "cell_type": "markdown",
   "id": "above-appraisal",
   "metadata": {
    "id": "dbc339de"
   },
   "source": [
    "# 035_TD_qlearning_taxi\n",
    "## Q-Learning (off-policy TD control) for estimating $\\pi = \\pi^*$\n",
    "```\n",
    "6 discrete deterministic actions:\n",
    "    - 0: move south\n",
    "    - 1: move north\n",
    "    - 2: move east\n",
    "    - 3: move west\n",
    "    - 4: pickup passenger\n",
    "    - 5: drop off passenger\n",
    "    \n",
    "5 Passenger locations:\n",
    "    - 0: R\n",
    "    - 1: G\n",
    "    - 2: Y\n",
    "    - 3: B\n",
    "    - 4: in taxi\n",
    "\n",
    "4 Destinations:\n",
    "    - 0: R\n",
    "    - 1: G\n",
    "    - 2: Y\n",
    "    - 3: B\n",
    "    \n",
    "state space is represented by:\n",
    "        (taxi_row, taxi_col, passenger_location, destination)\n",
    "          5 * 5 * 5 * 4 = 500\n",
    "\n",
    "Rewards:\n",
    "    per-step : -1,\n",
    "    승객을 배달 : +20,\n",
    "    \"픽업\" 및 \"하차\" 행위를 불법으로 실행 : -10\n",
    "    \n",
    "파란색: 승객 - 4 개의 위치 중 승객이 기다리는 곳 표시\n",
    "마젠타색: 목적지\n",
    "노란색: 빈 택시 - 승객을 내려주고 난 빈 택시 표시\n",
    "녹색: - 승객이 탑승한 택시 표시\n",
    "```\n",
    "<img src=\"https://miro.medium.com/max/1260/1*toX5ZWcYxXtsaXE6hQJ1ag.png\" width=500 />"
   ]
  },
  {
   "cell_type": "code",
   "execution_count": 1,
   "id": "demographic-tobacco",
   "metadata": {
    "id": "c5b44f71"
   },
   "outputs": [],
   "source": [
    "import gym\n",
    "import matplotlib.pyplot as plt\n",
    "import numpy as np\n",
    "from collections import defaultdict\n",
    "import time\n",
    "import os\n",
    "\n",
    "#Algorithm parameter: stepsize alpha (0,1], small e > 0\n",
    "GAMMA = 0.99  # time decay\n",
    "ALPHA = 0.9  # learning rate\n",
    "epsilon = 0.7 # exploration start\n",
    "epsilon_final = 0.1\n",
    "epsilon_decay = 0.9999\n",
    "num_episodes = 1_000\n",
    "rendering = True  #시각화 여부\n",
    "\n",
    "env = gym.make('Taxi-v3')\n",
    "num_states = env.observation_space.n  # 500\n",
    "num_actions = env.action_space.n      # 6\n",
    "\n",
    "frames = [] "
   ]
  },
  {
   "cell_type": "markdown",
   "id": "alleged-fundamental",
   "metadata": {
    "id": "85bab53c"
   },
   "source": [
    "<img src=\"https://blog.kakaocdn.net/dn/Xmyub/btqydBg48hF/4ZwGr1XshIOWO10P95WZKK/img.jpg\" />"
   ]
  },
  {
   "cell_type": "code",
   "execution_count": 3,
   "id": "absolute-parish",
   "metadata": {
    "colab": {
     "base_uri": "https://localhost:8080/"
    },
    "id": "35108950",
    "outputId": "fb2275f2-ea26-43df-e628-1c62aae2a35f",
    "scrolled": false
   },
   "outputs": [
    {
     "name": "stdout",
     "output_type": "stream",
     "text": [
      "last 100 평균 score is -482.0\n",
      "last 100 평균 score is -312.21\n",
      "last 100 평균 score is -51.86\n",
      "last 100 평균 score is -5.55\n",
      "last 100 평균 score is -1.73\n",
      "last 100 평균 score is 0.52\n",
      "last 100 평균 score is -0.54\n",
      "last 100 평균 score is 0.83\n",
      "last 100 평균 score is 2.77\n",
      "last 100 평균 score is 2.58\n"
     ]
    }
   ],
   "source": [
    "scores = []  # agent 가 episode 별로 얻은 score 기록\n",
    "steps = []  # agent 가 episode 별로 목표를 찾아간 step 수 변화 기록\n",
    "greedy = [] # epsilon delay history 기록\n",
    "\n",
    "#Initialize Q(s,a) for all s, a arbitrarily except Q(terminal,.)=0\n",
    "Q = defaultdict(lambda: np.zeros(num_actions))\n",
    "\n",
    "#Loop for each episode:\n",
    "for episode in range(num_episodes):\n",
    "    #Initialize S\n",
    "    s = env.reset()\n",
    "    #Loop for each step of episode:\n",
    "    step = 0\n",
    "    score = 0\n",
    "    while True:\n",
    "        step += 1\n",
    "        # Choose A from S using policy derived from Q (eg. e-greedy)\n",
    "        # behavior policy : e-greedy\n",
    "        if np.random.rand() < epsilon:\n",
    "            a = env.action_space.sample()\n",
    "        else:\n",
    "            a = np.argmax(Q[s])\n",
    "        \n",
    "        if epsilon > epsilon_final:\n",
    "            epsilon *= epsilon_decay\n",
    "        \n",
    "        #Take action A, observe R, S'\n",
    "        s_, r, done, _ = env.step(a)\n",
    "        score += r\n",
    "        \n",
    "        if rendering and (episode > 0.99 * num_episodes):\n",
    "            frames.append({\n",
    "                'frame': env.render(mode='ansi'),\n",
    "                'state': s,\n",
    "                'action': a,\n",
    "                'reward': r\n",
    "                })\n",
    "        \n",
    "        #Q(S,A) <- Q(S,A) + alpha[R + gamma*max_aQ(S',a) - Q(S, A)]\n",
    "        #자신이 따르는 정책에 상관없이 최적 행동가치함수 q*를 직접 근사\n",
    "        # target policy : greedy policy\n",
    "        Q[s][a] = Q[s][a] + ALPHA * (r + GAMMA * np.max(Q[s_]) - Q[s][a])\n",
    "        #S <- S'\n",
    "        s = s_ \n",
    "        # until S is terminal\n",
    "        if done:\n",
    "            break\n",
    "        \n",
    "    steps.append(step)\n",
    "    scores.append(score)\n",
    "    greedy.append(epsilon)\n",
    "    \n",
    "    if episode % 100 == 0:\n",
    "        print(f\"last 100 평균 score is {np.mean(scores[-100:])}\" )"
   ]
  },
  {
   "cell_type": "code",
   "execution_count": 7,
   "id": "checked-religious",
   "metadata": {
    "colab": {
     "base_uri": "https://localhost:8080/",
     "height": 869
    },
    "id": "7100ae2f",
    "outputId": "edfd4afe-0f10-4e61-f7fb-4d5592c59d2a"
   },
   "outputs": [
    {
     "name": "stdout",
     "output_type": "stream",
     "text": [
      "평균 steps : 32.523\n"
     ]
    },
    {
     "data": {
      "image/png": "[encoded data removed]",
      "text/plain": [
       "<Figure size 432x288 with 1 Axes>"
      ]
     },
     "metadata": {
      "needs_background": "light"
     },
     "output_type": "display_data"
    },
    {
     "data": {
      "image/png": "[encoded data removed]",
      "text/plain": [
       "<Figure size 432x288 with 1 Axes>"
      ]
     },
     "metadata": {
      "needs_background": "light"
     },
     "output_type": "display_data"
    },
    {
     "data": {
      "image/png": "[encoded data removed]",
      "text/plain": [
       "<Figure size 432x288 with 1 Axes>"
      ]
     },
     "metadata": {
      "needs_background": "light"
     },
     "output_type": "display_data"
    }
   ],
   "source": [
    "print('평균 steps : {}'.format(np.mean(steps)))\n",
    "\n",
    "plt.bar(np.arange(len(steps)), steps)\n",
    "plt.title(\"Steps of Taxi-v3- gamma: {}, alpha: {}\".format(GAMMA, ALPHA))\n",
    "plt.xlabel('episode')\n",
    "plt.ylabel('steps per episode')\n",
    "plt.show()\n",
    "\n",
    "plt.bar(np.arange(len(scores)), scores)\n",
    "plt.title(\"Scores of Taxi-v3- gamma: {}, alpha: {}\".format(\n",
    "                    GAMMA, ALPHA))\n",
    "plt.xlabel('episode')\n",
    "plt.ylabel('score per episode')\n",
    "plt.show()\n",
    "\n",
    "plt.bar(np.arange(len(greedy)), greedy)\n",
    "plt.title(\"Epsilon decay history - epsilon: {}, decay: {}\".format(\n",
    "                    epsilon, epsilon_decay))\n",
    "plt.xlabel('episode')\n",
    "plt.ylabel('epsilon per episode')\n",
    "plt.show()"
   ]
  },
  {
   "cell_type": "code",
   "execution_count": 8,
   "id": "little-universal",
   "metadata": {
    "colab": {
     "base_uri": "https://localhost:8080/"
    },
    "id": "76c65c8e",
    "outputId": "01fe6467-2a4f-413a-eca8-e8f8297bc2ed"
   },
   "outputs": [
    {
     "name": "stdout",
     "output_type": "stream",
     "text": [
      "+---------+\n",
      "|R: | : :G|\n",
      "| : | : : |\n",
      "| : : : : |\n",
      "| | : | : |\n",
      "|\u001b[35m\u001b[34;1m\u001b[43mY\u001b[0m\u001b[0m\u001b[0m| : |B: |\n",
      "+---------+\n",
      "  (Dropoff)\n",
      "\n",
      "Timestep: 150\n",
      "State: 418\n",
      "Action: 5\n",
      "Reward: 20\n"
     ]
    }
   ],
   "source": [
    "from IPython.display import clear_output\n",
    "from time import sleep\n",
    "\n",
    "for i, frame in enumerate(frames):\n",
    "    clear_output(wait=True)\n",
    "    print(frame['frame'])\n",
    "    print(f\"Timestep: {i + 1}\")\n",
    "    print(f\"State: {frame['state']}\")\n",
    "    print(f\"Action: {frame['action']}\")\n",
    "    print(f\"Reward: {frame['reward']}\")\n",
    "    sleep(.5)"
   ]
  }
 ],
 "metadata": {
  "colab": {
   "name": "035_TD_qlearning_taxi.ipynb",
   "provenance": []
  },
  "kernelspec": {
   "display_name": "Python 3 (ipykernel)",
   "language": "python",
   "name": "python3"
  },
  "language_info": {
   "codemirror_mode": {
    "name": "ipython",
    "version": 3
   },
   "file_extension": ".py",
   "mimetype": "text/x-python",
   "name": "python",
   "nbconvert_exporter": "python",
   "pygments_lexer": "ipython3",
   "version": "3.8.12"
  }
 },
 "nbformat": 4,
 "nbformat_minor": 5
}
